{
 "cells": [
  {
   "cell_type": "markdown",
   "id": "95b3e237",
   "metadata": {},
   "source": [
    "# `XArray` Introduction\n",
    "\n",
    "In this notebook, we are going to learn how to create and manipulate `xarray` datasets and data arrays for geospatial data analysis.\n",
    "\n",
    "Design goals for xarray:\n",
    "\n",
    "> \"pandas for N-dimensional arrays\"\n",
    "- Built on pandas + NumPy + Dask.\n",
    "- Copied the pandas API.\n",
    "- Motivated by weather & climate use cases.\n",
    "\n",
    "We are going to focus on **2 object types** of interest, the `DataArray` & `DataSet`:\n",
    "\n",
    "- `DataArray`: Represents a single variable (example: `t2m`).\n",
    "- `DataSet`: a collection of variables. It generalizes `DataArray` for multi-variate data science.\n",
    "    - Similar to the difference between Pandas's `DataFrame` and `Series`."
   ]
  },
  {
   "cell_type": "code",
   "execution_count": null,
   "id": "9d79fa9e",
   "metadata": {
    "ExecuteTime": {
     "end_time": "2021-08-16T10:19:08.531941Z",
     "start_time": "2021-08-16T10:19:08.530233Z"
    },
    "tags": []
   },
   "outputs": [],
   "source": [
    "from pathlib import Path\n",
    "from datetime import datetime, timedelta\n",
    "\n",
    "import numpy as np\n",
    "import pandas as pd\n",
    "import geopandas as gpd\n",
    "import xarray as xr\n",
    "import rioxarray\n",
    "import matplotlib.pyplot as plt\n",
    "\n",
    "from shapely.geometry import box\n",
    "from rasterio.enums import Resampling\n",
    "from geocube.api.core import make_geocube\n",
    "\n",
    "# Set the seed\n",
    "np.random.seed(0)"
   ]
  },
  {
   "cell_type": "markdown",
   "id": "44dd5e8c",
   "metadata": {},
   "source": [
    "## `DataArray`\n",
    "\n",
    "Let's start by creating a data array from synthetically-generated values:"
   ]
  },
  {
   "cell_type": "code",
   "execution_count": null,
   "id": "3fa598fd-20e0-4e03-8c36-cd7a00608fdf",
   "metadata": {
    "tags": []
   },
   "outputs": [],
   "source": [
    "# Create the NumPy array that has the data cube values\n",
    "# description: 3D array filled with 1s\n",
    "arr = np.ones((3, 4, 2))\n",
    "arr"
   ]
  },
  {
   "cell_type": "code",
   "execution_count": null,
   "id": "9181176e-9e2c-460d-812f-f93802c2d470",
   "metadata": {
    "tags": []
   },
   "outputs": [],
   "source": [
    "# We set the dimension names (x, y, and z)\n",
    "dim_names = (\"x\", \"y\", \"z\")"
   ]
  },
  {
   "cell_type": "code",
   "execution_count": null,
   "id": "d94d20d4-449d-4823-9c26-647d38953858",
   "metadata": {
    "tags": []
   },
   "outputs": [],
   "source": [
    "# We also set a name for our data array (represents the variable name. Example: 2m-temperature)\n",
    "var_name = \"var\""
   ]
  },
  {
   "cell_type": "code",
   "execution_count": null,
   "id": "aa32b753-4129-4ce1-ac04-d63ceefdf9fa",
   "metadata": {
    "tags": []
   },
   "outputs": [],
   "source": [
    "# Set the coordinate values for `x` and `z` \n",
    "# `y` coordinates will be inferred by the library\n",
    "coords = {\n",
    "    \"x\": [0.1, 1.2, 2.3],\n",
    "    \"z\": [-1, 1]\n",
    "}"
   ]
  },
  {
   "cell_type": "code",
   "execution_count": null,
   "id": "2e8dd16d-8703-4939-bf33-eacd05596dd7",
   "metadata": {
    "tags": []
   },
   "outputs": [],
   "source": [
    "# We create metadata for the dataset\n",
    "metadata = {\"description\": \"This dataset has been created for demonstrative purposes.\"}"
   ]
  },
  {
   "cell_type": "code",
   "execution_count": null,
   "id": "2aaf631b-38f1-4fbe-b9e7-54928a962d01",
   "metadata": {
    "tags": []
   },
   "outputs": [],
   "source": [
    "# Finally, we create the data array using all of the above information\n",
    "da = xr.DataArray(\n",
    "    data=arr,\n",
    "    dims=dim_names,\n",
    "    name=var_name,\n",
    "    coords=coords,\n",
    "    attrs=metadata\n",
    ")\n",
    "\n",
    "# Check the data array\n",
    "da"
   ]
  },
  {
   "cell_type": "markdown",
   "id": "b906fdb3",
   "metadata": {},
   "source": [
    "We can directly get the underlying `data` (returns either a numpy or dask array):"
   ]
  },
  {
   "cell_type": "code",
   "execution_count": null,
   "id": "b9b7c600",
   "metadata": {
    "tags": []
   },
   "outputs": [],
   "source": [
    "da.data"
   ]
  },
  {
   "cell_type": "markdown",
   "id": "addf2ddf",
   "metadata": {},
   "source": [
    "We can also check the dimensions of the data array:"
   ]
  },
  {
   "cell_type": "code",
   "execution_count": null,
   "id": "288e6708",
   "metadata": {
    "tags": []
   },
   "outputs": [],
   "source": [
    "da.dims"
   ]
  },
  {
   "cell_type": "markdown",
   "id": "cd993cd0",
   "metadata": {},
   "source": [
    ".. and the coordinates:"
   ]
  },
  {
   "cell_type": "code",
   "execution_count": null,
   "id": "1ccc8e5d",
   "metadata": {
    "tags": []
   },
   "outputs": [],
   "source": [
    "da.coords"
   ]
  },
  {
   "cell_type": "markdown",
   "id": "d673aa70",
   "metadata": {},
   "source": [
    "How about the metadata?"
   ]
  },
  {
   "cell_type": "code",
   "execution_count": null,
   "id": "2e9720a7",
   "metadata": {
    "tags": []
   },
   "outputs": [],
   "source": [
    "da.attrs"
   ]
  },
  {
   "cell_type": "markdown",
   "id": "832e858c",
   "metadata": {},
   "source": [
    "Let's create a data array named `alts` from random data with dimensions \"latitude\" and \"longitude\":"
   ]
  },
  {
   "cell_type": "code",
   "execution_count": null,
   "id": "9ccca74d",
   "metadata": {
    "tags": []
   },
   "outputs": [],
   "source": [
    "# Set the seed for the random generator\n",
    "rng = np.random.default_rng(seed=0)\n",
    "\n",
    "# Generate the altitude data\n",
    "arr = rng.random((180, 360)) * 400\n",
    "arr.shape"
   ]
  },
  {
   "cell_type": "code",
   "execution_count": null,
   "id": "8c5086ee",
   "metadata": {
    "tags": []
   },
   "outputs": [],
   "source": [
    "# Create the data array\n",
    "da = xr.DataArray(\n",
    "    data=arr,\n",
    "    dims=(\"latitude\", \"longitude\"),\n",
    "    coords={\n",
    "        \"latitude\": (\"latitude\", np.linspace(-90, 90, 180), {\"type\": \"geodetic\"}),\n",
    "        \"longitude\": (\"longitude\", np.linspace(-180, 180, num=360), {\"prime_meridian\": \"greenwich\"})\n",
    "    },\n",
    "    name=\"height\",\n",
    "    attrs={\n",
    "        \"type\": \"Ellipsoid\"\n",
    "    }\n",
    ")\n",
    "da"
   ]
  },
  {
   "cell_type": "markdown",
   "id": "6109dafe",
   "metadata": {},
   "source": [
    "Finally, let's visualize the data array using `XArray`'s matplotlib capabilities:"
   ]
  },
  {
   "cell_type": "code",
   "execution_count": null,
   "id": "e3fac9db",
   "metadata": {
    "tags": []
   },
   "outputs": [],
   "source": [
    "_ = da.plot(figsize=(7,5))"
   ]
  },
  {
   "cell_type": "markdown",
   "id": "c03bbe76",
   "metadata": {},
   "source": [
    "## `Dataset`\n",
    "\n",
    "A `dataset` is a collection of `data arrays`:"
   ]
  },
  {
   "cell_type": "code",
   "execution_count": null,
   "id": "e8bfa391",
   "metadata": {
    "tags": []
   },
   "outputs": [],
   "source": [
    "ds = xr.Dataset(\n",
    "    data_vars={\n",
    "        \"a\": ((\"x\", \"y\"), np.ones((3, 4))),                # 2D Array\n",
    "        \"b\": (\"t\", np.full((8,), 3), {\"attr\": \"value\"})  # 1D array\n",
    "    },\n",
    "    coords={\"x\": [-1, 0, 1]},\n",
    "    attrs={\"attr\": \"value\"}\n",
    ")\n",
    "ds"
   ]
  },
  {
   "cell_type": "markdown",
   "id": "6bc74567",
   "metadata": {},
   "source": [
    "We can define multi-date-type coordinates:"
   ]
  },
  {
   "cell_type": "code",
   "execution_count": null,
   "id": "070651b4",
   "metadata": {
    "tags": []
   },
   "outputs": [],
   "source": [
    "ds = xr.Dataset(\n",
    "    data_vars={\n",
    "        \"a\": ((\"x\", \"y\"), np.ones((3, 4))),\n",
    "        \"b\": ((\"t\", \"x\"), np.full((8, 3), 3))\n",
    "    },\n",
    "    coords={\n",
    "        \"x\": [\"a\", \"b\", \"c\"],                                  # Categories\n",
    "        \"y\": np.arange(4),                                     # Numbers\n",
    "        \"t\": pd.date_range(\"2020-07-05\", periods=8, freq=\"D\")  # Dates\n",
    "    },\n",
    "    attrs={\"attr\": \"value\"}\n",
    ")\n",
    "ds"
   ]
  },
  {
   "cell_type": "markdown",
   "id": "b46caa8f",
   "metadata": {},
   "source": [
    "*Note*: `XArray` uses `nan` as its default missing value."
   ]
  },
  {
   "cell_type": "markdown",
   "id": "46040a26",
   "metadata": {},
   "source": [
    "Let's create a dataset with two variables along `latitude` and `longitude`: `altitude` and `gravity_anomaly`:"
   ]
  },
  {
   "cell_type": "code",
   "execution_count": null,
   "id": "08c776e5",
   "metadata": {
    "ExecuteTime": {
     "end_time": "2021-08-16T10:19:43.708421Z",
     "start_time": "2021-08-16T10:19:43.705315Z"
    },
    "tags": []
   },
   "outputs": [],
   "source": [
    "# Generate the values of the two variables\n",
    "alt = rng.random((180, 360)) * 400\n",
    "gravity_anomaly = rng.random((180, 360)) * 400 - 200\n",
    "\n",
    "# Create the dataset\n",
    "ds = xr.Dataset(\n",
    "    data_vars={\n",
    "        \"altitude\": ((\"latitude\", \"longitude\"), alt, {\"ellipsoid\": \"wgs84\"}),\n",
    "        \"gravity_anomaly\": ((\"latitude\", \"longitude\"), gravity_anomaly, {\"ellipsoid\": \"grs80\"})\n",
    "    },\n",
    "    coords={\n",
    "        \"latitude\": (\"latitude\", np.linspace(-90, 90, num=180), {\"type\": \"geodetic\"}),\n",
    "        \"longitude\": (\"longitude\", np.linspace(-180, 180, num=360), {\"type\": \"greenwich\"})\n",
    "    }\n",
    ")\n",
    "ds"
   ]
  },
  {
   "cell_type": "markdown",
   "id": "a204fa7a",
   "metadata": {},
   "source": [
    "## Data Manipulation\n",
    "\n",
    "Let's demonstrate how we can manipulate `XArray` objects:"
   ]
  },
  {
   "cell_type": "code",
   "execution_count": null,
   "id": "cd80b9cc",
   "metadata": {
    "ExecuteTime": {
     "end_time": "2021-08-16T10:19:46.569031Z",
     "start_time": "2021-08-16T10:19:46.562251Z"
    },
    "tags": []
   },
   "outputs": [],
   "source": [
    "# Create an array\n",
    "arr = np.random.rand(3, 4)\n",
    "\n",
    "# Use it to create a data array\n",
    "da = xr.DataArray(arr, dims=(\"x\", \"y\"))\n",
    "da"
   ]
  },
  {
   "cell_type": "markdown",
   "id": "862e696a",
   "metadata": {},
   "source": [
    "### `isel`\n",
    "\n",
    "Similar to Pandas, we can select by index:"
   ]
  },
  {
   "cell_type": "code",
   "execution_count": null,
   "id": "23f350ba",
   "metadata": {
    "tags": []
   },
   "outputs": [],
   "source": [
    "da.isel(x=1, y=3)"
   ]
  },
  {
   "cell_type": "markdown",
   "id": "7350a8c6",
   "metadata": {},
   "source": [
    "The same applies to datasets:"
   ]
  },
  {
   "cell_type": "code",
   "execution_count": null,
   "id": "a2b74452",
   "metadata": {
    "ExecuteTime": {
     "end_time": "2021-08-16T10:19:48.851331Z",
     "start_time": "2021-08-16T10:19:48.845485Z"
    },
    "tags": []
   },
   "outputs": [],
   "source": [
    "# Create a dataset\n",
    "ds = xr.Dataset(\n",
    "    data_vars={\n",
    "        \"a\": ((\"x\", \"y\"), np.random.rand(3, 4)),\n",
    "        \"b\": ((\"x\", \"y\"), np.random.rand(3, 4))\n",
    "    }\n",
    ")\n",
    "\n",
    "# Select the variable values at the second x/y\n",
    "ds.isel(x=1, y=1)"
   ]
  },
  {
   "cell_type": "markdown",
   "id": "9b3cf4b2",
   "metadata": {},
   "source": [
    "Slicing a data array is also possible:"
   ]
  },
  {
   "cell_type": "code",
   "execution_count": null,
   "id": "f9125962",
   "metadata": {
    "tags": []
   },
   "outputs": [],
   "source": [
    "ds[\"a\"][:2, :1]  # x & y slicing"
   ]
  },
  {
   "cell_type": "markdown",
   "id": "36debaaa",
   "metadata": {},
   "source": [
    ".. same with datasets:"
   ]
  },
  {
   "cell_type": "code",
   "execution_count": null,
   "id": "d11e1b79",
   "metadata": {
    "tags": []
   },
   "outputs": [],
   "source": [
    "ds.isel(x=slice(None, 2), y=slice(None, 1))"
   ]
  },
  {
   "cell_type": "markdown",
   "id": "0640dd7b",
   "metadata": {},
   "source": [
    "### `sel`\n",
    "\n",
    "We use the corrdinate values to directly slice the datasets/arrays:"
   ]
  },
  {
   "cell_type": "markdown",
   "id": "c0d618f6",
   "metadata": {},
   "source": [
    "Let's create a data array with coordinates:"
   ]
  },
  {
   "cell_type": "code",
   "execution_count": null,
   "id": "7513c63c",
   "metadata": {
    "ExecuteTime": {
     "end_time": "2021-08-16T10:20:23.160456Z",
     "start_time": "2021-08-16T10:20:23.151174Z"
    },
    "tags": []
   },
   "outputs": [],
   "source": [
    "da = xr.DataArray(\n",
    "    np.random.rand(4, 6),\n",
    "    dims=(\"x\", \"t\"),\n",
    "    coords={\n",
    "        \"x\": [2, 9.9, 13, 14],\n",
    "        \"t\": pd.date_range(\"2009-01-05\", periods=6, freq=\"M\")\n",
    "    }\n",
    ")\n",
    "da"
   ]
  },
  {
   "cell_type": "markdown",
   "id": "a6dcd670",
   "metadata": {},
   "source": [
    "Select based on the actual grid values:"
   ]
  },
  {
   "cell_type": "code",
   "execution_count": null,
   "id": "64b3f9dd",
   "metadata": {
    "tags": []
   },
   "outputs": [],
   "source": [
    "da.sel(x=9.9, t=\"2009-01-31\")"
   ]
  },
  {
   "cell_type": "markdown",
   "id": "24aefdb7",
   "metadata": {},
   "source": [
    "We we are not sure of the values, we can select by nearest:"
   ]
  },
  {
   "cell_type": "code",
   "execution_count": null,
   "id": "4505ec95",
   "metadata": {
    "tags": []
   },
   "outputs": [],
   "source": [
    "da.sel(x=9.8, t=\"2009-01-13\", method=\"nearest\")"
   ]
  },
  {
   "cell_type": "markdown",
   "id": "00908bcc",
   "metadata": {},
   "source": [
    "We can also slice by values:"
   ]
  },
  {
   "cell_type": "code",
   "execution_count": null,
   "id": "fb66723b",
   "metadata": {
    "tags": []
   },
   "outputs": [],
   "source": [
    "da.sel(x=[9.9, 13], t=slice(\"2009\", \"2010\"))"
   ]
  },
  {
   "cell_type": "markdown",
   "id": "0b046948",
   "metadata": {},
   "source": [
    "We can drop a range (opposite of slicing):"
   ]
  },
  {
   "cell_type": "code",
   "execution_count": null,
   "id": "976f1191",
   "metadata": {
    "tags": []
   },
   "outputs": [],
   "source": [
    "da.drop_sel(x=[9.9, 13])"
   ]
  },
  {
   "cell_type": "markdown",
   "id": "3584767f",
   "metadata": {},
   "source": [
    "## Reading Data"
   ]
  },
  {
   "cell_type": "markdown",
   "id": "462bf470",
   "metadata": {},
   "source": [
    "Next, let's load a real dataset:"
   ]
  },
  {
   "cell_type": "code",
   "execution_count": null,
   "id": "1e033aba",
   "metadata": {
    "tags": []
   },
   "outputs": [],
   "source": [
    "ds = xr.tutorial.load_dataset(\"air_temperature\")\n",
    "ds"
   ]
  },
  {
   "cell_type": "markdown",
   "id": "64892c29",
   "metadata": {},
   "source": [
    "Let us slice the data by latitude and longitude:"
   ]
  },
  {
   "cell_type": "code",
   "execution_count": null,
   "id": "f17c1343",
   "metadata": {
    "tags": []
   },
   "outputs": [],
   "source": [
    "ds.isel(lat=slice(None, 30), lon=slice(20, 40))"
   ]
  },
  {
   "cell_type": "markdown",
   "id": "3995f1c3",
   "metadata": {},
   "source": [
    "One difference is that XArray's slicing is inclusive of the rightmost value:"
   ]
  },
  {
   "cell_type": "code",
   "execution_count": null,
   "id": "7a6365e3",
   "metadata": {
    "tags": []
   },
   "outputs": [],
   "source": [
    "ds.sel(lat=75, time=slice(\"2013-01-01\", \"2013-10-15\"))"
   ]
  },
  {
   "cell_type": "markdown",
   "id": "2358abd3",
   "metadata": {},
   "source": [
    "Masking is similar Pandas in the sense that we need to create a binary mask used to filter the data:"
   ]
  },
  {
   "cell_type": "code",
   "execution_count": null,
   "id": "59722d60",
   "metadata": {
    "tags": []
   },
   "outputs": [],
   "source": [
    "ds.where(ds.lat < 0.0)"
   ]
  },
  {
   "cell_type": "markdown",
   "id": "8141450c",
   "metadata": {},
   "source": [
    "*Note*: we don't want to assign to parts of a data arrays because **dask** (for HPC) arrays are immutable."
   ]
  },
  {
   "cell_type": "markdown",
   "id": "6cd0b44c",
   "metadata": {},
   "source": [
    "## Computation with `XArray`"
   ]
  },
  {
   "cell_type": "code",
   "execution_count": null,
   "id": "b102d9b1",
   "metadata": {
    "scrolled": true,
    "tags": []
   },
   "outputs": [],
   "source": [
    "ds = xr.open_dataset(\"./data/raster/ecmwf_forecasts.nc\")\n",
    "ds"
   ]
  },
  {
   "cell_type": "markdown",
   "id": "4dec3676",
   "metadata": {},
   "source": [
    "Let's select the first forecast and visualize:"
   ]
  },
  {
   "cell_type": "code",
   "execution_count": null,
   "id": "27270fc6",
   "metadata": {
    "tags": []
   },
   "outputs": [],
   "source": [
    "_ = ds[\"t2m\"].isel(forecast_time=0).plot(robust=True, figsize=(9, 5))"
   ]
  },
  {
   "cell_type": "markdown",
   "id": "88dd845b",
   "metadata": {},
   "source": [
    "Let's get the 2m temperature data array:"
   ]
  },
  {
   "cell_type": "code",
   "execution_count": null,
   "id": "e280e8cb",
   "metadata": {
    "tags": []
   },
   "outputs": [],
   "source": [
    "t2m = ds[\"t2m\"]\n",
    "t2m"
   ]
  },
  {
   "cell_type": "code",
   "execution_count": null,
   "id": "8c077457",
   "metadata": {
    "tags": []
   },
   "outputs": [],
   "source": [
    "# Kelvin to C\n",
    "t2m_c = t2m - 273.15  # Automatic broadcasting\n",
    "t2m_c"
   ]
  },
  {
   "cell_type": "markdown",
   "id": "72debb70",
   "metadata": {},
   "source": [
    "We recommend to keep using `XArray`'s `DataArray` or `Dataset` objects throughout our session. We would only export raw numpy arrays at the end of the \"data preprocessing\" stage:"
   ]
  },
  {
   "cell_type": "code",
   "execution_count": null,
   "id": "fdd61708",
   "metadata": {
    "tags": []
   },
   "outputs": [],
   "source": [
    "# Compute a new data array\n",
    "f = 0.5 * np.log(t2m_c ** 2)"
   ]
  },
  {
   "cell_type": "markdown",
   "id": "72fd4e9d",
   "metadata": {},
   "source": [
    "### Reductions"
   ]
  },
  {
   "cell_type": "markdown",
   "id": "36b88552",
   "metadata": {},
   "source": [
    "Let's plot the temperature annual averages as a timeseries:"
   ]
  },
  {
   "cell_type": "code",
   "execution_count": null,
   "id": "24495569",
   "metadata": {
    "tags": []
   },
   "outputs": [],
   "source": [
    "_ = (t2m - 273.15).mean([\"latitude\", \"longitude\"]).groupby(\"forecast_time.year\").mean().plot(figsize=(7, 3))"
   ]
  },
  {
   "cell_type": "markdown",
   "id": "226e2ecb",
   "metadata": {},
   "source": [
    "Spatial pixel sizes in our grid are not the same, we need to properly weight before aggregating: "
   ]
  },
  {
   "cell_type": "code",
   "execution_count": null,
   "id": "095d874b-85fa-4c5b-8f18-9d89130c1c40",
   "metadata": {
    "ExecuteTime": {
     "end_time": "2021-08-16T10:20:57.585386Z",
     "start_time": "2021-08-16T10:20:57.578377Z"
    },
    "tags": []
   },
   "outputs": [],
   "source": [
    "# Create the weights\n",
    "weights = np.cos(np.deg2rad(t2m.latitude))\n",
    "weights"
   ]
  },
  {
   "cell_type": "code",
   "execution_count": null,
   "id": "dd6b2a7b-1a57-45a4-8cb5-dfeb71e04fb3",
   "metadata": {
    "ExecuteTime": {
     "end_time": "2021-08-16T10:20:57.585386Z",
     "start_time": "2021-08-16T10:20:57.578377Z"
    },
    "tags": []
   },
   "outputs": [],
   "source": [
    "# Automatic broadcasting\n",
    "(t2m * weights)"
   ]
  },
  {
   "cell_type": "code",
   "execution_count": null,
   "id": "73776691",
   "metadata": {
    "ExecuteTime": {
     "end_time": "2021-08-16T10:20:58.877545Z",
     "start_time": "2021-08-16T10:20:58.871832Z"
    },
    "tags": []
   },
   "outputs": [],
   "source": [
    "# ... however, this is better!\n",
    "t2m_weighted = (t2m - 273.15).weighted(weights)\n",
    "t2m_weighted"
   ]
  },
  {
   "cell_type": "code",
   "execution_count": null,
   "id": "d6c7260f",
   "metadata": {
    "ExecuteTime": {
     "end_time": "2021-08-16T10:21:01.138578Z",
     "start_time": "2021-08-16T10:21:00.137976Z"
    },
    "tags": []
   },
   "outputs": [],
   "source": [
    "# We plot the weighted pixels\n",
    "_ = t2m_weighted.mean([\"latitude\", \"longitude\"])\\\n",
    "    .groupby(\"forecast_time.year\")\\\n",
    "    .mean().plot(figsize=(7, 3))"
   ]
  },
  {
   "cell_type": "markdown",
   "id": "a86a8ba7",
   "metadata": {},
   "source": [
    "We can also plot the time-series for a specific location of interest:"
   ]
  },
  {
   "cell_type": "code",
   "execution_count": null,
   "id": "ad0506d9",
   "metadata": {
    "ExecuteTime": {
     "end_time": "2021-08-16T10:21:02.190623Z",
     "start_time": "2021-08-16T10:21:01.159534Z"
    },
    "tags": []
   },
   "outputs": [],
   "source": [
    "_ = t2m.isel(latitude=30, longitude=40).plot(figsize=(7, 3))"
   ]
  },
  {
   "cell_type": "markdown",
   "id": "0da50d1a-ed19-4e81-85ca-55bb1d4198f3",
   "metadata": {},
   "source": [
    "### `GroupBy`\n",
    "\n",
    "Let's calculate the monthly climatology:"
   ]
  },
  {
   "cell_type": "code",
   "execution_count": null,
   "id": "8ef33dd2",
   "metadata": {
    "ExecuteTime": {
     "end_time": "2021-08-16T10:21:03.646186Z",
     "start_time": "2021-08-16T10:21:03.607399Z"
    },
    "tags": []
   },
   "outputs": [],
   "source": [
    "# Calculate climatology\n",
    "clim = t2m.groupby(\"forecast_time.month\").mean(\"forecast_time\")\n",
    "\n",
    "# Visualize the seasonal cycle for a location of interest\n",
    "_ = clim.isel(latitude=30, longitude=40).plot(figsize=(5, 2))"
   ]
  },
  {
   "cell_type": "markdown",
   "id": "3b6e1acf",
   "metadata": {},
   "source": [
    "Let's take a look at the `tp` seasonal cycle by latitude:"
   ]
  },
  {
   "cell_type": "code",
   "execution_count": null,
   "id": "d7628108",
   "metadata": {
    "ExecuteTime": {
     "end_time": "2021-08-16T10:21:06.554010Z",
     "start_time": "2021-08-16T10:21:05.503564Z"
    },
    "tags": []
   },
   "outputs": [],
   "source": [
    "_ = clim.mean(\"longitude\").plot(x=\"month\", y=\"latitude\", levels=15)"
   ]
  },
  {
   "cell_type": "markdown",
   "id": "3543666c",
   "metadata": {},
   "source": [
    "Let's conduct a transformation to remove the seasonal climatology:"
   ]
  },
  {
   "cell_type": "code",
   "execution_count": null,
   "id": "f7386f53",
   "metadata": {
    "ExecuteTime": {
     "end_time": "2021-08-16T10:21:07.712362Z",
     "start_time": "2021-08-16T10:21:07.620825Z"
    },
    "tags": []
   },
   "outputs": [],
   "source": [
    "# Remove the monthly climatology\n",
    "t2m_anoms = t2m.groupby(\"forecast_time.month\").map(lambda grp: grp - grp.mean(\"forecast_time\"))\n",
    "\n",
    "# Visualize for a single location\n",
    "_ = t2m_anoms.isel(latitude=30, longitude=40).plot(figsize=(5, 3))"
   ]
  },
  {
   "cell_type": "markdown",
   "id": "ad46ee97",
   "metadata": {},
   "source": [
    "We can also use `resample` (like Pandas):"
   ]
  },
  {
   "cell_type": "code",
   "execution_count": null,
   "id": "a670e16f",
   "metadata": {
    "tags": []
   },
   "outputs": [],
   "source": [
    "t2m_anoms_1y = t2m_anoms.resample(forecast_time=\"1Y\").mean(\"forecast_time\")\n",
    "_ = t2m_anoms_1y.plot(col=\"forecast_time\", col_wrap=4)"
   ]
  },
  {
   "cell_type": "markdown",
   "id": "488c6dd9",
   "metadata": {},
   "source": [
    "## Visualization"
   ]
  },
  {
   "cell_type": "markdown",
   "id": "760ff430",
   "metadata": {},
   "source": [
    "We use histograms to visualize variable distributions:"
   ]
  },
  {
   "cell_type": "code",
   "execution_count": null,
   "id": "31e24e41",
   "metadata": {
    "tags": []
   },
   "outputs": [],
   "source": [
    "_ = ds[\"t2m\"].plot(bins=50, histtype=\"step\", stacked=True, fill=False, figsize=(5, 3))"
   ]
  },
  {
   "cell_type": "markdown",
   "id": "d517def4",
   "metadata": {},
   "source": [
    "We can also visualize 2D arrays:"
   ]
  },
  {
   "cell_type": "code",
   "execution_count": null,
   "id": "f7de409d",
   "metadata": {
    "ExecuteTime": {
     "end_time": "2021-08-16T10:21:24.314100Z",
     "start_time": "2021-08-16T10:21:23.980134Z"
    },
    "tags": []
   },
   "outputs": [],
   "source": [
    "_ = ds[\"t2m\"].isel(forecast_time=0).plot(\n",
    "    robust=True,\n",
    "    cbar_kwargs={\"label\": \"2 meter temprature [Kelvin]\", \n",
    "                 \"orientation\": \"horizontal\"},\n",
    "    figsize=(7, 4)\n",
    ")"
   ]
  },
  {
   "cell_type": "markdown",
   "id": "bd507f92",
   "metadata": {},
   "source": [
    "We can change the styling through matplotlib:"
   ]
  },
  {
   "cell_type": "code",
   "execution_count": null,
   "id": "8346fb12",
   "metadata": {
    "tags": []
   },
   "outputs": [],
   "source": [
    "_ = ds[\"t2m\"].isel(forecast_time=0).plot.contour()"
   ]
  },
  {
   "cell_type": "markdown",
   "id": "1a48a769",
   "metadata": {},
   "source": [
    "Let's visualize 2m-temperature longitude variation for 3 latitude values of interest:"
   ]
  },
  {
   "cell_type": "code",
   "execution_count": null,
   "id": "a7908097",
   "metadata": {
    "tags": []
   },
   "outputs": [],
   "source": [
    "_ = ds[\"t2m\"].mean(\"forecast_time\").isel(latitude=[25, 26, 27]).plot(hue=\"latitude\", figsize=(5, 4))"
   ]
  },
  {
   "cell_type": "markdown",
   "id": "2ec1117a",
   "metadata": {},
   "source": [
    "### Workflow for Complex Plots\n",
    "\n",
    "To produce complex plots following these steps:\n",
    "1. Custom-create the `ax` using `plt.subplots()`.\n",
    "2. Plot with `xarray` using `.plot(ax=ax)`.\n",
    "3. Further customize the `ax`es directly using `matplotlib`. "
   ]
  },
  {
   "cell_type": "markdown",
   "id": "fd50fc0f",
   "metadata": {},
   "source": [
    "### Facets\n",
    "\n",
    "Let's experiment with plotting 3D data:"
   ]
  },
  {
   "cell_type": "code",
   "execution_count": null,
   "id": "1e8b5e73",
   "metadata": {
    "ExecuteTime": {
     "end_time": "2021-08-16T10:21:24.945681Z",
     "start_time": "2021-08-16T10:21:24.940691Z"
    },
    "tags": []
   },
   "outputs": [],
   "source": [
    "# Get the data array\n",
    "da = ds[\"t2m\"]\n",
    "\n",
    "# Group by month of year and calculate monthly means\n",
    "da = da.groupby(\"forecast_time.month\").mean()\n",
    "\n",
    "# Plot\n",
    "fg = da.plot(col=\"month\", col_wrap=4, robust=True)\n",
    "_ = fg.fig.suptitle(\"Seasonal evolution of global 2m temperature\", y=1)\n",
    "plt.show()"
   ]
  },
  {
   "cell_type": "markdown",
   "id": "7b171604-3b82-464b-8e0e-e60644fb99b1",
   "metadata": {},
   "source": [
    "## `Rioxarray`\n",
    "\n",
    "Why use `rioxarray` instead of `xarray`?\n",
    "\n",
    "- It stores the CRS as a WKT, which is the recommended format (from *PROJ FAQ*).\n",
    "- It loads in the CRS, transform, and nodata metadata in standard CF & GDAL locations.\n",
    "- It supports masking and scaling data with the `masked` and `mask_and_scale` kwargs.\n",
    "- It loads raster metadata into the attributes."
   ]
  },
  {
   "cell_type": "code",
   "execution_count": null,
   "id": "4baab6d8-b90d-4ecc-9c7c-1bf54421edf9",
   "metadata": {
    "tags": []
   },
   "outputs": [],
   "source": [
    "ds = rioxarray.open_rasterio(\"./data/raster/nairobi_elevation.tiff\")\n",
    "_ = ds.squeeze().plot(robust=True, cmap=\"terrain\")"
   ]
  },
  {
   "cell_type": "markdown",
   "id": "7fc8df77-7707-4f54-950b-b9e4a1933a74",
   "metadata": {},
   "source": [
    "### Resampling"
   ]
  },
  {
   "cell_type": "code",
   "execution_count": null,
   "id": "72ddcd85-53c2-4d18-9dc9-d0b04ff31998",
   "metadata": {
    "tags": []
   },
   "outputs": [],
   "source": [
    "# Set the upscale factor\n",
    "upscale_factor = 2\n",
    "\n",
    "# Get the new width and height based on the resampling factors\n",
    "new_width = ds.rio.width * upscale_factor\n",
    "new_height = ds.rio.height * upscale_factor\n",
    "\n",
    "# Resample the dataset\n",
    "resampled_ds = ds.rio.reproject(\n",
    "    ds.rio.crs,\n",
    "    shape=(new_height, new_width),\n",
    "    resampling=Resampling.bilinear\n",
    ")\n",
    "resampled_ds.shape"
   ]
  },
  {
   "cell_type": "markdown",
   "id": "a636ba5a-7271-4595-8903-18f6a4095c07",
   "metadata": {},
   "source": [
    "### Clipping"
   ]
  },
  {
   "cell_type": "code",
   "execution_count": null,
   "id": "199bc9fa-958c-4a7a-9cfd-196f499ec409",
   "metadata": {
    "tags": []
   },
   "outputs": [],
   "source": [
    "# Create the Nairobi box\n",
    "xmin, ymin, xmax, ymax = 36.66, -1.37, 37.06, -1.07\n",
    "nairobi_bbox = box(xmin, ymin, xmax, ymax)\n",
    "nairobi_bbox"
   ]
  },
  {
   "cell_type": "code",
   "execution_count": null,
   "id": "dde7e08f-a6d5-4673-bb38-3571477cfcd2",
   "metadata": {
    "tags": []
   },
   "outputs": [],
   "source": [
    "# Clip & visualize\n",
    "clipped_ds = ds.rio.clip([nairobi_bbox])\n",
    "_ = clipped_ds.squeeze().plot(robust=True, cmap=\"terrain\")"
   ]
  },
  {
   "cell_type": "markdown",
   "id": "9fed03c7-7378-4ac6-a19a-e1d6edeee42f",
   "metadata": {},
   "source": [
    "### Reproject"
   ]
  },
  {
   "cell_type": "code",
   "execution_count": null,
   "id": "1dda8022-58e2-4b00-920f-27a316f9cbee",
   "metadata": {
    "tags": []
   },
   "outputs": [],
   "source": [
    "# Current CRS\n",
    "ds.rio.crs"
   ]
  },
  {
   "cell_type": "code",
   "execution_count": null,
   "id": "1e48e647-c75a-45a3-973a-a849bf8314d6",
   "metadata": {
    "tags": []
   },
   "outputs": [],
   "source": [
    "# Estimate the destination UTM CRS\n",
    "dest_crs = ds.rio.estimate_utm_crs()\n",
    "dest_crs"
   ]
  },
  {
   "cell_type": "code",
   "execution_count": null,
   "id": "c3f4a029-6afd-4bb1-bc6e-d9299c95f046",
   "metadata": {
    "tags": []
   },
   "outputs": [],
   "source": [
    "# Let `rioxarray` estimate the destination UTM CRS\n",
    "ds_utm = ds.rio.reproject(dest_crs)\n",
    "ds_utm.rio.crs"
   ]
  },
  {
   "cell_type": "markdown",
   "id": "b2a82abb-2f46-484a-971e-e4f612f36cc9",
   "metadata": {
    "tags": []
   },
   "source": [
    "### Cloud Optimized GeoTIFFs\n",
    "\n",
    "The advantages of COG over GeoTiffs:\n",
    "\n",
    "- **Tiling**: COGs are organized into small tiles that can be efficiently accessed and processed independently of the rest of the image. This allows for faster data access and processing, as only the relevant tiles need to be loaded into memory.\n",
    "- **Compression**: COGs use lossless or lossy compression to reduce the file size without sacrificing image quality. This reduces storage costs and network bandwidth requirements, making it easier to transfer and access data in cloud-based environments.\n",
    "- **Overviews**: COGs include pre-computed lower-resolution versions of the image, called overviews or pyramids, that can be used for rapid display and analysis at smaller scales. This reduces the need to access and process the full-resolution image, improving performance."
   ]
  },
  {
   "cell_type": "code",
   "execution_count": null,
   "id": "7e6ce5c0-6b42-4041-a4de-14c6e8983e24",
   "metadata": {
    "tags": []
   },
   "outputs": [],
   "source": [
    "# Save\n",
    "ds.rio.to_raster(raster_path=\"./data/raster/output_cog.tif\", driver=\"COG\")"
   ]
  },
  {
   "cell_type": "markdown",
   "id": "b81acf31-3fca-4c75-aba3-aa7dac84dc58",
   "metadata": {
    "tags": []
   },
   "source": [
    "### Mask Generation"
   ]
  },
  {
   "cell_type": "code",
   "execution_count": null,
   "id": "f29018d9-3e86-4c6a-a458-c5e4f30dfeb7",
   "metadata": {
    "tags": []
   },
   "outputs": [],
   "source": [
    "# Create the mask\n",
    "ds_mask = make_geocube(\n",
    "    vector_data=gpd.GeoDataFrame(data={\"val\": [1]}, geometry=[nairobi_bbox]),\n",
    "    like=ds\n",
    ")"
   ]
  },
  {
   "cell_type": "markdown",
   "id": "4bcbbd22-7a6a-4d88-b879-1db7a6f5da06",
   "metadata": {
    "tags": []
   },
   "source": [
    "Let's merge the two:"
   ]
  },
  {
   "cell_type": "code",
   "execution_count": null,
   "id": "0260d10b-9ac2-426c-acaf-efd10c3fcc05",
   "metadata": {
    "tags": []
   },
   "outputs": [],
   "source": [
    "# combine the DataArrays into a single Dataset\n",
    "merged_ds = xr.Dataset(\n",
    "    {\"elevation\": ds, \"mask\": ds_mask[\"val\"]}\n",
    ")"
   ]
  },
  {
   "cell_type": "code",
   "execution_count": null,
   "id": "1e037747-e145-40de-a393-6346b83444cf",
   "metadata": {
    "tags": []
   },
   "outputs": [],
   "source": [
    "# create a figure with two subplots\n",
    "fig, axs = plt.subplots(1, 2, figsize=(15, 5))\n",
    "\n",
    "# plot the first variable in the left subplot\n",
    "merged_ds[\"elevation\"].plot(ax=axs[0], cmap=\"terrain\", robust=True)\n",
    "axs[0].set_title(\"Elevation\")\n",
    "\n",
    "# plot the second variable in the right subplot\n",
    "merged_ds[\"mask\"].plot(ax=axs[1], cmap=\"Greys\")\n",
    "axs[1].set_title(\"Mask\")\n",
    "\n",
    "# show the plot\n",
    "plt.show()"
   ]
  },
  {
   "cell_type": "markdown",
   "id": "824af1e6-e67a-41c1-bf50-5a9bcc49c055",
   "metadata": {},
   "source": [
    "## Resources\n",
    "\n",
    "- [Official Documentation](https://docs.xarray.dev/en/stable/): The primary resource for XArray is its official documentation. It covers various topics, including installation, user guide, examples, and API reference.\n",
    "- [XArray for multidimensional data](https://rabernat.github.io/research_computing_2018/xarray.html): This introductory tutorial by Ryan Abernat covers the basics of XArray and its role in handling multidimensional data.\n",
    "- [Earth and Environmental Data Science with XArray](https://pangeo.io/): The Pangeo project provides a wealth of resources related to using XArray for Earth and environmental data science, including tutorials and examples.\n",
    "- [XArray Tutorial for Geospatial Data](http://stephanhoyer.com/2015/06/11/xray-dask-out-of-core-labeled-arrays/): This tutorial by Stephan Hoyer demonstrates the use of XArray and Dask for processing large geospatial datasets.\n",
    "- [XArray Exercises](https://github.com/xarray-contrib/xarray-tutorial): This GitHub repository by Tom Nicholas contains exercises and solutions for learning XArray.\n",
    "\n",
    "---"
   ]
  }
 ],
 "metadata": {
  "gist": {
   "data": {
    "description": "Learn_xarray.ipynb",
    "public": true
   },
   "id": ""
  },
  "hide_input": false,
  "kernelspec": {
   "display_name": "Python 3 (ipykernel)",
   "language": "python",
   "name": "python3"
  },
  "language_info": {
   "codemirror_mode": {
    "name": "ipython",
    "version": 3
   },
   "file_extension": ".py",
   "mimetype": "text/x-python",
   "name": "python",
   "nbconvert_exporter": "python",
   "pygments_lexer": "ipython3",
   "version": "3.10.10"
  },
  "toc": {
   "base_numbering": 1,
   "nav_menu": {},
   "number_sections": true,
   "sideBar": true,
   "skip_h1_title": false,
   "title_cell": "Table of Contents",
   "title_sidebar": "Contents",
   "toc_cell": false,
   "toc_position": {
    "height": "calc(100% - 180px)",
    "left": "10px",
    "top": "150px",
    "width": "248px"
   },
   "toc_section_display": true,
   "toc_window_display": true
  },
  "varInspector": {
   "cols": {
    "lenName": 16,
    "lenType": 16,
    "lenVar": 40
   },
   "kernels_config": {
    "python": {
     "delete_cmd_postfix": "",
     "delete_cmd_prefix": "del ",
     "library": "var_list.py",
     "varRefreshCmd": "print(var_dic_list())"
    },
    "r": {
     "delete_cmd_postfix": ") ",
     "delete_cmd_prefix": "rm(",
     "library": "var_list.r",
     "varRefreshCmd": "cat(var_dic_list()) "
    }
   },
   "types_to_exclude": [
    "module",
    "function",
    "builtin_function_or_method",
    "instance",
    "_Feature"
   ],
   "window_display": false
  }
 },
 "nbformat": 4,
 "nbformat_minor": 5
}
