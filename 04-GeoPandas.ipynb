{
 "cells": [
  {
   "cell_type": "markdown",
   "metadata": {},
   "source": [
    "# `Geopandas`: GeoSpatial Tabular Data Analysis\n",
    "\n",
    "We present the roadmap for the notebook:\n",
    "\n",
    "1. **Introduction**\n",
    "    - Briefly introduce `GeoPandas` and its role in geospatial analysis\n",
    "    - Provide the installation instructions\n",
    "2. **Geospatial Data Structures in GeoPandas**\n",
    "    - Introduce `GeoSeries` and `GeoDataFrame`\n",
    "    - Create `GeoSeries` and `GeoDataFrame` from scratch\n",
    "    - Read and write geospatial data (e.g., `shapefiles`, `GeoJSON`)\n",
    "3. **Explore and Visualize Geospatial Data**\n",
    "    - Explore GeoDataFrames: `head`, `tail`, `info`, and `describe` methods\n",
    "    - Coordinate Reference Systems (CRS) in GeoPandas\n",
    "    - Basic geospatial data visualization using the `plot()` method\n",
    "4. **Geometric Operations**\n",
    "    - Geometry manipulation with GeoPandas and Shapely (e.g., buffer, centroid, area)\n",
    "    - Spatial joins and overlays (e.g., intersection, union)\n",
    "5. **Spatial Relationships and Predicates**\n",
    "    - Point-in-polygon analysis with GeoPandas (e.g., sjoin)\n",
    "    - Spatial relationships and predicates (e.g., contains, intersects, within)\n",
    "6. **Coordinate Reference Systems and Transformations**\n",
    "    - Understanding Coordinate Reference Systems (CRS)\n",
    "    - Setting and transforming CRS in GeoPandas\n",
    "7. **Practical Examples and Use Cases**\n",
    "    - Real-world examples applying concepts and techniques from the notebook\n",
    "8. **Additional Resources and Further Reading**\n",
    "    - Links to GeoPandas documentation, tutorials, and other resources for learners to explore further"
   ]
  },
  {
   "cell_type": "markdown",
   "metadata": {
    "tags": []
   },
   "source": [
    "## Introduction\n",
    "\n",
    "`GeoPandas` is a powerful Python library designed to make working with geospatial data in Python easier and more efficient. It extends the functionality of `Pandas`, a popular data analysis library, by introducing two new data structures: `GeoSeries` and `GeoDataFrame`. These data structures are built on top of `Shapely` geometries and can efficiently store and manipulate geospatial data.\n",
    "\n",
    "`GeoPandas` combines the capabilities of `Shapely`, `Fiona`, and `Pyproj`, making it an essential tool for many geospatial analysis tasks, such as **reading and writing geospatial data**, performing **geometric operations**, and **visualizing geospatial data**. With GeoPandas, you can work with both vector and raster data and perform complex geospatial analyses."
   ]
  },
  {
   "cell_type": "markdown",
   "metadata": {},
   "source": [
    "### Installation\n",
    "\n",
    "To install GeoPandas, you can use either pip or conda. It's highly recommended to install GeoPandas and its dependencies within a virtual environment: \n",
    "\n",
    "```bash\n",
    "\n",
    "# Installation using pip\n",
    "!pip install geopandas\n",
    "\n",
    "# Installation using conda\n",
    "!conda install -c conda-forge geopandas\n",
    "```"
   ]
  },
  {
   "cell_type": "code",
   "execution_count": null,
   "metadata": {
    "tags": []
   },
   "outputs": [],
   "source": [
    "import numpy as np\n",
    "import pandas as pd\n",
    "import matplotlib.pyplot as plt\n",
    "from shapely.geometry import Point, Polygon, LineString\n",
    "from shapely import unary_union\n",
    "import geopandas as gpd\n",
    "import contextily as ctx\n",
    "ctx.set_cache_dir(\"/Users/akramz/.cache/\")"
   ]
  },
  {
   "cell_type": "markdown",
   "metadata": {
    "tags": []
   },
   "source": [
    "## Geospatial Data Structures in GeoPandas\n",
    "\n",
    "- `GeoPandas` provides two main data structures: \n",
    "    - `GeoSeries`: a one-dimensional array that can store and manipulate Shapely geometric objects. It is similar to a `Pandas` `Series` but designed specifically for handling geospatial data.\n",
    "    - `GeoDataFrame`: a two-dimensional data structure that can store and manipulate tabular data with a **GeoSeries column** for storing geometries. It is similar to a Pandas DataFrame but with additional geospatial functionality.\n",
    "- The two data structures are designed to handle geospatial data and are built on top of `Pandas` and `Shapely`."
   ]
  },
  {
   "cell_type": "markdown",
   "metadata": {},
   "source": [
    "### Creating `GeoSeries` and `GeoDataFrame` from Scratch\n",
    "\n",
    "To create a GeoSeries or GeoDataFrame from scratch, you can use the following methods:"
   ]
  },
  {
   "cell_type": "code",
   "execution_count": null,
   "metadata": {
    "tags": []
   },
   "outputs": [],
   "source": [
    "# Create a GeoSeries\n",
    "geom_series = gpd.GeoSeries([Point(2.3, 48.8), Point(2.4, 48.9), Point(2.5, 48.7)])\n",
    "geom_series"
   ]
  },
  {
   "cell_type": "code",
   "execution_count": null,
   "metadata": {
    "tags": []
   },
   "outputs": [],
   "source": [
    "# Create a GeoDataFrame from a DataFrame and a GeoSeries\n",
    "data = {\n",
    "    'name': ['A', 'B', 'C'],\n",
    "    'population': [1000, 2000, 3000]\n",
    "}\n",
    "\n",
    "# Use the dictionary to create a Pandas dataframe\n",
    "df = pd.DataFrame(data)\n",
    "\n",
    "# Use the pandas dataframe and the GeoSeries to create a GeoDataframe\n",
    "gdf = gpd.GeoDataFrame(df, geometry=geom_series)\n",
    "gdf.head()"
   ]
  },
  {
   "cell_type": "markdown",
   "metadata": {},
   "source": [
    "### Reading and Writing Geospatial Data\n",
    "\n",
    "- `GeoPandas` makes it easy to read and write geospatial data, such as `shapefiles` and `GeoJSON` files. \n",
    "\n",
    "Here's how to read and write geospatial data using GeoPandas:"
   ]
  },
  {
   "cell_type": "code",
   "execution_count": null,
   "metadata": {
    "tags": []
   },
   "outputs": [],
   "source": [
    "# Read GeoJSON file\n",
    "gdf_paris_districts = gpd.read_file(\"./data/vector/paris_districts_utm.geojson\")\n",
    "gdf_paris_districts.head()"
   ]
  },
  {
   "cell_type": "code",
   "execution_count": null,
   "metadata": {
    "tags": []
   },
   "outputs": [],
   "source": [
    "# Write GeoJSON file\n",
    "gdf_paris_districts.to_file(\"./data/vector/output_paris_districts.geojson\", driver=\"GeoJSON\")"
   ]
  },
  {
   "cell_type": "code",
   "execution_count": null,
   "metadata": {
    "tags": []
   },
   "outputs": [],
   "source": [
    "# Read shapefile (assuming it's in a zip file)\n",
    "gdf_countries = gpd.read_file(\"zip://./data/vector/ne_110m_admin_0_countries.zip\")\n",
    "gdf_countries.head()"
   ]
  },
  {
   "cell_type": "code",
   "execution_count": null,
   "metadata": {
    "tags": []
   },
   "outputs": [],
   "source": [
    "# Write shapefile\n",
    "gdf_countries.to_file(\"./data/vector/output_countries.shp\")"
   ]
  },
  {
   "cell_type": "markdown",
   "metadata": {},
   "source": [
    "## Exploring and Visualizing Geospatial Data\n",
    "\n",
    "- We will explore and visualize geospatial data using `GeoPandas`. \n",
    "- We will cover methods to inspect `GeoDataFrame`s and discuss Coordinate Reference Systems (CRS). \n",
    "- We will demonstrate how to create basic geospatial visualizations using the `plot()` method."
   ]
  },
  {
   "cell_type": "markdown",
   "metadata": {},
   "source": [
    "### Exploring GeoDataFrames\n",
    "\n",
    "You can use methods like `head()`, `tail()`, `info()`, and `describe()` to inspect and explore GeoDataFrames, similar to how you would use them with Pandas DataFrames."
   ]
  },
  {
   "cell_type": "code",
   "execution_count": null,
   "metadata": {
    "tags": []
   },
   "outputs": [],
   "source": [
    "# Inspect the first 5 rows of the GeoDataFrame\n",
    "print(\"Head:\")\n",
    "gdf_paris_districts.head()"
   ]
  },
  {
   "cell_type": "code",
   "execution_count": null,
   "metadata": {
    "tags": []
   },
   "outputs": [],
   "source": [
    "# Inspect the last 5 rows of the GeoDataFrame\n",
    "print(\"Tail:\")\n",
    "gdf_paris_districts.tail()"
   ]
  },
  {
   "cell_type": "code",
   "execution_count": null,
   "metadata": {
    "tags": []
   },
   "outputs": [],
   "source": [
    "# Get a summary of the GeoDataFrame's structure\n",
    "print(\"Info:\")\n",
    "gdf_paris_districts.info()"
   ]
  },
  {
   "cell_type": "code",
   "execution_count": null,
   "metadata": {
    "tags": []
   },
   "outputs": [],
   "source": [
    "# Generate descriptive statistics of the GeoDataFrame's columns\n",
    "print(\"Describe:\")\n",
    "gdf_paris_districts.describe()"
   ]
  },
  {
   "cell_type": "markdown",
   "metadata": {},
   "source": [
    "### Coordinate Reference Systems (CRS) in `GeoPandas`\n",
    "\n",
    "Coordinate Reference Systems (CRS) define how coordinates are related to the Earth's surface. `GeoPandas` allows you to set, inspect, and transform the CRS of a GeoDataFrame. \n",
    "\n",
    "The CRS information is stored in the `crs` attribute of a GeoDataFrame."
   ]
  },
  {
   "cell_type": "code",
   "execution_count": null,
   "metadata": {
    "tags": []
   },
   "outputs": [],
   "source": [
    "# Inspect the CRS of the GeoDataFrame\n",
    "print(\"CRS of Paris Districts GeoDataFrame:\")\n",
    "print(gdf_paris_districts.crs)"
   ]
  },
  {
   "cell_type": "code",
   "execution_count": null,
   "metadata": {
    "tags": []
   },
   "outputs": [],
   "source": [
    "# Inspect the CRS of the Countries GeoDataFrame\n",
    "print(\"CRS of Countries GeoDataFrame:\")\n",
    "print(gdf_countries.crs)"
   ]
  },
  {
   "cell_type": "markdown",
   "metadata": {},
   "source": [
    "### Basic Geospatial Data Visualization with the `plot()` Method\n",
    "\n",
    "`GeoPandas` provides a simple `plot()` method for visualizing `GeoDataFrame`s. This method creates a matplotlib plot of the geometries in the GeoDataFrame."
   ]
  },
  {
   "cell_type": "code",
   "execution_count": null,
   "metadata": {
    "tags": []
   },
   "outputs": [],
   "source": [
    "# Plot Paris Districts\n",
    "gdf_paris_districts.plot(figsize=(10, 10), column=\"population\")\n",
    "plt.title(\"Paris Districts\")\n",
    "plt.show()"
   ]
  },
  {
   "cell_type": "code",
   "execution_count": null,
   "metadata": {
    "tags": []
   },
   "outputs": [],
   "source": [
    "# Plot Countries\n",
    "gdf_countries.plot(figsize=(10, 6))\n",
    "plt.title(\"Countries\")\n",
    "plt.show()"
   ]
  },
  {
   "cell_type": "code",
   "execution_count": null,
   "metadata": {
    "tags": []
   },
   "outputs": [],
   "source": [
    "# Plot Africa\n",
    "ax = gdf_countries[gdf_countries[\"continent\"] == \"Africa\"].plot(figsize=(10, 5), column=\"gdp_md_est\", legend=True)\n",
    "ax.axis(\"off\")\n",
    "plt.title(\"Africa\")\n",
    "plt.show()"
   ]
  },
  {
   "cell_type": "markdown",
   "metadata": {
    "tags": []
   },
   "source": [
    "- The above examples demonstrate how to create basic geospatial visualizations using the `plot()` method in `GeoPandas`. \n",
    "- You can customize the appearance of these plots by passing additional arguments to the `plot()` method and using matplotlib functions."
   ]
  },
  {
   "cell_type": "markdown",
   "metadata": {},
   "source": [
    "## Geometric Operations\n",
    "\n",
    "In this section, we will explore geometric operations in `GeoPandas`. We'll cover geometry manipulation using both `GeoPandas` and `Shapely`, as well as spatial joins and overlays."
   ]
  },
  {
   "cell_type": "markdown",
   "metadata": {
    "tags": []
   },
   "source": [
    "### Geometry Manipulation with `GeoPandas` and `Shapely`\n",
    "\n",
    "- **`GeoPandas` provides easy access to geometric operations from the `Shapely` library**. \n",
    "- You can perform operations such as buffering, computing centroids, and calculating areas directly on `GeoDataFrames` and `GeoSeries`."
   ]
  },
  {
   "cell_type": "code",
   "execution_count": null,
   "metadata": {
    "tags": []
   },
   "outputs": [],
   "source": [
    "# Get a copy of the district dataset\n",
    "d = gdf_paris_districts.copy()\n",
    "\n",
    "# Transform each district's polygon into its centorid \n",
    "d[\"geometry\"] = d.centroid\n",
    "\n",
    "# Plot the districts and centroids\n",
    "fig, ax = plt.subplots()\n",
    "_ = gdf_paris_districts.plot(ax=ax)\n",
    "_ = d.plot(ax=ax, color=\"red\")\n",
    "ax.axis(\"off\")\n",
    "plt.show()"
   ]
  },
  {
   "cell_type": "markdown",
   "metadata": {
    "tags": []
   },
   "source": [
    "Let's calculate the are of each district:"
   ]
  },
  {
   "cell_type": "code",
   "execution_count": null,
   "metadata": {
    "tags": []
   },
   "outputs": [],
   "source": [
    "# Area operation\n",
    "gdf_paris_districts[\"area\"] = gdf_paris_districts.area\n",
    "print(\"Area of geometries:\")\n",
    "print(gdf_paris_districts[['geometry', 'area']].head())"
   ]
  },
  {
   "cell_type": "markdown",
   "metadata": {},
   "source": [
    "### Spatial Joins and Overlays\n",
    "\n",
    "- Spatial joins and overlays are essential operations for combining and analyzing geospatial data from different sources. \n",
    "- `GeoPandas` provides `sjoin()` for spatial joins and `overlay()` for spatial overlays."
   ]
  },
  {
   "cell_type": "code",
   "execution_count": null,
   "metadata": {
    "tags": []
   },
   "outputs": [],
   "source": [
    "# Create a buffer around the first district\n",
    "first_district = gdf_paris_districts.iloc[0]\n",
    "buffered_first_district = first_district['geometry'].buffer(500)"
   ]
  },
  {
   "cell_type": "code",
   "execution_count": null,
   "metadata": {
    "tags": []
   },
   "outputs": [],
   "source": [
    "# Create a new GeoDataFrame with the buffered geometry\n",
    "gdf_buffer = gpd.GeoDataFrame(geometry=[buffered_first_district], crs=gdf_paris_districts.crs)"
   ]
  },
  {
   "cell_type": "code",
   "execution_count": null,
   "metadata": {
    "tags": []
   },
   "outputs": [],
   "source": [
    "# Perform a spatial join to find districts that intersect the buffer\n",
    "intersecting_districts = gpd.sjoin(gdf_paris_districts.iloc[1:], gdf_buffer, predicate='intersects')"
   ]
  },
  {
   "cell_type": "code",
   "execution_count": null,
   "metadata": {
    "tags": []
   },
   "outputs": [],
   "source": [
    "# Plot the districts and centroids\n",
    "fig, ax = plt.subplots()\n",
    "_ = gdf_buffer.plot(ax=ax)\n",
    "_ = intersecting_districts.plot(ax=ax, color=\"red\", alpha=.66)\n",
    "ax.axis(\"off\")\n",
    "plt.show()"
   ]
  },
  {
   "cell_type": "code",
   "execution_count": null,
   "metadata": {
    "tags": []
   },
   "outputs": [],
   "source": [
    "# Perform an overlay to compute the union of intersecting districts\n",
    "union = gpd.overlay(intersecting_districts, gdf_buffer, how='union')\n",
    "ax = union.plot()\n",
    "ax.axis(\"off\")\n",
    "plt.show()"
   ]
  },
  {
   "cell_type": "markdown",
   "metadata": {},
   "source": [
    "- In this example, we first create a `buffer` around the first district in the `gdf_paris_districts` GeoDataFrame. \n",
    "- We then use spatial join and overlay operations to find intersecting districts and compute the union of those districts."
   ]
  },
  {
   "cell_type": "markdown",
   "metadata": {},
   "source": [
    "## Spatial Relationships and Predicates\n",
    "\n",
    "- In this section, we'll explore spatial relationships and predicates in GeoPandas. \n",
    "- We'll cover point-in-polygon analysis and discuss various spatial relationships, such as `contains`, `intersects`, and `within`."
   ]
  },
  {
   "cell_type": "markdown",
   "metadata": {},
   "source": [
    "### Point-in-Polygon Analysis with GeoPandas\n",
    "\n",
    "- Point-in-polygon analysis is a common geospatial operation used to determine if a point is inside a polygon. \n",
    "- You can perform point-in-polygon analysis in `GeoPandas` using the `sjoin()` function."
   ]
  },
  {
   "cell_type": "code",
   "execution_count": null,
   "metadata": {
    "tags": []
   },
   "outputs": [],
   "source": [
    "# Create sample points\n",
    "point_data = {\n",
    "    'name': ['Point 1', 'Point 2', 'Point 3'],\n",
    "    'geometry': [Point(2.35, 48.85), Point(2.4, 48.87), Point(2.45, 48.83)]\n",
    "}\n",
    "gdf_points = gpd.GeoDataFrame(point_data, crs=\"EPSG:4326\")\n",
    "gdf_points = gdf_points.to_crs(gdf_paris_districts.crs)\n",
    "\n",
    "# Perform point-in-polygon analysis using sjoin()\n",
    "point_in_polygon = gpd.sjoin(gdf_points, gdf_paris_districts, predicate=\"within\")\n",
    "point_in_polygon"
   ]
  },
  {
   "cell_type": "markdown",
   "metadata": {
    "tags": []
   },
   "source": [
    "In this example, we create a GeoDataFrame with sample points and perform a point-in-polygon analysis using sjoin() to find which Paris district each point belongs to."
   ]
  },
  {
   "cell_type": "markdown",
   "metadata": {},
   "source": [
    "### Spatial Relationships and Predicates\n",
    "\n",
    "`GeoPandas` provides various spatial relationships and predicates to analyze the relationships between geometries in a GeoDataFrame. Some of the most common spatial relationships are `contains`, `intersects`, and `within`."
   ]
  },
  {
   "cell_type": "code",
   "execution_count": null,
   "metadata": {
    "tags": []
   },
   "outputs": [],
   "source": [
    "# Let's visualize the districts and points\n",
    "fig, ax = plt.subplots()\n",
    "_ = gdf_paris_districts.plot(ax=ax)\n",
    "_ = gdf_points.plot(ax=ax, color=\"red\", alpha=.66)\n",
    "ax.axis(\"off\")\n",
    "plt.show()"
   ]
  },
  {
   "cell_type": "markdown",
   "metadata": {},
   "source": [
    "Let's filter the districts that contain the points:"
   ]
  },
  {
   "cell_type": "code",
   "execution_count": null,
   "metadata": {
    "tags": []
   },
   "outputs": [],
   "source": [
    "# Create a geometry that has the 3 different points\n",
    "geom = unary_union(gdf_points[\"geometry\"])\n",
    "\n",
    "# Filter for districts that intersect it\n",
    "ds = gdf_paris_districts[gdf_paris_districts.intersects(geom)]\n",
    "\n",
    "# Plot\n",
    "fig, ax = plt.subplots()\n",
    "_ = ds.plot(ax=ax)\n",
    "_ = gpd.GeoDataFrame(geometry=[geom]).plot(ax=ax, color=\"red\", alpha=.66)\n",
    "ax.axis(\"off\")\n",
    "plt.show()"
   ]
  },
  {
   "cell_type": "markdown",
   "metadata": {
    "tags": []
   },
   "source": [
    "Let's pick one point and check which district contains it:"
   ]
  },
  {
   "cell_type": "code",
   "execution_count": null,
   "metadata": {
    "tags": []
   },
   "outputs": [],
   "source": [
    "# Get a point geometry and filter for the district that contains it\n",
    "point_geom = gdf_points.iloc[0:1]\n",
    "district = gdf_paris_districts[gdf_paris_districts.contains(point_geom.iloc[0, -1])]\n",
    "\n",
    "# Plot\n",
    "fig, ax = plt.subplots()\n",
    "_ = district.plot(ax=ax)\n",
    "_ = point_geom.plot(ax=ax, color=\"red\", alpha=.66)\n",
    "ax.axis(\"off\")\n",
    "plt.show()"
   ]
  },
  {
   "cell_type": "markdown",
   "metadata": {
    "tags": []
   },
   "source": [
    "In this example, we demonstrated how to use spatial relationships and predicates, such as `contains`, `intersects`, and `within`, to analyze the relationships between sample points and the first district in the `gdf_paris_districts` `GeoDataFrame`."
   ]
  },
  {
   "cell_type": "markdown",
   "metadata": {},
   "source": [
    "## Coordinate Reference Systems and Transformations\n",
    "\n",
    "In this section, we will discuss Coordinate Reference Systems (CRS) and how to set and transform them in `GeoPandas`."
   ]
  },
  {
   "cell_type": "markdown",
   "metadata": {},
   "source": [
    "### Coordinate Reference Systems (CRS)\n",
    "\n",
    "- A Coordinate Reference System (`CRS`) defines how coordinates are related to the Earth's surface. \n",
    "- It consists of a **coordinate system (e.g., Cartesian, polar)** and a **projection** that maps points from the Earth's surface onto that coordinate system. \n",
    "- A CRS can be represented using an **EPSG code**, a **PROJ string**, or a **WKT string**.\n",
    "\n",
    "When working with geospatial data from different sources, **it is essential to ensure that the data is in the same CRS**. Otherwise, spatial operations and calculations may produce inaccurate results."
   ]
  },
  {
   "cell_type": "markdown",
   "metadata": {},
   "source": [
    "### Setting and Transforming CRS in GeoPandas\n",
    "\n",
    "`GeoPandas` allows you to set, inspect, and transform the CRS of a `GeoDataFrame`. The CRS information is stored in the crs attribute of a GeoDataFrame, and you can transform the CRS using the `to_crs()` method."
   ]
  },
  {
   "cell_type": "code",
   "execution_count": null,
   "metadata": {
    "tags": []
   },
   "outputs": [],
   "source": [
    "# Inspect the CRS of the Paris Districts GeoDataFrame\n",
    "print(\"Original CRS of Paris Districts GeoDataFrame:\")\n",
    "print(gdf_paris_districts.crs)"
   ]
  },
  {
   "cell_type": "code",
   "execution_count": null,
   "metadata": {
    "tags": []
   },
   "outputs": [],
   "source": [
    "gdf_paris_districts[\"geometry\"].head(3)"
   ]
  },
  {
   "cell_type": "code",
   "execution_count": null,
   "metadata": {
    "tags": []
   },
   "outputs": [],
   "source": [
    "# Transform the CRS of the Paris Districts GeoDataFrame to EPSG:3857\n",
    "gdf_paris_districts_mercator = gdf_paris_districts.to_crs(epsg=3857)\n",
    "\n",
    "print(\"Transformed CRS of Paris Districts GeoDataFrame (EPSG:3857):\")\n",
    "print(gdf_paris_districts_mercator.crs)"
   ]
  },
  {
   "cell_type": "code",
   "execution_count": null,
   "metadata": {
    "tags": []
   },
   "outputs": [],
   "source": [
    "gdf_paris_districts_mercator[\"geometry\"].head(3)"
   ]
  },
  {
   "cell_type": "code",
   "execution_count": null,
   "metadata": {
    "tags": []
   },
   "outputs": [],
   "source": [
    "# Inspect the CRS of the Countries GeoDataFrame\n",
    "print(\"Original CRS of Countries GeoDataFrame:\")\n",
    "print(gdf_countries.crs)"
   ]
  },
  {
   "cell_type": "code",
   "execution_count": null,
   "metadata": {
    "tags": []
   },
   "outputs": [],
   "source": [
    "# Transform the CRS of the Countries GeoDataFrame to match Paris Districts GeoDataFrame\n",
    "gdf_countries_transformed = gdf_countries.to_crs(gdf_paris_districts.crs)\n",
    "print(\"Transformed CRS of Countries GeoDataFrame:\")\n",
    "print(gdf_countries_transformed.crs)"
   ]
  },
  {
   "cell_type": "markdown",
   "metadata": {},
   "source": [
    "# Practical Examples and Use Cases\n",
    "\n",
    "We will work with several datasets about the city of Paris:\n",
    "- The administrative districts of Paris: [`paris_districts_utm.geojson`](https://opendata.paris.fr/explore/dataset/quartier_paris/).\n",
    "- Real-time (at the moment I downloaded them ..) information about the public bicycle sharing system in Paris: [`data/paris_bike_stations_mercator.gpkg`](https://opendata.paris.fr/explore/dataset/stations-velib-disponibilites-en-temps-reel/information/).\n",
    "\n",
    "Both datasets are provided as spatial datasets using a GIS file format. \n",
    "\n",
    "Let's starting exploring the data:"
   ]
  },
  {
   "cell_type": "markdown",
   "metadata": {},
   "source": [
    "<div class=\"alert alert-success\">\n",
    "\n",
    "**EXERCISE**:\n",
    "\n",
    "We will start with exploring the bicycle station dataset (available as a GeoPackage file: `data/paris_bike_stations_mercator.gpkg`)\n",
    "    \n",
    "* Read the stations datasets into a GeoDataFrame called `stations`.\n",
    "* Check the type of the returned object\n",
    "* Check the first rows of the dataframes. What kind of geometries does this datasets contain?\n",
    "* How many features are there in the dataset? \n",
    "    \n",
    "<details><summary>Hints</summary>\n",
    "\n",
    "* Use `type(..)` to check any Python object type\n",
    "* The `geopandas.read_file()` function can read different geospatial file formats. You pass the file name as first argument.\n",
    "* Use the `.shape` attribute to get the number of features\n",
    "\n",
    "</details>\n",
    "    \n",
    "    \n",
    "</div>"
   ]
  },
  {
   "cell_type": "code",
   "execution_count": null,
   "metadata": {
    "tags": [
     "nbtutor-solution"
    ]
   },
   "outputs": [],
   "source": [
    "stations = gpd.read_file(\"./data/vector/paris_bike_stations_mercator.gpkg\")\n",
    "type(stations)"
   ]
  },
  {
   "cell_type": "code",
   "execution_count": null,
   "metadata": {
    "collapsed": false,
    "jupyter": {
     "outputs_hidden": false
    },
    "tags": [
     "nbtutor-solution"
    ]
   },
   "outputs": [],
   "source": [
    "stations.head()"
   ]
  },
  {
   "cell_type": "code",
   "execution_count": null,
   "metadata": {
    "collapsed": false,
    "jupyter": {
     "outputs_hidden": false
    },
    "tags": [
     "nbtutor-solution"
    ]
   },
   "outputs": [],
   "source": [
    "stations.shape"
   ]
  },
  {
   "cell_type": "markdown",
   "metadata": {},
   "source": [
    "<div class=\"alert alert-success\">\n",
    "\n",
    "**EXERCISE**:\n",
    "\n",
    "* Make a quick plot of the `stations` dataset.\n",
    "* Make the plot a bit larger by setting the figure size to (12, 6) (hint: the `plot` method accepts a `figsize` keyword).\n",
    " \n",
    "</div>"
   ]
  },
  {
   "cell_type": "code",
   "execution_count": null,
   "metadata": {
    "collapsed": false,
    "jupyter": {
     "outputs_hidden": false
    },
    "tags": [
     "nbtutor-solution"
    ]
   },
   "outputs": [],
   "source": [
    "_ = stations.plot(figsize=(10, 5))"
   ]
  },
  {
   "cell_type": "markdown",
   "metadata": {},
   "source": [
    "A plot with points can be hard to interpret without any spatial context. Therefore, we will learn how to add a background map.\n",
    "\n",
    "We are going to make use of the [contextily](https://github.com/darribas/contextily) package. the `add_basemap()` function of this package makes it easy to add a background web map to our plot. We begin by plotting our data, then pass the matplotlib axes object to the `add_basemap()` function. `contextily` will then download the web tiles needed for the geographical extent of the plot. \n",
    "\n",
    "<div class=\"alert alert-success\">\n",
    "\n",
    "**EXERCISE**:\n",
    "\n",
    "* Import `contextily`.\n",
    "* Re-do the figure of the previous exercise: make a plot of all the points in `stations`, but assign the result to an `ax` variable.\n",
    "* Set the marker size equal to 5 to reduce the size of the points (use the `markersize` keyword of the `plot()` method for this).\n",
    "* Use the `add_basemap()` function of `contextily` to add a background map: the first argument is the matplotlib axes object `ax`.\n",
    "\n",
    "</div>"
   ]
  },
  {
   "cell_type": "code",
   "execution_count": null,
   "metadata": {
    "tags": []
   },
   "outputs": [],
   "source": [
    "# Plot the stations with a supporting basemap \n",
    "ax = stations.plot(figsize=(12, 6), markersize=5)\n",
    "ctx.add_basemap(ax)"
   ]
  },
  {
   "cell_type": "markdown",
   "metadata": {},
   "source": [
    "<div class=\"alert alert-success\">\n",
    "\n",
    "**EXERCISE**:\n",
    "\n",
    "* Make a histogram showing the distribution of the number of bike stands in the stations.\n",
    "\n",
    "<details>\n",
    "  <summary>Hints</summary>\n",
    "\n",
    "* Selecting a column can be done with the square brackets: `df['col_name']`\n",
    "* Single columns have a `hist()` method to plot a histogram of its values.\n",
    "    \n",
    "</details>\n",
    "    \n",
    "</div>"
   ]
  },
  {
   "cell_type": "code",
   "execution_count": null,
   "metadata": {
    "collapsed": false,
    "jupyter": {
     "outputs_hidden": false
    },
    "tags": [
     "nbtutor-solution"
    ]
   },
   "outputs": [],
   "source": [
    "_ = stations[\"bike_stands\"].hist(figsize=(5,2), bins=100)"
   ]
  },
  {
   "cell_type": "markdown",
   "metadata": {},
   "source": [
    "<div class=\"alert alert-success\">\n",
    "\n",
    "**EXERCISE**:\n",
    "\n",
    "Let's now visualize where the available bikes are actually stationed:\n",
    "    \n",
    "* Make a plot of the `stations` dataset (also with a (12, 6) figsize).\n",
    "* Use the `'available_bikes'` columns to determine the color of the points. For this, use the `column=` keyword.\n",
    "* Use the `legend=True` keyword to show a color bar.\n",
    " \n",
    "</div>"
   ]
  },
  {
   "cell_type": "code",
   "execution_count": null,
   "metadata": {
    "collapsed": false,
    "jupyter": {
     "outputs_hidden": false
    },
    "tags": [
     "nbtutor-solution"
    ]
   },
   "outputs": [],
   "source": [
    "_ = stations.plot(figsize=(10, 5), column='available_bikes', legend=True)"
   ]
  },
  {
   "cell_type": "markdown",
   "metadata": {},
   "source": [
    "<div class=\"alert alert-success\">\n",
    "\n",
    "**EXERCISE**:\n",
    "\n",
    "Next, we will explore the dataset on the administrative districts of Paris (available as a GeoJSON file: \"data/paris_districts_utm.geojson\")\n",
    "\n",
    "* Read the dataset into a GeoDataFrame called `districts`.\n",
    "* Check the first rows of the dataframe. What kind of geometries does this dataset contain?\n",
    "* How many features are there in the dataset? (hint: use the `.shape` attribute)\n",
    "* Make a quick plot of the `districts` dataset (set the figure size to (12, 6)).\n",
    "    \n",
    "</div>"
   ]
  },
  {
   "cell_type": "code",
   "execution_count": null,
   "metadata": {
    "tags": [
     "nbtutor-solution"
    ]
   },
   "outputs": [],
   "source": [
    "districts = gpd.read_file(\"./data/vector/paris_districts_utm.geojson\")\n",
    "districts.head()"
   ]
  },
  {
   "cell_type": "code",
   "execution_count": null,
   "metadata": {
    "collapsed": false,
    "jupyter": {
     "outputs_hidden": false
    },
    "tags": [
     "nbtutor-solution"
    ]
   },
   "outputs": [],
   "source": [
    "_ = districts.plot(figsize=(8, 6))"
   ]
  },
  {
   "cell_type": "markdown",
   "metadata": {},
   "source": [
    "<div class=\"alert alert-success\">\n",
    "\n",
    "**EXERCISE**:\n",
    "    \n",
    "What are the largest districts (biggest area)?\n",
    "\n",
    "* Calculate the area of each district.\n",
    "* Add this area as a new column to the `districts` dataframe.\n",
    "* Sort the dataframe by this area column for largest to smallest values (descending).\n",
    "\n",
    "<details><summary>Hints</summary>\n",
    "\n",
    "* Adding a column can be done by assigning values to a column using the same square brackets syntax: `df['new_col'] = values`\n",
    "* To sort the rows of a DataFrame, use the `sort_values()` method, specifying the colum to sort on with the `by='col_name'` keyword. Check the help of this method to see how to sort ascending or descending.\n",
    "\n",
    "</details>\n",
    "\n",
    "</div>"
   ]
  },
  {
   "cell_type": "code",
   "execution_count": null,
   "metadata": {
    "collapsed": false,
    "jupyter": {
     "outputs_hidden": false
    },
    "tags": [
     "nbtutor-solution"
    ]
   },
   "outputs": [],
   "source": [
    "districts.geometry.area"
   ]
  },
  {
   "cell_type": "code",
   "execution_count": null,
   "metadata": {
    "tags": [
     "nbtutor-solution"
    ]
   },
   "outputs": [],
   "source": [
    "# dividing by 10^6 for showing km²\n",
    "districts[\"area\"] = districts.geometry.area / 1e6"
   ]
  },
  {
   "cell_type": "code",
   "execution_count": null,
   "metadata": {
    "collapsed": false,
    "jupyter": {
     "outputs_hidden": false
    },
    "tags": [
     "nbtutor-solution"
    ]
   },
   "outputs": [],
   "source": [
    "districts.sort_values(by='area', ascending=False)"
   ]
  },
  {
   "cell_type": "markdown",
   "metadata": {},
   "source": [
    "<div class=\"alert alert-success\">\n",
    "\n",
    "**EXERCISE**:\n",
    "\n",
    "* Add a column `'population_density'` representing the number of inhabitants per squared kilometer (Note: The area is given in squared meter, so you will need to multiply the result with `10**6`).\n",
    "* Plot the districts using the `'population_density'` to color the polygons. For this, use the `column=` keyword.\n",
    "* Use the `legend=True` keyword to show a color bar.\n",
    "\n",
    "</div>"
   ]
  },
  {
   "cell_type": "code",
   "execution_count": null,
   "metadata": {
    "tags": [
     "nbtutor-solution"
    ]
   },
   "outputs": [],
   "source": [
    "# Add a population density column\n",
    "districts['population_density'] = districts['population'] / districts.geometry.area * 10**6\n",
    "\n",
    "# Make a plot of the districts colored by the population density\n",
    "_ = districts.plot(column='population_density', figsize=(8, 6), legend=True)"
   ]
  },
  {
   "cell_type": "code",
   "execution_count": null,
   "metadata": {
    "collapsed": false,
    "jupyter": {
     "outputs_hidden": false
    },
    "tags": [
     "nbtutor-solution"
    ]
   },
   "outputs": [],
   "source": [
    "# As comparison, the misleading plot when not turning the population number into a density\n",
    "_ = districts.plot(column=\"population\", figsize=(12, 6), legend=True)"
   ]
  },
  {
   "cell_type": "markdown",
   "metadata": {},
   "source": [
    "## Additional Resources and Further Reading\n",
    "\n",
    "Here are some resources to help you learn more about GeoPandas and further develop your geospatial analysis skills in Python:\n",
    "\n",
    "- [GeoPandas Documentation](https://geopandas.org/en/stable/): The official documentation is an excellent resource to learn more about GeoPandas, its features, and API. GeoPandas Documentation\n",
    "- [GeoPandas Gallery](https://geopandas.org/en/stable/gallery/index.html): The GeoPandas Gallery contains various examples and use cases to help you understand the capabilities of the library. GeoPandas Gallery\n",
    "- [Automating GIS-processes course](https://autogis-site.readthedocs.io/en/latest/): This course, offered by the University of Helsinki, covers several Python libraries for geospatial analysis, including GeoPandas. Automating GIS-processes course\n",
    "- [Introduction to Geospatial Data Analysis with Python](https://www.datacamp.com/tutorial/geospatial-data-python): This tutorial by DataCamp provides an introduction to geospatial data analysis using Python and GeoPandas. Introduction to Geospatial Data Analysis with Python\n",
    "\n",
    "---"
   ]
  }
 ],
 "metadata": {
  "celltoolbar": "Nbtutor - export exercises",
  "kernelspec": {
   "display_name": "Python 3 (ipykernel)",
   "language": "python",
   "name": "python3"
  },
  "language_info": {
   "codemirror_mode": {
    "name": "ipython",
    "version": 3
   },
   "file_extension": ".py",
   "mimetype": "text/x-python",
   "name": "python",
   "nbconvert_exporter": "python",
   "pygments_lexer": "ipython3",
   "version": "3.10.10"
  },
  "widgets": {
   "application/vnd.jupyter.widget-state+json": {
    "state": {},
    "version_major": 2,
    "version_minor": 0
   }
  }
 },
 "nbformat": 4,
 "nbformat_minor": 4
}
