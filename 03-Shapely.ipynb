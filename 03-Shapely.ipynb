{
 "cells": [
  {
   "cell_type": "markdown",
   "metadata": {},
   "source": [
    "# `Shapely`: Manipulation & analysis of geometric objects\n",
    "\n",
    "### Roadmap\n",
    "1. [x] Introduction\n",
    "2. [x] Basic Geometry types\n",
    "3. [x] Geometric Object Properties \n",
    "4. [x] Coordinate systems\n",
    "5. [x] Spatial relationships between Geometries\n",
    "6. [x] Affine transofmrations\n",
    "7. [x] Simplifying & Buffering Geometries\n",
    "8. [x] Practical examples & use cases\n",
    "9. [x] Additional resources & further reading"
   ]
  },
  {
   "cell_type": "markdown",
   "metadata": {},
   "source": [
    "Let's start by importing the necessary libraries:"
   ]
  },
  {
   "cell_type": "code",
   "execution_count": 1,
   "metadata": {
    "tags": []
   },
   "outputs": [],
   "source": [
    "import numpy as np\n",
    "import pandas as pd\n",
    "import matplotlib.pyplot as plt"
   ]
  },
  {
   "cell_type": "markdown",
   "metadata": {},
   "source": [
    "## Introduction\n",
    "\n",
    "Shapely is a Python library for the manipulation and analysis of geometric objects. It is based on the widely used [GEOS library](https://libgeos.org/), which provides essential support for geographic information systems (GIS) operations, such as **spatial relationships**, **geometric operations**, and **coordinate transformations**.\n",
    "\n",
    "Shapely is designed for use in conjunction with other Python libraries for geospatial analysis, such as `GeoPandas` and `Rasterio`. It provides a convenient and efficient way to work with geometric objects like **points**, **lines**, and **polygons**, making it an essential tool for many geospatial analysis tasks.\n",
    "\n",
    "### Installation\n",
    "\n",
    "Shapely can be installed using either pip or conda. To install Shapely using pip, open a terminal or command prompt and run:"
   ]
  },
  {
   "cell_type": "code",
   "execution_count": 21,
   "metadata": {
    "collapsed": true,
    "jupyter": {
     "outputs_hidden": true
    },
    "tags": []
   },
   "outputs": [
    {
     "name": "stdout",
     "output_type": "stream",
     "text": [
      "Requirement already satisfied: shapely in /Users/akramz/miniconda3/envs/geospatial_primer/lib/python3.9/site-packages (2.0.1)\n",
      "Requirement already satisfied: numpy>=1.14 in /Users/akramz/miniconda3/envs/geospatial_primer/lib/python3.9/site-packages (from shapely) (1.24.2)\n"
     ]
    }
   ],
   "source": [
    "!pip install shapely"
   ]
  },
  {
   "cell_type": "markdown",
   "metadata": {},
   "source": [
    "Alternatively, if you use the Anaconda distribution or prefer to install packages using conda, you can install Shapely from the conda-forge channel:"
   ]
  },
  {
   "cell_type": "code",
   "execution_count": 22,
   "metadata": {
    "collapsed": true,
    "jupyter": {
     "outputs_hidden": true
    },
    "tags": []
   },
   "outputs": [
    {
     "name": "stdout",
     "output_type": "stream",
     "text": [
      "\n",
      "                  __    __    __    __\n",
      "                 /  \\  /  \\  /  \\  /  \\\n",
      "                /    \\/    \\/    \\/    \\\n",
      "███████████████/  /██/  /██/  /██/  /████████████████████████\n",
      "              /  / \\   / \\   / \\   / \\  \\____\n",
      "             /  /   \\_/   \\_/   \\_/   \\    o \\__,\n",
      "            / _/                       \\_____/  `\n",
      "            |/\n",
      "        ███╗   ███╗ █████╗ ███╗   ███╗██████╗  █████╗\n",
      "        ████╗ ████║██╔══██╗████╗ ████║██╔══██╗██╔══██╗\n",
      "        ██╔████╔██║███████║██╔████╔██║██████╔╝███████║\n",
      "        ██║╚██╔╝██║██╔══██║██║╚██╔╝██║██╔══██╗██╔══██║\n",
      "        ██║ ╚═╝ ██║██║  ██║██║ ╚═╝ ██║██████╔╝██║  ██║\n",
      "        ╚═╝     ╚═╝╚═╝  ╚═╝╚═╝     ╚═╝╚═════╝ ╚═╝  ╚═╝\n",
      "\n",
      "        mamba (1.4.0) supported by @QuantStack\n",
      "\n",
      "        GitHub:  https://github.com/mamba-org/mamba\n",
      "        Twitter: https://twitter.com/QuantStack\n",
      "\n",
      "█████████████████████████████████████████████████████████████\n",
      "\n",
      "\n",
      "Looking for: ['shapely']\n",
      "\n",
      "\u001b[?25l\u001b[2K\u001b[0G[+] 0.0s\n",
      "\u001b[2K\u001b[1A\u001b[2K\u001b[0G[+] 0.1s\n",
      "conda-forge/osx-64 \u001b[33m━━━━━━━━━━━━━━╸\u001b[0m\u001b[90m━━━━━━━━━━\u001b[0m   0.0 B /  ??.?MB @  ??.?MB/s  0.1s\n",
      "conda-forge/noarch \u001b[90m━━━╸\u001b[0m\u001b[33m━━━━━━━━━━━━━━━╸\u001b[0m\u001b[90m━━━━━\u001b[0m   0.0 B /  ??.?MB @  ??.?MB/s  0.1s\n",
      "pkgs/main/osx-64   \u001b[90m━━━━━━━━━╸\u001b[0m\u001b[33m━━━━━━━━━━━━━━━\u001b[0m   0.0 B /  ??.?MB @  ??.?MB/s  0.1s\n",
      "pkgs/main/noarch   \u001b[33m━━━━━━━━━━━━━╸\u001b[0m\u001b[90m━━━━━━━━━━━\u001b[0m   0.0 B /  ??.?MB @  ??.?MB/s  0.1s\n",
      "pkgs/r/osx-64      \u001b[90m━━━━━━━╸\u001b[0m\u001b[33m━━━━━━━━━━━━━━━╸\u001b[0m\u001b[90m━\u001b[0m   0.0 B /  ??.?MB @  ??.?MB/s  0.1s\u001b[2K\u001b[1A\u001b[2K\u001b[1A\u001b[2K\u001b[1A\u001b[2K\u001b[1A\u001b[2K\u001b[1A\u001b[2K\u001b[0G[+] 0.2s\n",
      "conda-forge/osx-64 \u001b[33m━━━━━━━━━━━━━━━╸\u001b[0m\u001b[90m━━━━━━━━━\u001b[0m   0.0 B /  ??.?MB @  ??.?MB/s  0.2s\n",
      "conda-forge/noarch \u001b[90m━━━━╸\u001b[0m\u001b[33m━━━━━━━━━━━━━━━╸\u001b[0m\u001b[90m━━━━\u001b[0m   0.0 B /  ??.?MB @  ??.?MB/s  0.2s\n",
      "pkgs/main/osx-64   \u001b[90m━━━━━━━━━━╸\u001b[0m\u001b[33m━━━━━━━━━━━━━━\u001b[0m   0.0 B /  ??.?MB @  ??.?MB/s  0.2s\n",
      "pkgs/main/noarch   \u001b[33m━━━━━━━━━━━━━━╸\u001b[0m\u001b[90m━━━━━━━━━━\u001b[0m   0.0 B /  ??.?MB @  ??.?MB/s  0.2s\n",
      "pkgs/r/osx-64      \u001b[90m━━━━━━━━╸\u001b[0m\u001b[33m━━━━━━━━━━━━━━━━\u001b[0m   0.0 B /  ??.?MB @  ??.?MB/s  0.2s\u001b[2K\u001b[1A\u001b[2K\u001b[1A\u001b[2K\u001b[1A\u001b[2K\u001b[1A\u001b[2K\u001b[1A\u001b[2K\u001b[0G[+] 0.3s\n",
      "conda-forge/osx-64 \u001b[90m╸\u001b[0m\u001b[33m━━━━━━━━━━━━━━━╸\u001b[0m\u001b[90m━━━━━━━━\u001b[0m   0.0 B /  ??.?MB @  ??.?MB/s  0.3s\n",
      "conda-forge/noarch \u001b[90m━━━━━╸\u001b[0m\u001b[33m━━━━━━━━━━━━━━━╸\u001b[0m\u001b[90m━━━\u001b[0m   0.0 B /  ??.?MB @  ??.?MB/s  0.3s\n",
      "pkgs/main/osx-64   \u001b[90m━━━━━━━━━━━━╸\u001b[0m\u001b[33m━━━━━━━━━━━━\u001b[0m   0.0 B /  ??.?MB @  ??.?MB/s  0.3s\n",
      "pkgs/main/noarch   \u001b[33m━━━━━━━━━━━━━━━╸\u001b[0m\u001b[90m━━━━━━━━━\u001b[0m   0.0 B /  ??.?MB @  ??.?MB/s  0.3s\n",
      "pkgs/r/osx-64      \u001b[90m━━━━━━━━━╸\u001b[0m\u001b[33m━━━━━━━━━━━━━━━\u001b[0m   0.0 B /  ??.?MB @  ??.?MB/s  0.3s\u001b[2K\u001b[1A\u001b[2K\u001b[1A\u001b[2K\u001b[1A\u001b[2K\u001b[1A\u001b[2K\u001b[1A\u001b[2K\u001b[0G[+] 0.4s\n",
      "conda-forge/osx-64 \u001b[90m━╸\u001b[0m\u001b[33m━━━━━━━━━━━━━━━╸\u001b[0m\u001b[90m━━━━━━━\u001b[0m   0.0 B /  ??.?MB @  ??.?MB/s  0.4s\n",
      "conda-forge/noarch \u001b[90m━━━━━━╸\u001b[0m\u001b[33m━━━━━━━━━━━━━━━╸\u001b[0m\u001b[90m━━\u001b[0m   0.0 B /  ??.?MB @  ??.?MB/s  0.4s\n",
      "pkgs/main/osx-64   \u001b[90m━━━━━━━━━━━━━╸\u001b[0m\u001b[33m━━━━━━━━━━━\u001b[0m   0.0 B /  ??.?MB @  ??.?MB/s  0.4s\n",
      "pkgs/main/noarch   \u001b[90m╸\u001b[0m\u001b[33m━━━━━━━━━━━━━━━╸\u001b[0m\u001b[90m━━━━━━━━\u001b[0m   0.0 B /  ??.?MB @  ??.?MB/s  0.4s\n",
      "pkgs/r/osx-64      \u001b[90m━━━━━━━━━━╸\u001b[0m\u001b[33m━━━━━━━━━━━━━━\u001b[0m   0.0 B /  ??.?MB @  ??.?MB/s  0.4s\u001b[2K\u001b[1A\u001b[2K\u001b[1A\u001b[2K\u001b[1A\u001b[2K\u001b[1A\u001b[2K\u001b[1A\u001b[2K\u001b[0G[+] 0.5s\n",
      "conda-forge/osx-64 \u001b[90m━━━━╸\u001b[0m\u001b[33m━━━━━━━━━━━━━━━╸\u001b[0m\u001b[90m━━━━\u001b[0m   0.0 B /  ??.?MB @  ??.?MB/s  0.5s\n",
      "conda-forge/noarch \u001b[90m━━━━━━━━━╸\u001b[0m\u001b[33m━━━━━━━━━━━━━━━\u001b[0m  51.9kB /  ??.?MB @ 106.6kB/s  0.5s\n",
      "pkgs/main/osx-64   \u001b[33m━━━━━━━╸\u001b[0m\u001b[90m━━━━━━━━━━━━━━━━━\u001b[0m   0.0 B /  ??.?MB @  ??.?MB/s  0.5s\n",
      "pkgs/main/noarch   \u001b[90m━━━╸\u001b[0m\u001b[33m━━━━━━━━━━━━━━━╸\u001b[0m\u001b[90m━━━━━\u001b[0m   0.0 B /  ??.?MB @  ??.?MB/s  0.5s\n",
      "pkgs/r/osx-64      \u001b[90m━━━━━━━━━━━━━╸\u001b[0m\u001b[33m━━━━━━━━━━━\u001b[0m   0.0 B /  ??.?MB @  ??.?MB/s  0.5s\u001b[2K\u001b[1A\u001b[2K\u001b[1A\u001b[2K\u001b[1A\u001b[2K\u001b[1A\u001b[2K\u001b[1A\u001b[2K\u001b[0G[+] 0.6s\n",
      "conda-forge/osx-64 \u001b[90m━━━━━╸\u001b[0m\u001b[33m━━━━━━━━━━━━━━━╸\u001b[0m\u001b[90m━━━\u001b[0m   0.0 B /  ??.?MB @  ??.?MB/s  0.6s\n",
      "conda-forge/noarch \u001b[90m━━━━━━━━━━╸\u001b[0m\u001b[33m━━━━━━━━━━━━━━\u001b[0m  99.6kB /  ??.?MB @ 177.1kB/s  0.6s\n",
      "pkgs/main/osx-64   \u001b[33m━━━━━━━━╸\u001b[0m\u001b[90m━━━━━━━━━━━━━━━━\u001b[0m   0.0 B /  ??.?MB @  ??.?MB/s  0.6s\n",
      "pkgs/main/noarch   \u001b[90m━━━━╸\u001b[0m\u001b[33m━━━━━━━━━━━━━━━╸\u001b[0m\u001b[90m━━━━\u001b[0m   0.0 B /  ??.?MB @  ??.?MB/s  0.6s\n",
      "pkgs/r/osx-64      \u001b[90m━━━━━━━━━━━━━━╸\u001b[0m\u001b[33m━━━━━━━━━━\u001b[0m   0.0 B /  ??.?MB @  ??.?MB/s  0.6s\u001b[2K\u001b[1A\u001b[2K\u001b[1A\u001b[2K\u001b[1A\u001b[2K\u001b[1A\u001b[2K\u001b[1A\u001b[2K\u001b[0G[+] 0.7s\n",
      "conda-forge/osx-64 \u001b[90m━━━━━━━╸\u001b[0m\u001b[33m━━━━━━━━━━━━━━━╸\u001b[0m\u001b[90m━\u001b[0m   0.0 B /  ??.?MB @  ??.?MB/s  0.7s\n",
      "conda-forge/noarch \u001b[90m━━━━━━━━━━━━╸\u001b[0m\u001b[33m━━━━━━━━━━━━\u001b[0m 233.8kB /  ??.?MB @ 350.3kB/s  0.7s\n",
      "pkgs/main/osx-64   \u001b[33m━━━━━━━━━━━╸\u001b[0m\u001b[90m━━━━━━━━━━━━━\u001b[0m   0.0 B /  ??.?MB @  ??.?MB/s  0.7s\n",
      "pkgs/main/noarch   \u001b[90m━━━━━━╸\u001b[0m\u001b[33m━━━━━━━━━━━━━━━╸\u001b[0m\u001b[90m━━\u001b[0m   0.0 B /  ??.?MB @  ??.?MB/s  0.7s\n",
      "pkgs/r/osx-64      \u001b[33m━━━━━━━━╸\u001b[0m\u001b[90m━━━━━━━━━━━━━━━━\u001b[0m   0.0 B /  ??.?MB @  ??.?MB/s  0.7s\u001b[2K\u001b[1A\u001b[2K\u001b[1A\u001b[2K\u001b[1A\u001b[2K\u001b[1A\u001b[2K\u001b[1A\u001b[2K\u001b[0G[+] 0.8s\n",
      "conda-forge/osx-64 \u001b[90m━━━━━━━━━━╸\u001b[0m\u001b[33m━━━━━━━━━━━━━━\u001b[0m  12.3kB /  ??.?MB @  15.9kB/s  0.8s\n",
      "conda-forge/noarch \u001b[90m━━━━━━━━━━━━━━━╸\u001b[0m\u001b[33m━━━━━━━━━\u001b[0m 346.6kB /  ??.?MB @ 449.3kB/s  0.8s\n",
      "pkgs/main/osx-64   \u001b[33m━━━━━━━━━━━━━╸\u001b[0m\u001b[90m━━━━━━━━━━━\u001b[0m   0.0 B /  ??.?MB @  ??.?MB/s  0.8s\n",
      "pkgs/main/noarch   \u001b[90m━━━━━━━━━╸\u001b[0m\u001b[33m━━━━━━━━━━━━━━━\u001b[0m   0.0 B /  ??.?MB @  ??.?MB/s  0.8s\n",
      "pkgs/r/osx-64      \u001b[33m━━━━━━━━━━━╸\u001b[0m\u001b[90m━━━━━━━━━━━━━\u001b[0m   0.0 B /  ??.?MB @  ??.?MB/s  0.8s\u001b[2K\u001b[1A\u001b[2K\u001b[1A\u001b[2K\u001b[1A\u001b[2K\u001b[1A\u001b[2K\u001b[1A\u001b[2K\u001b[0G[+] 0.9s\n",
      "conda-forge/osx-64 \u001b[90m━━━━━━━━━━━━╸\u001b[0m\u001b[33m━━━━━━━━━━━━\u001b[0m  33.4kB /  ??.?MB @  37.4kB/s  0.9s\n",
      "conda-forge/noarch \u001b[33m━━━━━━━━━╸\u001b[0m\u001b[90m━━━━━━━━━━━━━━━\u001b[0m 363.0kB /  ??.?MB @ 406.5kB/s  0.9s\n",
      "pkgs/main/osx-64   \u001b[90m╸\u001b[0m\u001b[33m━━━━━━━━━━━━━━━╸\u001b[0m\u001b[90m━━━━━━━━\u001b[0m   0.0 B /  ??.?MB @  ??.?MB/s  0.9s\n",
      "pkgs/main/noarch   \u001b[90m━━━━━━━━━━━╸\u001b[0m\u001b[33m━━━━━━━━━━━━━\u001b[0m   0.0 B /  ??.?MB @  ??.?MB/s  0.9s\n",
      "pkgs/r/osx-64      \u001b[33m━━━━━━━━━━━━━╸\u001b[0m\u001b[90m━━━━━━━━━━━\u001b[0m   0.0 B /  ??.?MB @  ??.?MB/s  0.9s\u001b[2K\u001b[1A\u001b[2K\u001b[1A\u001b[2K\u001b[1A\u001b[2K\u001b[1A\u001b[2K\u001b[1A\u001b[2K\u001b[0G[+] 1.0s\n",
      "conda-forge/osx-64 \u001b[90m━━━━━━━━━━━━━━━╸\u001b[0m\u001b[33m━━━━━━━━━\u001b[0m  52.3kB /  ??.?MB @  52.3kB/s  1.0s\n",
      "conda-forge/noarch \u001b[33m━━━━━━━━━━━╸\u001b[0m\u001b[90m━━━━━━━━━━━━━\u001b[0m 477.5kB /  ??.?MB @ 477.5kB/s  1.0s\n",
      "pkgs/main/osx-64   \u001b[90m━━╸\u001b[0m\u001b[33m━━━━━━━━━━━━━━━╸\u001b[0m\u001b[90m━━━━━━\u001b[0m   0.0 B /  ??.?MB @  ??.?MB/s  1.0s\n",
      "pkgs/main/noarch   \u001b[90m━━━━━━━━━━━━━━╸\u001b[0m\u001b[33m━━━━━━━━━━\u001b[0m   0.0 B /  ??.?MB @  ??.?MB/s  1.0s\n",
      "pkgs/r/osx-64      \u001b[33m━━━━━━━━━━━━━━━╸\u001b[0m\u001b[90m━━━━━━━━━\u001b[0m   0.0 B /  ??.?MB @  ??.?MB/s  1.0s\u001b[2K\u001b[1A\u001b[2K\u001b[1A\u001b[2K\u001b[1A\u001b[2K\u001b[1A\u001b[2K\u001b[1A\u001b[2K\u001b[0G[+] 1.1s\n",
      "conda-forge/osx-64 \u001b[33m━━━━━━━━━╸\u001b[0m\u001b[90m━━━━━━━━━━━━━━━\u001b[0m  78.6kB /  ??.?MB @  71.3kB/s  1.1s\n",
      "conda-forge/noarch \u001b[33m━━━━━━━━━━━━━━╸\u001b[0m\u001b[90m━━━━━━━━━━\u001b[0m 608.3kB /  ??.?MB @ 551.7kB/s  1.1s\n",
      "pkgs/main/osx-64   \u001b[90m━━━━╸\u001b[0m\u001b[33m━━━━━━━━━━━━━━━╸\u001b[0m\u001b[90m━━━━\u001b[0m   0.0 B /  ??.?MB @  ??.?MB/s  1.1s\n",
      "pkgs/main/noarch   \u001b[33m━━━━━━━━╸\u001b[0m\u001b[90m━━━━━━━━━━━━━━━━\u001b[0m   0.0 B /  ??.?MB @  ??.?MB/s  1.1s\n",
      "pkgs/r/osx-64      \u001b[90m━━╸\u001b[0m\u001b[33m━━━━━━━━━━━━━━━╸\u001b[0m\u001b[90m━━━━━━\u001b[0m   0.0 B /  ??.?MB @  ??.?MB/s  1.1s\u001b[2K\u001b[1A\u001b[2K\u001b[1A\u001b[2K\u001b[1A\u001b[2K\u001b[1A\u001b[2K\u001b[1A\u001b[2K\u001b[0G[+] 1.2s\n",
      "conda-forge/osx-64 \u001b[33m━━━━━━━━━━╸\u001b[0m\u001b[90m━━━━━━━━━━━━━━\u001b[0m  95.3kB /  ??.?MB @  82.6kB/s  1.2s\n",
      "conda-forge/noarch \u001b[33m━━━━━━━━━━━━━━━╸\u001b[0m\u001b[90m━━━━━━━━━\u001b[0m 624.7kB /  ??.?MB @ 541.2kB/s  1.2s\n",
      "pkgs/main/osx-64   \u001b[90m━━━━━━╸\u001b[0m\u001b[33m━━━━━━━━━━━━━━━╸\u001b[0m\u001b[90m━━\u001b[0m   0.0 B /  ??.?MB @  ??.?MB/s  1.2s\n",
      "pkgs/main/noarch   \u001b[33m━━━━━━━━━╸\u001b[0m\u001b[90m━━━━━━━━━━━━━━━\u001b[0m   0.0 B /  ??.?MB @  ??.?MB/s  1.2s\n",
      "pkgs/r/osx-64      \u001b[90m━━━╸\u001b[0m\u001b[33m━━━━━━━━━━━━━━━╸\u001b[0m\u001b[90m━━━━━\u001b[0m   0.0 B /  ??.?MB @  ??.?MB/s  1.2s\u001b[2K\u001b[1A\u001b[2K\u001b[1A\u001b[2K\u001b[1A\u001b[2K\u001b[1A\u001b[2K\u001b[1A\u001b[2K\u001b[0G[+] 1.3s\n",
      "conda-forge/osx-64 \u001b[33m━━━━━━━━━━━━━╸\u001b[0m\u001b[90m━━━━━━━━━━━\u001b[0m 112.2kB /  ??.?MB @  86.9kB/s  1.3s\n",
      "conda-forge/noarch \u001b[90m━╸\u001b[0m\u001b[33m━━━━━━━━━━━━━━━╸\u001b[0m\u001b[90m━━━━━━━\u001b[0m 706.4kB /  ??.?MB @ 547.3kB/s  1.3s\n",
      "pkgs/main/osx-64   \u001b[90m━━━━━━━━╸\u001b[0m\u001b[33m━━━━━━━━━━━━━━━━\u001b[0m   0.0 B /  ??.?MB @  ??.?MB/s  1.3s\n",
      "pkgs/main/noarch   \u001b[33m━━━━━━━━━━━━╸\u001b[0m\u001b[90m━━━━━━━━━━━━\u001b[0m   0.0 B /  ??.?MB @  ??.?MB/s  1.3s\n",
      "pkgs/r/osx-64      \u001b[90m━━━━━╸\u001b[0m\u001b[33m━━━━━━━━━━━━━━━╸\u001b[0m\u001b[90m━━━\u001b[0m   0.0 B /  ??.?MB @  ??.?MB/s  1.3s\u001b[2K\u001b[1A\u001b[2K\u001b[1A\u001b[2K\u001b[1A\u001b[2K\u001b[1A\u001b[2K\u001b[1A\u001b[2K\u001b[0G[+] 1.4s\n",
      "conda-forge/osx-64 \u001b[33m━━━━━━━━━━━━━╸\u001b[0m\u001b[90m━━━━━━━━━━━\u001b[0m 112.2kB /  ??.?MB @  86.9kB/s  1.4s\n",
      "conda-forge/noarch \u001b[90m━╸\u001b[0m\u001b[33m━━━━━━━━━━━━━━━╸\u001b[0m\u001b[90m━━━━━━━\u001b[0m 706.4kB /  ??.?MB @ 547.3kB/s  1.4s\n",
      "pkgs/main/osx-64   \u001b[90m━━━━━━━━╸\u001b[0m\u001b[33m━━━━━━━━━━━━━━━━\u001b[0m   0.0 B /  ??.?MB @  ??.?MB/s  1.4s\n",
      "pkgs/main/noarch   \u001b[33m━━━━━━━━━━━━╸\u001b[0m\u001b[90m━━━━━━━━━━━━\u001b[0m   0.0 B /  ??.?MB @  ??.?MB/s  1.4s\n",
      "pkgs/r/osx-64      \u001b[90m━━━━━╸\u001b[0m\u001b[33m━━━━━━━━━━━━━━━╸\u001b[0m\u001b[90m━━━\u001b[0m   0.0 B /  ??.?MB @  ??.?MB/s  1.4s\u001b[2K\u001b[1A\u001b[2K\u001b[1A\u001b[2K\u001b[1A\u001b[2K\u001b[1A\u001b[2K\u001b[1A\u001b[2K\u001b[0G[+] 1.5s\n",
      "conda-forge/osx-64 \u001b[33m━━━━━━━━━━━━━━━╸\u001b[0m\u001b[90m━━━━━━━━━\u001b[0m 258.7kB /  ??.?MB @ 173.0kB/s  1.5s\n",
      "conda-forge/noarch \u001b[90m━━━╸\u001b[0m\u001b[33m━━━━━━━━━━━━━━━╸\u001b[0m\u001b[90m━━━━━\u001b[0m 996.2kB /  ??.?MB @ 686.8kB/s  1.5s\n",
      "pkgs/main/osx-64   \u001b[90m━━━━━━━━━╸\u001b[0m\u001b[33m━━━━━━━━━━━━━━━\u001b[0m   0.0 B /  ??.?MB @  ??.?MB/s  1.5s\n",
      "pkgs/main/noarch   \u001b[33m━━━━━━━━━━━━━╸\u001b[0m\u001b[90m━━━━━━━━━━━\u001b[0m   0.0 B /  ??.?MB @  ??.?MB/s  1.5s\n",
      "pkgs/r/osx-64      \u001b[90m━━━━━━━╸\u001b[0m\u001b[33m━━━━━━━━━━━━━━━╸\u001b[0m\u001b[90m━\u001b[0m   0.0 B /  ??.?MB @  ??.?MB/s  1.5s\u001b[2K\u001b[1A\u001b[2K\u001b[1A\u001b[2K\u001b[1A\u001b[2K\u001b[1A\u001b[2K\u001b[1A\u001b[2K\u001b[0G[+] 1.6s\n",
      "conda-forge/osx-64 \u001b[90m╸\u001b[0m\u001b[33m━━━━━━━━━━━━━━━╸\u001b[0m\u001b[90m━━━━━━━━\u001b[0m 261.1kB /  ??.?MB @ 168.2kB/s  1.6s\n",
      "conda-forge/noarch \u001b[90m━━━━━╸\u001b[0m\u001b[33m━━━━━━━━━━━━━━━╸\u001b[0m\u001b[90m━━━\u001b[0m   1.0MB /  ??.?MB @ 656.7kB/s  1.6s\n",
      "pkgs/main/osx-64   \u001b[90m━━━━━━━━━━━━╸\u001b[0m\u001b[33m━━━━━━━━━━━━\u001b[0m   0.0 B /  ??.?MB @  ??.?MB/s  1.6s\n",
      "pkgs/main/noarch   \u001b[33m━━━━━━━━━━━━━━━╸\u001b[0m\u001b[90m━━━━━━━━━\u001b[0m   0.0 B /  ??.?MB @  ??.?MB/s  1.6s\n",
      "pkgs/r/osx-64      \u001b[90m━━━━━━━━━╸\u001b[0m\u001b[33m━━━━━━━━━━━━━━━\u001b[0m   0.0 B /  ??.?MB @  ??.?MB/s  1.6s\u001b[2K\u001b[1A\u001b[2K\u001b[1A\u001b[2K\u001b[1A\u001b[2K\u001b[1A\u001b[2K\u001b[1A\u001b[2K\u001b[0G[+] 1.7s\n",
      "conda-forge/osx-64 \u001b[90m━━━╸\u001b[0m\u001b[33m━━━━━━━━━━━━━━━╸\u001b[0m\u001b[90m━━━━━\u001b[0m 333.4kB /  ??.?MB @ 197.2kB/s  1.7s\n",
      "conda-forge/noarch \u001b[90m━━━━━━╸\u001b[0m\u001b[33m━━━━━━━━━━━━━━━╸\u001b[0m\u001b[90m━━\u001b[0m   1.1MB /  ??.?MB @ 625.8kB/s  1.7s\n",
      "pkgs/main/osx-64   \u001b[90m━━━━━━━━━━━━━╸\u001b[0m\u001b[33m━━━━━━━━━━━\u001b[0m   0.0 B /  ??.?MB @  ??.?MB/s  1.7s\n",
      "pkgs/main/noarch   \u001b[90m╸\u001b[0m\u001b[33m━━━━━━━━━━━━━━━╸\u001b[0m\u001b[90m━━━━━━━━\u001b[0m   0.0 B /  ??.?MB @  ??.?MB/s  1.7s\n",
      "pkgs/r/osx-64      \u001b[90m━━━━━━━━━━╸\u001b[0m\u001b[33m━━━━━━━━━━━━━━\u001b[0m   0.0 B /  ??.?MB @  ??.?MB/s  1.7s\u001b[2K\u001b[1A\u001b[2K\u001b[1A\u001b[2K\u001b[1A\u001b[2K\u001b[1A\u001b[2K\u001b[1A\u001b[2K\u001b[0G[+] 1.8s\n",
      "conda-forge/osx-64 \u001b[90m━━━╸\u001b[0m\u001b[33m━━━━━━━━━━━━━━━╸\u001b[0m\u001b[90m━━━━━\u001b[0m 333.4kB /  ??.?MB @ 197.2kB/s  1.8s\n",
      "conda-forge/noarch \u001b[90m━━━━━━╸\u001b[0m\u001b[33m━━━━━━━━━━━━━━━╸\u001b[0m\u001b[90m━━\u001b[0m   1.1MB /  ??.?MB @ 625.8kB/s  1.8s\n",
      "pkgs/main/osx-64   \u001b[90m━━━━━━━━━━━━━╸\u001b[0m\u001b[33m━━━━━━━━━━━\u001b[0m   0.0 B /  ??.?MB @  ??.?MB/s  1.8s\n",
      "pkgs/main/noarch   \u001b[90m╸\u001b[0m\u001b[33m━━━━━━━━━━━━━━━╸\u001b[0m\u001b[90m━━━━━━━━\u001b[0m   0.0 B /  ??.?MB @  ??.?MB/s  1.8s\n",
      "pkgs/r/osx-64      \u001b[90m━━━━━━━━━━╸\u001b[0m\u001b[33m━━━━━━━━━━━━━━\u001b[0m   0.0 B /  ??.?MB @  ??.?MB/s  1.8s\u001b[2K\u001b[1A\u001b[2K\u001b[1A\u001b[2K\u001b[1A\u001b[2K\u001b[1A\u001b[2K\u001b[1A\u001b[2K\u001b[0Gpkgs/main/osx-64                                              No change\n",
      "pkgs/main/noarch                                              No change\n",
      "pkgs/r/osx-64                                                 No change\n",
      "[+] 1.9s\n",
      "conda-forge/osx-64 \u001b[90m━━━━━╸\u001b[0m\u001b[33m━━━━━━━━━━━━━━━╸\u001b[0m\u001b[90m━━━\u001b[0m 565.4kB /  ??.?MB @ 303.9kB/s  1.9s\n",
      "conda-forge/noarch \u001b[90m━━━━━━━━━╸\u001b[0m\u001b[33m━━━━━━━━━━━━━━━\u001b[0m   1.4MB /  ??.?MB @ 726.9kB/s  1.9s\n",
      "pkgs/r/noarch      \u001b[90m━━━━━━━━━╸\u001b[0m\u001b[33m━━━━━━━━━━━━━━━\u001b[0m   0.0 B /  ??.?MB @  ??.?MB/s  0.1s\u001b[2K\u001b[1A\u001b[2K\u001b[1A\u001b[2K\u001b[1A\u001b[2K\u001b[0Gpkgs/r/noarch                                                 No change\n",
      "[+] 2.0s\n",
      "conda-forge/osx-64 \u001b[90m━━━━━━━╸\u001b[0m\u001b[33m━━━━━━━━━━━━━━━╸\u001b[0m\u001b[90m━\u001b[0m 651.3kB /  ??.?MB @ 330.5kB/s  2.0s\n",
      "conda-forge/noarch \u001b[90m━━━━━━━━━━━╸\u001b[0m\u001b[33m━━━━━━━━━━━━━\u001b[0m   1.5MB /  ??.?MB @ 736.2kB/s  2.0s\u001b[2K\u001b[1A\u001b[2K\u001b[1A\u001b[2K\u001b[0G[+] 2.1s\n",
      "conda-forge/osx-64 \u001b[90m━━━━━━━━━╸\u001b[0m\u001b[33m━━━━━━━━━━━━━━━\u001b[0m 667.6kB /  ??.?MB @ 330.3kB/s  2.1s\n",
      "conda-forge/noarch \u001b[90m━━━━━━━━━━━━╸\u001b[0m\u001b[33m━━━━━━━━━━━━\u001b[0m   1.5MB /  ??.?MB @ 763.6kB/s  2.1s\u001b[2K\u001b[1A\u001b[2K\u001b[1A\u001b[2K\u001b[0G[+] 2.2s\n",
      "conda-forge/osx-64 \u001b[90m━━━━━━━━━━━╸\u001b[0m\u001b[33m━━━━━━━━━━━━━\u001b[0m 667.6kB /  ??.?MB @ 303.2kB/s  2.2s\n",
      "conda-forge/noarch \u001b[90m━━━━━━━━━━━━━╸\u001b[0m\u001b[33m━━━━━━━━━━━\u001b[0m   1.6MB /  ??.?MB @ 725.4kB/s  2.2s\u001b[2K\u001b[1A\u001b[2K\u001b[1A\u001b[2K\u001b[0G[+] 2.3s\n",
      "conda-forge/osx-64 \u001b[90m━━━━━━━━━━━━╸\u001b[0m\u001b[33m━━━━━━━━━━━━\u001b[0m 929.1kB /  ??.?MB @ 412.5kB/s  2.3s\n",
      "conda-forge/noarch \u001b[33m━━━━━━━━╸\u001b[0m\u001b[90m━━━━━━━━━━━━━━━━\u001b[0m   1.9MB /  ??.?MB @ 841.6kB/s  2.3s\u001b[2K\u001b[1A\u001b[2K\u001b[1A\u001b[2K\u001b[0G[+] 2.4s\n",
      "conda-forge/osx-64 \u001b[90m━━━━━━━━━━━━━━━╸\u001b[0m\u001b[33m━━━━━━━━━\u001b[0m   1.1MB /  ??.?MB @ 450.1kB/s  2.4s\n",
      "conda-forge/noarch \u001b[33m━━━━━━━━━━╸\u001b[0m\u001b[90m━━━━━━━━━━━━━━\u001b[0m   2.1MB /  ??.?MB @ 879.9kB/s  2.4s\u001b[2K\u001b[1A\u001b[2K\u001b[1A\u001b[2K\u001b[0G[+] 2.5s\n",
      "conda-forge/osx-64 \u001b[33m━━━━━━━━━╸\u001b[0m\u001b[90m━━━━━━━━━━━━━━━\u001b[0m   1.2MB /  ??.?MB @ 478.0kB/s  2.5s\n",
      "conda-forge/noarch \u001b[33m━━━━━━━━━━━━━╸\u001b[0m\u001b[90m━━━━━━━━━━━\u001b[0m   2.2MB /  ??.?MB @ 906.7kB/s  2.5s\u001b[2K\u001b[1A\u001b[2K\u001b[1A\u001b[2K\u001b[0G[+] 2.6s\n",
      "conda-forge/osx-64 \u001b[33m━━━━━━━━━━━╸\u001b[0m\u001b[90m━━━━━━━━━━━━━\u001b[0m   1.3MB /  ??.?MB @ 507.0kB/s  2.6s\n",
      "conda-forge/noarch \u001b[33m━━━━━━━━━━━━━━━╸\u001b[0m\u001b[90m━━━━━━━━━\u001b[0m   2.4MB /  ??.?MB @ 925.7kB/s  2.6s\u001b[2K\u001b[1A\u001b[2K\u001b[1A\u001b[2K\u001b[0G[+] 2.7s\n",
      "conda-forge/osx-64 \u001b[33m━━━━━━━━━━━━━━╸\u001b[0m\u001b[90m━━━━━━━━━━\u001b[0m   1.5MB /  ??.?MB @ 567.3kB/s  2.7s\n",
      "conda-forge/noarch \u001b[90m━╸\u001b[0m\u001b[33m━━━━━━━━━━━━━━━╸\u001b[0m\u001b[90m━━━━━━━\u001b[0m   2.6MB /  ??.?MB @ 969.6kB/s  2.7s\u001b[2K\u001b[1A\u001b[2K\u001b[1A\u001b[2K\u001b[0G[+] 2.8s\n",
      "conda-forge/osx-64 \u001b[90m╸\u001b[0m\u001b[33m━━━━━━━━━━━━━━━╸\u001b[0m\u001b[90m━━━━━━━━\u001b[0m   1.7MB /  ??.?MB @ 602.8kB/s  2.8s\n",
      "conda-forge/noarch \u001b[90m━━━━╸\u001b[0m\u001b[33m━━━━━━━━━━━━━━━╸\u001b[0m\u001b[90m━━━━\u001b[0m   2.8MB /  ??.?MB @ 992.3kB/s  2.8s\u001b[2K\u001b[1A\u001b[2K\u001b[1A\u001b[2K\u001b[0G[+] 2.9s\n",
      "conda-forge/osx-64 \u001b[90m━━━╸\u001b[0m\u001b[33m━━━━━━━━━━━━━━━╸\u001b[0m\u001b[90m━━━━━\u001b[0m   1.8MB /  ??.?MB @ 633.1kB/s  2.9s\n",
      "conda-forge/noarch \u001b[90m━━━━━━╸\u001b[0m\u001b[33m━━━━━━━━━━━━━━━╸\u001b[0m\u001b[90m━━\u001b[0m   2.9MB /  ??.?MB @   1.0MB/s  2.9s\u001b[2K\u001b[1A\u001b[2K\u001b[1A\u001b[2K\u001b[0G[+] 3.0s\n",
      "conda-forge/osx-64 \u001b[90m━━━━╸\u001b[0m\u001b[33m━━━━━━━━━━━━━━━╸\u001b[0m\u001b[90m━━━━\u001b[0m   1.8MB /  ??.?MB @ 633.4kB/s  3.0s\n",
      "conda-forge/noarch \u001b[90m━━━━━━━╸\u001b[0m\u001b[33m━━━━━━━━━━━━━━━╸\u001b[0m\u001b[90m━\u001b[0m   3.0MB /  ??.?MB @   1.0MB/s  3.0s\u001b[2K\u001b[1A\u001b[2K\u001b[1A\u001b[2K\u001b[0G[+] 3.1s\n",
      "conda-forge/osx-64 \u001b[90m━━━━━╸\u001b[0m\u001b[33m━━━━━━━━━━━━━━━╸\u001b[0m\u001b[90m━━━\u001b[0m   1.9MB /  ??.?MB @ 639.8kB/s  3.1s\n",
      "conda-forge/noarch \u001b[90m━━━━━━━━━╸\u001b[0m\u001b[33m━━━━━━━━━━━━━━━\u001b[0m   3.0MB /  ??.?MB @ 983.9kB/s  3.1s\u001b[2K\u001b[1A\u001b[2K\u001b[1A\u001b[2K\u001b[0G[+] 3.2s\n",
      "conda-forge/osx-64 \u001b[90m━━━━━━━╸\u001b[0m\u001b[33m━━━━━━━━━━━━━━━╸\u001b[0m\u001b[90m━\u001b[0m   2.2MB /  ??.?MB @ 695.7kB/s  3.2s\n",
      "conda-forge/noarch \u001b[90m━━━━━━━━━━━╸\u001b[0m\u001b[33m━━━━━━━━━━━━━\u001b[0m   3.3MB /  ??.?MB @   1.0MB/s  3.2s\u001b[2K\u001b[1A\u001b[2K\u001b[1A\u001b[2K\u001b[0G[+] 3.3s\n",
      "conda-forge/osx-64 \u001b[90m━━━━━━━━━━╸\u001b[0m\u001b[33m━━━━━━━━━━━━━━\u001b[0m   2.5MB /  ??.?MB @ 759.0kB/s  3.3s\n",
      "conda-forge/noarch \u001b[90m━━━━━━━━━━━━━╸\u001b[0m\u001b[33m━━━━━━━━━━━\u001b[0m   3.7MB /  ??.?MB @   1.1MB/s  3.3s\u001b[2K\u001b[1A\u001b[2K\u001b[1A\u001b[2K\u001b[0G[+] 3.4s\n",
      "conda-forge/osx-64 \u001b[90m━━━━━━━━━━━━╸\u001b[0m\u001b[33m━━━━━━━━━━━━\u001b[0m   2.6MB /  ??.?MB @ 779.4kB/s  3.4s\n",
      "conda-forge/noarch \u001b[33m━━━━━━━━╸\u001b[0m\u001b[90m━━━━━━━━━━━━━━━━\u001b[0m   3.8MB /  ??.?MB @   1.1MB/s  3.4s\u001b[2K\u001b[1A\u001b[2K\u001b[1A\u001b[2K\u001b[0G[+] 3.5s\n",
      "conda-forge/osx-64 \u001b[90m━━━━━━━━━━━━━╸\u001b[0m\u001b[33m━━━━━━━━━━━\u001b[0m   2.7MB /  ??.?MB @ 791.3kB/s  3.5s\n",
      "conda-forge/noarch \u001b[33m━━━━━━━━━╸\u001b[0m\u001b[90m━━━━━━━━━━━━━━━\u001b[0m   3.8MB /  ??.?MB @   1.1MB/s  3.5s\u001b[2K\u001b[1A\u001b[2K\u001b[1A\u001b[2K\u001b[0G[+] 3.6s\n",
      "conda-forge/osx-64 \u001b[90m━━━━━━━━━━━━━━━╸\u001b[0m\u001b[33m━━━━━━━━━\u001b[0m   2.9MB /  ??.?MB @ 808.8kB/s  3.6s\n",
      "conda-forge/noarch \u001b[33m━━━━━━━━━━╸\u001b[0m\u001b[90m━━━━━━━━━━━━━━\u001b[0m   4.0MB /  ??.?MB @   1.1MB/s  3.6s\u001b[2K\u001b[1A\u001b[2K\u001b[1A\u001b[2K\u001b[0G[+] 3.7s\n",
      "conda-forge/osx-64 \u001b[33m━━━━━━━━━╸\u001b[0m\u001b[90m━━━━━━━━━━━━━━━\u001b[0m   3.1MB /  ??.?MB @ 844.1kB/s  3.7s\n",
      "conda-forge/noarch \u001b[33m━━━━━━━━━━━━━╸\u001b[0m\u001b[90m━━━━━━━━━━━\u001b[0m   4.4MB /  ??.?MB @   1.2MB/s  3.7s\u001b[2K\u001b[1A\u001b[2K\u001b[1A\u001b[2K\u001b[0G[+] 3.8s\n",
      "conda-forge/osx-64 \u001b[33m━━━━━━━━━━━╸\u001b[0m\u001b[90m━━━━━━━━━━━━━\u001b[0m   3.3MB /  ??.?MB @ 869.3kB/s  3.8s\n",
      "conda-forge/noarch \u001b[33m━━━━━━━━━━━━━━━╸\u001b[0m\u001b[90m━━━━━━━━━\u001b[0m   4.6MB /  ??.?MB @   1.2MB/s  3.8s\u001b[2K\u001b[1A\u001b[2K\u001b[1A\u001b[2K\u001b[0G[+] 3.9s\n",
      "conda-forge/osx-64 \u001b[33m━━━━━━━━━━━━━━╸\u001b[0m\u001b[90m━━━━━━━━━━\u001b[0m   3.5MB /  ??.?MB @ 894.9kB/s  3.9s\n",
      "conda-forge/noarch \u001b[90m━╸\u001b[0m\u001b[33m━━━━━━━━━━━━━━━╸\u001b[0m\u001b[90m━━━━━━━\u001b[0m   4.9MB /  ??.?MB @   1.3MB/s  3.9s\u001b[2K\u001b[1A\u001b[2K\u001b[1A\u001b[2K\u001b[0G[+] 4.0s\n",
      "conda-forge/osx-64 \u001b[90m╸\u001b[0m\u001b[33m━━━━━━━━━━━━━━━╸\u001b[0m\u001b[90m━━━━━━━━\u001b[0m   3.7MB /  ??.?MB @ 927.0kB/s  4.0s\n",
      "conda-forge/noarch \u001b[90m━━━━╸\u001b[0m\u001b[33m━━━━━━━━━━━━━━━╸\u001b[0m\u001b[90m━━━━\u001b[0m   5.1MB /  ??.?MB @   1.3MB/s  4.0s\u001b[2K\u001b[1A\u001b[2K\u001b[1A\u001b[2K\u001b[0G[+] 4.1s\n",
      "conda-forge/osx-64 \u001b[90m━━━╸\u001b[0m\u001b[33m━━━━━━━━━━━━━━━╸\u001b[0m\u001b[90m━━━━━\u001b[0m   3.8MB /  ??.?MB @ 944.1kB/s  4.1s\n",
      "conda-forge/noarch \u001b[90m━━━━━╸\u001b[0m\u001b[33m━━━━━━━━━━━━━━━╸\u001b[0m\u001b[90m━━━\u001b[0m   5.1MB /  ??.?MB @   1.3MB/s  4.1s\u001b[2K\u001b[1A\u001b[2K\u001b[1A\u001b[2K\u001b[0G[+] 4.2s\n",
      "conda-forge/osx-64 \u001b[90m━━━━╸\u001b[0m\u001b[33m━━━━━━━━━━━━━━━╸\u001b[0m\u001b[90m━━━━\u001b[0m   3.9MB /  ??.?MB @ 935.4kB/s  4.2s\n",
      "conda-forge/noarch \u001b[90m━━━━━━╸\u001b[0m\u001b[33m━━━━━━━━━━━━━━━╸\u001b[0m\u001b[90m━━\u001b[0m   5.2MB /  ??.?MB @   1.3MB/s  4.2s\u001b[2K\u001b[1A\u001b[2K\u001b[1A\u001b[2K\u001b[0G[+] 4.3s\n",
      "conda-forge/osx-64 \u001b[90m━━━━━━╸\u001b[0m\u001b[33m━━━━━━━━━━━━━━━╸\u001b[0m\u001b[90m━━\u001b[0m   4.2MB /  ??.?MB @ 975.5kB/s  4.3s\n",
      "conda-forge/noarch \u001b[90m━━━━━━━━━╸\u001b[0m\u001b[33m━━━━━━━━━━━━━━━\u001b[0m   5.5MB /  ??.?MB @   1.3MB/s  4.3s\u001b[2K\u001b[1A\u001b[2K\u001b[1A\u001b[2K\u001b[0G[+] 4.4s\n",
      "conda-forge/osx-64 \u001b[90m━━━━━━━━━╸\u001b[0m\u001b[33m━━━━━━━━━━━━━━━\u001b[0m   4.3MB /  ??.?MB @ 985.4kB/s  4.4s\n",
      "conda-forge/noarch \u001b[90m━━━━━━━━━━━╸\u001b[0m\u001b[33m━━━━━━━━━━━━━\u001b[0m   5.6MB /  ??.?MB @   1.3MB/s  4.4s\u001b[2K\u001b[1A\u001b[2K\u001b[1A\u001b[2K\u001b[0G[+] 4.5s\n",
      "conda-forge/osx-64 \u001b[90m━━━━━━━━━━╸\u001b[0m\u001b[33m━━━━━━━━━━━━━━\u001b[0m   4.4MB /  ??.?MB @ 992.6kB/s  4.5s\n",
      "conda-forge/noarch \u001b[90m━━━━━━━━━━━━╸\u001b[0m\u001b[33m━━━━━━━━━━━━\u001b[0m   5.7MB /  ??.?MB @   1.3MB/s  4.5s\u001b[2K\u001b[1A\u001b[2K\u001b[1A\u001b[2K\u001b[0G[+] 4.6s\n",
      "conda-forge/osx-64 \u001b[90m━━━━━━━━━━━━╸\u001b[0m\u001b[33m━━━━━━━━━━━━\u001b[0m   4.5MB /  ??.?MB @ 993.7kB/s  4.6s\n",
      "conda-forge/noarch \u001b[90m━━━━━━━━━━━━━━━╸\u001b[0m\u001b[33m━━━━━━━━━\u001b[0m   6.0MB /  ??.?MB @   1.3MB/s  4.6s\u001b[2K\u001b[1A\u001b[2K\u001b[1A\u001b[2K\u001b[0G[+] 4.7s\n",
      "conda-forge/osx-64 \u001b[90m━━━━━━━━━━━━━━━╸\u001b[0m\u001b[33m━━━━━━━━━\u001b[0m   4.6MB /  ??.?MB @ 988.9kB/s  4.7s\n",
      "conda-forge/noarch \u001b[33m━━━━━━━━━╸\u001b[0m\u001b[90m━━━━━━━━━━━━━━━\u001b[0m   6.0MB /  ??.?MB @   1.3MB/s  4.7s\u001b[2K\u001b[1A\u001b[2K\u001b[1A\u001b[2K\u001b[0G[+] 4.8s\n",
      "conda-forge/osx-64 \u001b[33m━━━━━━━━━╸\u001b[0m\u001b[90m━━━━━━━━━━━━━━━\u001b[0m   5.0MB /  ??.?MB @   1.0MB/s  4.8s\n",
      "conda-forge/noarch \u001b[33m━━━━━━━━━━━╸\u001b[0m\u001b[90m━━━━━━━━━━━━━\u001b[0m   6.2MB /  ??.?MB @   1.3MB/s  4.8s\u001b[2K\u001b[1A\u001b[2K\u001b[1A\u001b[2K\u001b[0G[+] 4.9s\n",
      "conda-forge/osx-64 \u001b[33m━━━━━━━━━━╸\u001b[0m\u001b[90m━━━━━━━━━━━━━━\u001b[0m   5.0MB /  ??.?MB @   1.0MB/s  4.9s\n",
      "conda-forge/noarch \u001b[33m━━━━━━━━━━━━━╸\u001b[0m\u001b[90m━━━━━━━━━━━\u001b[0m   6.3MB /  ??.?MB @   1.3MB/s  4.9s\u001b[2K\u001b[1A\u001b[2K\u001b[1A\u001b[2K\u001b[0G[+] 5.0s\n",
      "conda-forge/osx-64 \u001b[33m━━━━━━━━━━━╸\u001b[0m\u001b[90m━━━━━━━━━━━━━\u001b[0m   5.1MB /  ??.?MB @   1.0MB/s  5.0s\n",
      "conda-forge/noarch \u001b[33m━━━━━━━━━━━━━━╸\u001b[0m\u001b[90m━━━━━━━━━━\u001b[0m   6.3MB /  ??.?MB @   1.3MB/s  5.0s\u001b[2K\u001b[1A\u001b[2K\u001b[1A\u001b[2K\u001b[0G[+] 5.1s\n",
      "conda-forge/osx-64 \u001b[33m━━━━━━━━━━━━━━╸\u001b[0m\u001b[90m━━━━━━━━━━\u001b[0m   5.3MB /  ??.?MB @   1.0MB/s  5.1s\n",
      "conda-forge/noarch \u001b[90m╸\u001b[0m\u001b[33m━━━━━━━━━━━━━━━╸\u001b[0m\u001b[90m━━━━━━━━\u001b[0m   6.6MB /  ??.?MB @   1.3MB/s  5.1s\u001b[2K\u001b[1A\u001b[2K\u001b[1A\u001b[2K\u001b[0G[+] 5.2s\n",
      "conda-forge/osx-64 \u001b[90m╸\u001b[0m\u001b[33m━━━━━━━━━━━━━━━╸\u001b[0m\u001b[90m━━━━━━━━\u001b[0m   5.4MB /  ??.?MB @   1.0MB/s  5.2s\n",
      "conda-forge/noarch \u001b[90m━━━╸\u001b[0m\u001b[33m━━━━━━━━━━━━━━━╸\u001b[0m\u001b[90m━━━━━\u001b[0m   6.7MB /  ??.?MB @   1.3MB/s  5.2s\u001b[2K\u001b[1A\u001b[2K\u001b[1A\u001b[2K\u001b[0G[+] 5.3s\n",
      "conda-forge/osx-64 \u001b[90m━━━╸\u001b[0m\u001b[33m━━━━━━━━━━━━━━━╸\u001b[0m\u001b[90m━━━━━\u001b[0m   5.7MB /  ??.?MB @   1.1MB/s  5.3s\n",
      "conda-forge/noarch \u001b[90m━━━━━╸\u001b[0m\u001b[33m━━━━━━━━━━━━━━━╸\u001b[0m\u001b[90m━━━\u001b[0m   7.1MB /  ??.?MB @   1.3MB/s  5.3s\u001b[2K\u001b[1A\u001b[2K\u001b[1A\u001b[2K\u001b[0G[+] 5.4s\n",
      "conda-forge/osx-64 \u001b[90m━━━━━╸\u001b[0m\u001b[33m━━━━━━━━━━━━━━━╸\u001b[0m\u001b[90m━━━\u001b[0m   5.9MB /  ??.?MB @   1.1MB/s  5.4s\n",
      "conda-forge/noarch \u001b[90m━━━━━━━╸\u001b[0m\u001b[33m━━━━━━━━━━━━━━━╸\u001b[0m\u001b[90m━\u001b[0m   7.3MB /  ??.?MB @   1.3MB/s  5.4s\u001b[2K\u001b[1A\u001b[2K\u001b[1A\u001b[2K\u001b[0G[+] 5.5s\n",
      "conda-forge/osx-64 \u001b[90m━━━━━━╸\u001b[0m\u001b[33m━━━━━━━━━━━━━━━╸\u001b[0m\u001b[90m━━\u001b[0m   5.9MB /  ??.?MB @   1.1MB/s  5.5s\n",
      "conda-forge/noarch \u001b[90m━━━━━━━━━╸\u001b[0m\u001b[33m━━━━━━━━━━━━━━━\u001b[0m   7.3MB /  ??.?MB @   1.3MB/s  5.5s\u001b[2K\u001b[1A\u001b[2K\u001b[1A\u001b[2K\u001b[0G[+] 5.6s\n",
      "conda-forge/osx-64 \u001b[90m━━━━━━━━━╸\u001b[0m\u001b[33m━━━━━━━━━━━━━━━\u001b[0m   6.2MB /  ??.?MB @   1.1MB/s  5.6s\n",
      "conda-forge/noarch \u001b[90m━━━━━━━━━━━╸\u001b[0m\u001b[33m━━━━━━━━━━━━━\u001b[0m   7.7MB /  ??.?MB @   1.4MB/s  5.6s\u001b[2K\u001b[1A\u001b[2K\u001b[1A\u001b[2K\u001b[0G[+] 5.7s\n",
      "conda-forge/osx-64 \u001b[90m━━━━━━━━━━╸\u001b[0m\u001b[33m━━━━━━━━━━━━━━\u001b[0m   6.3MB /  ??.?MB @   1.1MB/s  5.7s\n",
      "conda-forge/noarch \u001b[90m━━━━━━━━━━━━╸\u001b[0m\u001b[33m━━━━━━━━━━━━\u001b[0m   7.8MB /  ??.?MB @   1.4MB/s  5.7s\u001b[2K\u001b[1A\u001b[2K\u001b[1A\u001b[2K\u001b[0G[+] 5.8s\n",
      "conda-forge/osx-64 \u001b[90m━━━━━━━━━━━━╸\u001b[0m\u001b[33m━━━━━━━━━━━━\u001b[0m   6.5MB /  ??.?MB @   1.1MB/s  5.8s\n",
      "conda-forge/noarch \u001b[90m━━━━━━━━━━━━━╸\u001b[0m\u001b[33m━━━━━━━━━━━\u001b[0m   8.0MB /  ??.?MB @   1.4MB/s  5.8s\u001b[2K\u001b[1A\u001b[2K\u001b[1A\u001b[2K\u001b[0G[+] 5.9s\n",
      "conda-forge/osx-64 \u001b[90m━━━━━━━━━━━━━╸\u001b[0m\u001b[33m━━━━━━━━━━━\u001b[0m   6.6MB /  ??.?MB @   1.1MB/s  5.9s\n",
      "conda-forge/noarch \u001b[33m━━━━━━━━╸\u001b[0m\u001b[90m━━━━━━━━━━━━━━━━\u001b[0m   8.3MB /  ??.?MB @   1.4MB/s  5.9s\u001b[2K\u001b[1A\u001b[2K\u001b[1A\u001b[2K\u001b[0G[+] 6.0s\n",
      "conda-forge/osx-64 \u001b[33m━━━━━━━━╸\u001b[0m\u001b[90m━━━━━━━━━━━━━━━━\u001b[0m   6.8MB /  ??.?MB @   1.1MB/s  6.0s\n",
      "conda-forge/noarch \u001b[33m━━━━━━━━━━╸\u001b[0m\u001b[90m━━━━━━━━━━━━━━\u001b[0m   8.5MB /  ??.?MB @   1.4MB/s  6.0s\u001b[2K\u001b[1A\u001b[2K\u001b[1A\u001b[2K\u001b[0G[+] 6.1s\n",
      "conda-forge/osx-64 \u001b[33m━━━━━━━━━╸\u001b[0m\u001b[90m━━━━━━━━━━━━━━━\u001b[0m   7.0MB /  ??.?MB @   1.2MB/s  6.1s\n",
      "conda-forge/noarch \u001b[33m━━━━━━━━━━━╸\u001b[0m\u001b[90m━━━━━━━━━━━━━\u001b[0m   8.7MB /  ??.?MB @   1.4MB/s  6.1s\u001b[2K\u001b[1A\u001b[2K\u001b[1A\u001b[2K\u001b[0G[+] 6.2s\n",
      "conda-forge/osx-64 \u001b[33m━━━━━━━━━━╸\u001b[0m\u001b[90m━━━━━━━━━━━━━━\u001b[0m   7.0MB /  ??.?MB @   1.1MB/s  6.2s\n",
      "conda-forge/noarch \u001b[33m━━━━━━━━━━━━━╸\u001b[0m\u001b[90m━━━━━━━━━━━\u001b[0m   8.7MB /  ??.?MB @   1.4MB/s  6.2s\u001b[2K\u001b[1A\u001b[2K\u001b[1A\u001b[2K\u001b[0G[+] 6.3s\n",
      "conda-forge/osx-64 \u001b[33m━━━━━━━━━━━╸\u001b[0m\u001b[90m━━━━━━━━━━━━━\u001b[0m   7.2MB /  ??.?MB @   1.1MB/s  6.3s\n",
      "conda-forge/noarch \u001b[33m━━━━━━━━━━━━━━╸\u001b[0m\u001b[90m━━━━━━━━━━\u001b[0m   8.8MB /  ??.?MB @   1.4MB/s  6.3s\u001b[2K\u001b[1A\u001b[2K\u001b[1A\u001b[2K\u001b[0G[+] 6.4s\n",
      "conda-forge/osx-64 \u001b[33m━━━━━━━━━━━━━╸\u001b[0m\u001b[90m━━━━━━━━━━━\u001b[0m   7.2MB /  ??.?MB @   1.1MB/s  6.4s\n",
      "conda-forge/noarch \u001b[33m━━━━━━━━━━━━━━━╸\u001b[0m\u001b[90m━━━━━━━━━\u001b[0m   9.0MB /  ??.?MB @   1.4MB/s  6.4s\u001b[2K\u001b[1A\u001b[2K\u001b[1A\u001b[2K\u001b[0G[+] 6.5s\n",
      "conda-forge/osx-64 \u001b[33m━━━━━━━━━━━━━━━╸\u001b[0m\u001b[90m━━━━━━━━━\u001b[0m   7.4MB /  ??.?MB @   1.1MB/s  6.5s\n",
      "conda-forge/noarch \u001b[90m━╸\u001b[0m\u001b[33m━━━━━━━━━━━━━━━╸\u001b[0m\u001b[90m━━━━━━━\u001b[0m   9.3MB /  ??.?MB @   1.4MB/s  6.5s\u001b[2K\u001b[1A\u001b[2K\u001b[1A\u001b[2K\u001b[0G[+] 6.6s\n",
      "conda-forge/osx-64 \u001b[90m━╸\u001b[0m\u001b[33m━━━━━━━━━━━━━━━╸\u001b[0m\u001b[90m━━━━━━━\u001b[0m   7.7MB /  ??.?MB @   1.2MB/s  6.6s\n",
      "conda-forge/noarch \u001b[90m━━━━╸\u001b[0m\u001b[33m━━━━━━━━━━━━━━━╸\u001b[0m\u001b[90m━━━━\u001b[0m   9.4MB /  ??.?MB @   1.4MB/s  6.6s\u001b[2K\u001b[1A\u001b[2K\u001b[1A\u001b[2K\u001b[0G[+] 6.7s\n",
      "conda-forge/osx-64 \u001b[90m━╸\u001b[0m\u001b[33m━━━━━━━━━━━━━━━╸\u001b[0m\u001b[90m━━━━━━━\u001b[0m   7.7MB /  ??.?MB @   1.2MB/s  6.7s\n",
      "conda-forge/noarch \u001b[90m━━━━╸\u001b[0m\u001b[33m━━━━━━━━━━━━━━━╸\u001b[0m\u001b[90m━━━━\u001b[0m   9.4MB /  ??.?MB @   1.4MB/s  6.7s\u001b[2K\u001b[1A\u001b[2K\u001b[1A\u001b[2K\u001b[0G[+] 6.8s\n",
      "conda-forge/osx-64 \u001b[90m━━━╸\u001b[0m\u001b[33m━━━━━━━━━━━━━━━╸\u001b[0m\u001b[90m━━━━━\u001b[0m   7.7MB /  ??.?MB @   1.1MB/s  6.8s\n",
      "conda-forge/noarch \u001b[90m━━━━━╸\u001b[0m\u001b[33m━━━━━━━━━━━━━━━╸\u001b[0m\u001b[90m━━━\u001b[0m   9.5MB /  ??.?MB @   1.4MB/s  6.8s\u001b[2K\u001b[1A\u001b[2K\u001b[1A\u001b[2K\u001b[0G[+] 6.9s\n",
      "conda-forge/osx-64 \u001b[90m━━━━━╸\u001b[0m\u001b[33m━━━━━━━━━━━━━━━╸\u001b[0m\u001b[90m━━━\u001b[0m   7.9MB /  ??.?MB @   1.1MB/s  6.9s\n",
      "conda-forge/noarch \u001b[90m━━━━━━━╸\u001b[0m\u001b[33m━━━━━━━━━━━━━━━╸\u001b[0m\u001b[90m━\u001b[0m   9.9MB /  ??.?MB @   1.4MB/s  6.9s\u001b[2K\u001b[1A\u001b[2K\u001b[1A\u001b[2K\u001b[0G[+] 7.0s\n",
      "conda-forge/osx-64 \u001b[90m━━━━━━━╸\u001b[0m\u001b[33m━━━━━━━━━━━━━━━╸\u001b[0m\u001b[90m━\u001b[0m   8.3MB /  ??.?MB @   1.2MB/s  7.0s\n",
      "conda-forge/noarch \u001b[90m━━━━━━━━━━╸\u001b[0m\u001b[33m━━━━━━━━━━━━━━\u001b[0m  10.2MB /  ??.?MB @   1.5MB/s  7.0s\u001b[2K\u001b[1A\u001b[2K\u001b[1A\u001b[2K\u001b[0G[+] 7.1s\n",
      "conda-forge/osx-64 \u001b[90m━━━━━━━━━━╸\u001b[0m\u001b[33m━━━━━━━━━━━━━━\u001b[0m   8.4MB /  ??.?MB @   1.2MB/s  7.1s\n",
      "conda-forge/noarch \u001b[90m━━━━━━━━━━━╸\u001b[0m\u001b[33m━━━━━━━━━━━━━\u001b[0m  10.3MB /  ??.?MB @   1.5MB/s  7.1s\u001b[2K\u001b[1A\u001b[2K\u001b[1A\u001b[2K\u001b[0G[+] 7.2s\n",
      "conda-forge/osx-64 \u001b[90m━━━━━━━━━━━╸\u001b[0m\u001b[33m━━━━━━━━━━━━━\u001b[0m   8.5MB /  ??.?MB @   1.2MB/s  7.2s\n",
      "conda-forge/noarch \u001b[90m━━━━━━━━━━━━━╸\u001b[0m\u001b[33m━━━━━━━━━━━\u001b[0m  10.4MB /  ??.?MB @   1.4MB/s  7.2s\u001b[2K\u001b[1A\u001b[2K\u001b[1A\u001b[2K\u001b[0G[+] 7.3s\n",
      "conda-forge/osx-64 \u001b[90m━━━━━━━━━━━━━╸\u001b[0m\u001b[33m━━━━━━━━━━━\u001b[0m   8.5MB /  ??.?MB @   1.2MB/s  7.3s\n",
      "conda-forge/noarch \u001b[33m━━━━━━━━╸\u001b[0m\u001b[90m━━━━━━━━━━━━━━━━\u001b[0m  10.4MB /  ??.?MB @   1.4MB/s  7.3s\u001b[2K\u001b[1A\u001b[2K\u001b[1A\u001b[2K\u001b[0G[+] 7.4s\n",
      "conda-forge/osx-64 \u001b[33m━━━━━━━━╸\u001b[0m\u001b[90m━━━━━━━━━━━━━━━━\u001b[0m   8.6MB /  ??.?MB @   1.2MB/s  7.4s\n",
      "conda-forge/noarch \u001b[33m━━━━━━━━━━╸\u001b[0m\u001b[90m━━━━━━━━━━━━━━\u001b[0m  10.5MB /  ??.?MB @   1.4MB/s  7.4s\u001b[2K\u001b[1A\u001b[2K\u001b[1A\u001b[2K\u001b[0G[+] 7.5s\n",
      "conda-forge/osx-64 \u001b[33m━━━━━━━━━━╸\u001b[0m\u001b[90m━━━━━━━━━━━━━━\u001b[0m   8.6MB /  ??.?MB @   1.2MB/s  7.5s\n",
      "conda-forge/noarch \u001b[33m━━━━━━━━━━━━━╸\u001b[0m\u001b[90m━━━━━━━━━━━\u001b[0m  10.6MB /  ??.?MB @   1.4MB/s  7.5s\u001b[2K\u001b[1A\u001b[2K\u001b[1A\u001b[2K\u001b[0G[+] 7.6s\n",
      "conda-forge/osx-64 \u001b[33m━━━━━━━━━━━━━╸\u001b[0m\u001b[90m━━━━━━━━━━━\u001b[0m   8.7MB /  ??.?MB @   1.2MB/s  7.6s\n",
      "conda-forge/noarch \u001b[33m━━━━━━━━━━━━━━━╸\u001b[0m\u001b[90m━━━━━━━━━\u001b[0m  10.7MB /  ??.?MB @   1.4MB/s  7.6s\u001b[2K\u001b[1A\u001b[2K\u001b[1A\u001b[2K\u001b[0G[+] 7.7s\n",
      "conda-forge/osx-64 \u001b[33m━━━━━━━━━━━━━━━╸\u001b[0m\u001b[90m━━━━━━━━━\u001b[0m   8.8MB /  ??.?MB @   1.1MB/s  7.7s\n",
      "conda-forge/noarch \u001b[90m╸\u001b[0m\u001b[33m━━━━━━━━━━━━━━━╸\u001b[0m\u001b[90m━━━━━━━━\u001b[0m  10.7MB /  ??.?MB @   1.4MB/s  7.7s\u001b[2K\u001b[1A\u001b[2K\u001b[1A\u001b[2K\u001b[0G[+] 7.8s\n",
      "conda-forge/osx-64 \u001b[90m━╸\u001b[0m\u001b[33m━━━━━━━━━━━━━━━╸\u001b[0m\u001b[90m━━━━━━━\u001b[0m   8.8MB /  ??.?MB @   1.1MB/s  7.8s\n",
      "conda-forge/noarch \u001b[90m━━━╸\u001b[0m\u001b[33m━━━━━━━━━━━━━━━╸\u001b[0m\u001b[90m━━━━━\u001b[0m  10.8MB /  ??.?MB @   1.4MB/s  7.8s\u001b[2K\u001b[1A\u001b[2K\u001b[1A\u001b[2K\u001b[0G[+] 7.9s\n",
      "conda-forge/osx-64 \u001b[90m━━━━╸\u001b[0m\u001b[33m━━━━━━━━━━━━━━━╸\u001b[0m\u001b[90m━━━━\u001b[0m   8.9MB /  ??.?MB @   1.1MB/s  7.9s\n",
      "conda-forge/noarch \u001b[90m━━━━━╸\u001b[0m\u001b[33m━━━━━━━━━━━━━━━╸\u001b[0m\u001b[90m━━━\u001b[0m  10.9MB /  ??.?MB @   1.4MB/s  7.9s\u001b[2K\u001b[1A\u001b[2K\u001b[1A\u001b[2K\u001b[0G[+] 8.0s\n",
      "conda-forge/osx-64 \u001b[90m━━━━━━╸\u001b[0m\u001b[33m━━━━━━━━━━━━━━━╸\u001b[0m\u001b[90m━━\u001b[0m   9.0MB /  ??.?MB @   1.1MB/s  8.0s\n",
      "conda-forge/noarch \u001b[90m━━━━━━━╸\u001b[0m\u001b[33m━━━━━━━━━━━━━━━╸\u001b[0m\u001b[90m━\u001b[0m  10.9MB /  ??.?MB @   1.4MB/s  8.0s\u001b[2K\u001b[1A\u001b[2K\u001b[1A\u001b[2K\u001b[0G[+] 8.1s\n",
      "conda-forge/osx-64 \u001b[90m━━━━━━━━━╸\u001b[0m\u001b[33m━━━━━━━━━━━━━━━\u001b[0m   9.2MB /  ??.?MB @   1.1MB/s  8.1s\n",
      "conda-forge/noarch \u001b[90m━━━━━━━━━━╸\u001b[0m\u001b[33m━━━━━━━━━━━━━━\u001b[0m  11.2MB /  ??.?MB @   1.4MB/s  8.1s\u001b[2K\u001b[1A\u001b[2K\u001b[1A\u001b[2K\u001b[0G[+] 8.2s\n",
      "conda-forge/osx-64 \u001b[90m━━━━━━━━━━━╸\u001b[0m\u001b[33m━━━━━━━━━━━━━\u001b[0m   9.4MB /  ??.?MB @   1.1MB/s  8.2s\n",
      "conda-forge/noarch \u001b[90m━━━━━━━━━━━━╸\u001b[0m\u001b[33m━━━━━━━━━━━━\u001b[0m  11.4MB /  ??.?MB @   1.4MB/s  8.2s\u001b[2K\u001b[1A\u001b[2K\u001b[1A\u001b[2K\u001b[0G[+] 8.3s\n",
      "conda-forge/osx-64 \u001b[90m━━━━━━━━━━━━━╸\u001b[0m\u001b[33m━━━━━━━━━━━\u001b[0m   9.6MB /  ??.?MB @   1.2MB/s  8.3s\n",
      "conda-forge/noarch \u001b[90m━━━━━━━━━━━━━━━╸\u001b[0m\u001b[33m━━━━━━━━━\u001b[0m  11.6MB /  ??.?MB @   1.4MB/s  8.3s\u001b[2K\u001b[1A\u001b[2K\u001b[1A\u001b[2K\u001b[0G[+] 8.4s\n",
      "conda-forge/osx-64 \u001b[90m━━━━━━━━━━━━╸\u001b[0m\u001b[33m━━━━━━━━━━━\u001b[0m   9.6MB @   1.2MB/s             8.4s\n",
      "conda-forge/noarch ━━━━━━━━━━━━━━━━━━━━━━━━  11.7MB @   1.4MB/s Finalizing  8.4s\u001b[2K\u001b[1A\u001b[2K\u001b[1A\u001b[2K\u001b[0G[+] 8.5s\n",
      "conda-forge/osx-64 \u001b[90m━━━━━━━━━━━━╸\u001b[0m\u001b[33m━━━━━━━━━━━\u001b[0m   9.6MB @   1.2MB/s             8.5s\n",
      "conda-forge/noarch ━━━━━━━━━━━━━━━━━━━━━━━━  11.7MB @   1.4MB/s Finalizing  8.5s\u001b[2K\u001b[1A\u001b[2K\u001b[1A\u001b[2K\u001b[0G[+] 8.6s\n",
      "conda-forge/osx-64 \u001b[90m━━━━━━━━━━━━╸\u001b[0m\u001b[33m━━━━━━━━━━━\u001b[0m   9.6MB @   1.2MB/s             8.6s\n",
      "conda-forge/noarch ━━━━━━━━━━━━━━━━━━━━━━━━  11.7MB @   1.4MB/s Finalizing  8.6s\u001b[2K\u001b[1A\u001b[2K\u001b[1A\u001b[2K\u001b[0Gconda-forge/noarch                                 @   1.4MB/s  8.7s\n",
      "[+] 8.7s\n",
      "conda-forge/osx-64 \u001b[90m━━━━━━━━━━━━━━━╸\u001b[0m\u001b[33m━━━━━━━━━\u001b[0m  10.1MB /  ??.?MB @   1.2MB/s  8.7s\u001b[2K\u001b[1A\u001b[2K\u001b[0G[+] 8.8s\n",
      "conda-forge/osx-64 \u001b[33m━━━━━━━━━╸\u001b[0m\u001b[90m━━━━━━━━━━━━━━━\u001b[0m  10.4MB /  ??.?MB @   1.2MB/s  8.8s\u001b[2K\u001b[1A\u001b[2K\u001b[0G[+] 8.9s\n",
      "conda-forge/osx-64 \u001b[33m━━━━━━━━━━━╸\u001b[0m\u001b[90m━━━━━━━━━━━━━\u001b[0m  10.6MB /  ??.?MB @   1.2MB/s  8.9s\u001b[2K\u001b[1A\u001b[2K\u001b[0G[+] 9.0s\n",
      "conda-forge/osx-64 \u001b[33m━━━━━━━━━━━━━━╸\u001b[0m\u001b[90m━━━━━━━━━━\u001b[0m  10.9MB /  ??.?MB @   1.2MB/s  9.0s\u001b[2K\u001b[1A\u001b[2K\u001b[0G[+] 9.1s\n",
      "conda-forge/osx-64 \u001b[90m╸\u001b[0m\u001b[33m━━━━━━━━━━━━━━━╸\u001b[0m\u001b[90m━━━━━━━━\u001b[0m  11.1MB /  ??.?MB @   1.2MB/s  9.1s\u001b[2K\u001b[1A\u001b[2K\u001b[0G[+] 9.2s\n",
      "conda-forge/osx-64 \u001b[90m━━━╸\u001b[0m\u001b[33m━━━━━━━━━━━━━━━╸\u001b[0m\u001b[90m━━━━━\u001b[0m  11.4MB /  ??.?MB @   1.2MB/s  9.2s\u001b[2K\u001b[1A\u001b[2K\u001b[0G[+] 9.3s\n",
      "conda-forge/osx-64 \u001b[90m━━━━━╸\u001b[0m\u001b[33m━━━━━━━━━━━━━━━╸\u001b[0m\u001b[90m━━━\u001b[0m  11.8MB /  ??.?MB @   1.3MB/s  9.3s\u001b[2K\u001b[1A\u001b[2K\u001b[0G[+] 9.4s\n",
      "conda-forge/osx-64 \u001b[90m━━━━━━━╸\u001b[0m\u001b[33m━━━━━━━━━━━━━━━╸\u001b[0m\u001b[90m━\u001b[0m  12.1MB /  ??.?MB @   1.3MB/s  9.4s\u001b[2K\u001b[1A\u001b[2K\u001b[0G[+] 9.5s\n",
      "conda-forge/osx-64 \u001b[90m━━━━━━━━━━╸\u001b[0m\u001b[33m━━━━━━━━━━━━━━\u001b[0m  12.3MB /  ??.?MB @   1.3MB/s  9.5s\u001b[2K\u001b[1A\u001b[2K\u001b[0G[+] 9.6s\n",
      "conda-forge/osx-64 \u001b[90m━━━━━━━━━━━━╸\u001b[0m\u001b[33m━━━━━━━━━━━━\u001b[0m  12.7MB /  ??.?MB @   1.3MB/s  9.6s\u001b[2K\u001b[1A\u001b[2K\u001b[0G[+] 9.7s\n",
      "conda-forge/osx-64 \u001b[90m━━━━━━━━━━━━━╸\u001b[0m\u001b[33m━━━━━━━━━━━\u001b[0m  12.8MB /  ??.?MB @   1.3MB/s  9.7s\u001b[2K\u001b[1A\u001b[2K\u001b[0G[+] 9.8s\n",
      "conda-forge/osx-64 \u001b[33m━━━━━━━━╸\u001b[0m\u001b[90m━━━━━━━━━━━━━━━━\u001b[0m  13.1MB /  ??.?MB @   1.3MB/s  9.8s\u001b[2K\u001b[1A\u001b[2K\u001b[0G[+] 9.9s\n",
      "conda-forge/osx-64 \u001b[33m━━━━━━━━━━╸\u001b[0m\u001b[90m━━━━━━━━━━━━━━\u001b[0m  13.5MB /  ??.?MB @   1.4MB/s  9.9s\u001b[2K\u001b[1A\u001b[2K\u001b[0G[+] 10.0s\n",
      "conda-forge/osx-64 \u001b[33m━━━━━━━━━━━━━╸\u001b[0m\u001b[90m━━━━━━━━━━━\u001b[0m  13.9MB /  ??.?MB @   1.4MB/s 10.0s\u001b[2K\u001b[1A\u001b[2K\u001b[0G[+] 10.1s\n",
      "conda-forge/osx-64 \u001b[33m━━━━━━━━━━━━━━━╸\u001b[0m\u001b[90m━━━━━━━━━\u001b[0m  14.0MB /  ??.?MB @   1.4MB/s 10.1s\u001b[2K\u001b[1A\u001b[2K\u001b[0G[+] 10.2s\n",
      "conda-forge/osx-64 \u001b[90m━╸\u001b[0m\u001b[33m━━━━━━━━━━━━━━━╸\u001b[0m\u001b[90m━━━━━━━\u001b[0m  14.4MB /  ??.?MB @   1.4MB/s 10.2s\u001b[2K\u001b[1A\u001b[2K\u001b[0G[+] 10.3s\n",
      "conda-forge/osx-64 \u001b[90m━━━━╸\u001b[0m\u001b[33m━━━━━━━━━━━━━━━╸\u001b[0m\u001b[90m━━━━\u001b[0m  14.7MB /  ??.?MB @   1.4MB/s 10.3s\u001b[2K\u001b[1A\u001b[2K\u001b[0G[+] 10.4s\n",
      "conda-forge/osx-64 \u001b[90m━━━━╸\u001b[0m\u001b[33m━━━━━━━━━━━━━━━╸\u001b[0m\u001b[90m━━━━\u001b[0m  14.7MB /  ??.?MB @   1.4MB/s 10.4s\u001b[2K\u001b[1A\u001b[2K\u001b[0G[+] 10.5s\n",
      "conda-forge/osx-64 \u001b[90m━━━━━━╸\u001b[0m\u001b[33m━━━━━━━━━━━━━━━╸\u001b[0m\u001b[90m━━\u001b[0m  15.3MB /  ??.?MB @   1.5MB/s 10.5s\u001b[2K\u001b[1A\u001b[2K\u001b[0G[+] 10.6s\n",
      "conda-forge/osx-64 \u001b[90m━━━━━━━━━╸\u001b[0m\u001b[33m━━━━━━━━━━━━━━━\u001b[0m  15.6MB /  ??.?MB @   1.5MB/s 10.6s\u001b[2K\u001b[1A\u001b[2K\u001b[0G[+] 10.7s\n",
      "conda-forge/osx-64 \u001b[90m━━━━━━━━━━━╸\u001b[0m\u001b[33m━━━━━━━━━━━━━\u001b[0m  16.0MB /  ??.?MB @   1.5MB/s 10.7s\u001b[2K\u001b[1A\u001b[2K\u001b[0G[+] 10.8s\n",
      "conda-forge/osx-64 \u001b[90m━━━━━━━━━━━━━╸\u001b[0m\u001b[33m━━━━━━━━━━━\u001b[0m  16.5MB /  ??.?MB @   1.5MB/s 10.8s\u001b[2K\u001b[1A\u001b[2K\u001b[0G[+] 10.9s\n",
      "conda-forge/osx-64 \u001b[33m━━━━━━━━╸\u001b[0m\u001b[90m━━━━━━━━━━━━━━━━\u001b[0m  17.0MB /  ??.?MB @   1.6MB/s 10.9s\u001b[2K\u001b[1A\u001b[2K\u001b[0G[+] 11.0s\n",
      "conda-forge/osx-64 \u001b[33m━━━━━━━━━━╸\u001b[0m\u001b[90m━━━━━━━━━━━━━━\u001b[0m  17.4MB /  ??.?MB @   1.6MB/s 11.0s\u001b[2K\u001b[1A\u001b[2K\u001b[0G[+] 11.1s\n",
      "conda-forge/osx-64 \u001b[33m━━━━━━━━━━━━━╸\u001b[0m\u001b[90m━━━━━━━━━━━\u001b[0m  17.8MB /  ??.?MB @   1.6MB/s 11.1s\u001b[2K\u001b[1A\u001b[2K\u001b[0G[+] 11.2s\n",
      "conda-forge/osx-64 \u001b[33m━━━━━━━━━━━━━━━╸\u001b[0m\u001b[90m━━━━━━━━━\u001b[0m  18.4MB /  ??.?MB @   1.6MB/s 11.2s\u001b[2K\u001b[1A\u001b[2K\u001b[0G[+] 11.3s\n",
      "conda-forge/osx-64 \u001b[90m━╸\u001b[0m\u001b[33m━━━━━━━━━━━━━━━╸\u001b[0m\u001b[90m━━━━━━━\u001b[0m  18.9MB /  ??.?MB @   1.7MB/s 11.3s\u001b[2K\u001b[1A\u001b[2K\u001b[0G[+] 11.4s\n",
      "conda-forge/osx-64 \u001b[90m━━━━╸\u001b[0m\u001b[33m━━━━━━━━━━━━━━━╸\u001b[0m\u001b[90m━━━━\u001b[0m  19.3MB /  ??.?MB @   1.7MB/s 11.4s\u001b[2K\u001b[1A\u001b[2K\u001b[0G[+] 11.5s\n",
      "conda-forge/osx-64 \u001b[90m━━━━━━╸\u001b[0m\u001b[33m━━━━━━━━━━━━━━━╸\u001b[0m\u001b[90m━━\u001b[0m  19.8MB /  ??.?MB @   1.7MB/s 11.5s\u001b[2K\u001b[1A\u001b[2K\u001b[0G[+] 11.6s\n",
      "conda-forge/osx-64 \u001b[90m━━━━━━━━━╸\u001b[0m\u001b[33m━━━━━━━━━━━━━━━\u001b[0m  20.1MB /  ??.?MB @   1.7MB/s 11.6s\u001b[2K\u001b[1A\u001b[2K\u001b[0G[+] 11.7s\n",
      "conda-forge/osx-64 \u001b[90m━━━━━━━━━━╸\u001b[0m\u001b[33m━━━━━━━━━━━━━━\u001b[0m  20.3MB /  ??.?MB @   1.7MB/s 11.7s\u001b[2K\u001b[1A\u001b[2K\u001b[0G[+] 11.8s\n",
      "conda-forge/osx-64 \u001b[90m━━━━━━━━━━━╸\u001b[0m\u001b[33m━━━━━━━━━━━━━\u001b[0m  20.4MB /  ??.?MB @   1.7MB/s 11.8s\u001b[2K\u001b[1A\u001b[2K\u001b[0G[+] 11.9s\n",
      "conda-forge/osx-64 \u001b[90m━━━━━━━━━━━╸\u001b[0m\u001b[33m━━━━━━━━━━━━━\u001b[0m  20.4MB /  ??.?MB @   1.7MB/s 11.9s\u001b[2K\u001b[1A\u001b[2K\u001b[0G[+] 12.0s\n",
      "conda-forge/osx-64 \u001b[90m━━━━━━━━━━━━╸\u001b[0m\u001b[33m━━━━━━━━━━━━\u001b[0m  21.3MB /  ??.?MB @   1.8MB/s 12.0s\u001b[2K\u001b[1A\u001b[2K\u001b[0G[+] 12.1s\n",
      "conda-forge/osx-64 \u001b[90m━━━━━━━━━━━━━╸\u001b[0m\u001b[33m━━━━━━━━━━━\u001b[0m  21.9MB /  ??.?MB @   1.8MB/s 12.1s\u001b[2K\u001b[1A\u001b[2K\u001b[0G[+] 12.2s\n",
      "conda-forge/osx-64 \u001b[90m━━━━━━━━━━━━━━━╸\u001b[0m\u001b[33m━━━━━━━━━\u001b[0m  22.0MB /  ??.?MB @   1.8MB/s 12.2s\u001b[2K\u001b[1A\u001b[2K\u001b[0G[+] 12.3s\n",
      "conda-forge/osx-64 \u001b[33m━━━━━━━━╸\u001b[0m\u001b[90m━━━━━━━━━━━━━━━━\u001b[0m  22.4MB /  ??.?MB @   1.8MB/s 12.3s\u001b[2K\u001b[1A\u001b[2K\u001b[0G[+] 12.4s\n",
      "conda-forge/osx-64 \u001b[33m━━━━━━━━━╸\u001b[0m\u001b[90m━━━━━━━━━━━━━━━\u001b[0m  22.6MB /  ??.?MB @   1.8MB/s 12.4s\u001b[2K\u001b[1A\u001b[2K\u001b[0G[+] 12.5s\n",
      "conda-forge/osx-64 \u001b[33m━━━━━━━━━━━╸\u001b[0m\u001b[90m━━━━━━━━━━━━━\u001b[0m  23.3MB /  ??.?MB @   1.9MB/s 12.5s\u001b[2K\u001b[1A\u001b[2K\u001b[0G[+] 12.6s\n",
      "conda-forge/osx-64 \u001b[33m━━━━━━━━━━━━━╸\u001b[0m\u001b[90m━━━━━━━━━━━\u001b[0m  23.6MB /  ??.?MB @   1.9MB/s 12.6s\u001b[2K\u001b[1A\u001b[2K\u001b[0G[+] 12.7s\n",
      "conda-forge/osx-64 \u001b[33m━━━━━━━━━━━━━━╸\u001b[0m\u001b[90m━━━━━━━━━━\u001b[0m  24.3MB /  ??.?MB @   1.9MB/s 12.7s\u001b[2K\u001b[1A\u001b[2K\u001b[0G[+] 12.8s\n",
      "conda-forge/osx-64 \u001b[90m╸\u001b[0m\u001b[33m━━━━━━━━━━━━━━━╸\u001b[0m\u001b[90m━━━━━━━━\u001b[0m  25.0MB /  ??.?MB @   2.0MB/s 12.8s\u001b[2K\u001b[1A\u001b[2K\u001b[0G[+] 12.9s\n",
      "conda-forge/osx-64 \u001b[90m━╸\u001b[0m\u001b[33m━━━━━━━━━━━━━━━╸\u001b[0m\u001b[90m━━━━━━━\u001b[0m  25.2MB /  ??.?MB @   2.0MB/s 12.9s\u001b[2K\u001b[1A\u001b[2K\u001b[0G[+] 13.0s\n",
      "conda-forge/osx-64 \u001b[90m━━━━╸\u001b[0m\u001b[33m━━━━━━━━━━━━━━━╸\u001b[0m\u001b[90m━━━━\u001b[0m  25.5MB /  ??.?MB @   2.0MB/s 13.0s\u001b[2K\u001b[1A\u001b[2K\u001b[0G[+] 13.1s\n",
      "conda-forge/osx-64 \u001b[90m━━━━━╸\u001b[0m\u001b[33m━━━━━━━━━━━━━━━╸\u001b[0m\u001b[90m━━━\u001b[0m  26.0MB /  ??.?MB @   2.0MB/s 13.1s\u001b[2K\u001b[1A\u001b[2K\u001b[0G[+] 13.2s\n",
      "conda-forge/osx-64 \u001b[90m━━━━━━━╸\u001b[0m\u001b[33m━━━━━━━━━━━━━━━╸\u001b[0m\u001b[90m━\u001b[0m  26.4MB /  ??.?MB @   2.0MB/s 13.2s\u001b[2K\u001b[1A\u001b[2K\u001b[0G[+] 13.3s\n",
      "conda-forge/osx-64 \u001b[90m━━━━━━━━━━╸\u001b[0m\u001b[33m━━━━━━━━━━━━━━\u001b[0m  26.8MB /  ??.?MB @   2.0MB/s 13.3s\u001b[2K\u001b[1A\u001b[2K\u001b[0G[+] 13.4s\n",
      "conda-forge/osx-64 \u001b[90m━━━━━━━━━━━━╸\u001b[0m\u001b[33m━━━━━━━━━━━━\u001b[0m  27.1MB /  ??.?MB @   2.0MB/s 13.4s\u001b[2K\u001b[1A\u001b[2K\u001b[0G[+] 13.5s\n",
      "conda-forge/osx-64 \u001b[90m━━━━━━━━━━━━━━━╸\u001b[0m\u001b[33m━━━━━━━━━\u001b[0m  27.4MB /  ??.?MB @   2.0MB/s 13.5s\u001b[2K\u001b[1A\u001b[2K\u001b[0G[+] 13.6s\n",
      "conda-forge/osx-64 ━━━━━━━━━━━━━━━━━━━━━━━━  27.6MB @   2.0MB/s Finalizing 13.6s\u001b[2K\u001b[1A\u001b[2K\u001b[0G[+] 13.7s\n",
      "conda-forge/osx-64 ━━━━━━━━━━━━━━━━━━━━━━━━  27.6MB @   2.0MB/s Finalizing 13.7s\u001b[2K\u001b[1A\u001b[2K\u001b[0G[+] 13.8s\n",
      "conda-forge/osx-64 ━━━━━━━━━━━━━━━━━━━━━━━━  27.6MB @   2.0MB/s Finalizing 13.8s\u001b[2K\u001b[1A\u001b[2K\u001b[0G[+] 13.9s\n",
      "conda-forge/osx-64 ━━━━━━━━━━━━━━━━━━━━━━━━  27.6MB @   2.0MB/s Finalizing 13.9s\u001b[2K\u001b[1A\u001b[2K\u001b[0G[+] 14.0s\n",
      "conda-forge/osx-64 ━━━━━━━━━━━━━━━━━━━━━━━━  27.6MB @   2.0MB/s Finalizing 14.0s\u001b[2K\u001b[1A\u001b[2K\u001b[0G[+] 14.1s\n",
      "conda-forge/osx-64 ━━━━━━━━━━━━━━━━━━━━━━━━  27.6MB @   2.0MB/s Finalizing 14.1s\u001b[2K\u001b[1A\u001b[2K\u001b[0G[+] 14.2s\n",
      "conda-forge/osx-64 ━━━━━━━━━━━━━━━━━━━━━━━━  27.6MB @   2.0MB/s Finalizing 14.2s\u001b[2K\u001b[1A\u001b[2K\u001b[0G[+] 14.3s\n",
      "conda-forge/osx-64 ━━━━━━━━━━━━━━━━━━━━━━━━  27.6MB @   2.0MB/s Finalizing 14.3s\u001b[2K\u001b[1A\u001b[2K\u001b[0Gconda-forge/osx-64                                 @   2.0MB/s 14.4s\n",
      "\u001b[?25h\n",
      "Pinned packages:\n",
      "  - python 3.9.*\n",
      "\n",
      "\n",
      "Transaction\n",
      "\n",
      "  Prefix: /Users/akramz/miniconda3/envs/geospatial_primer\n",
      "\n",
      "  All requested packages already installed\n",
      "\n",
      "\u001b[?25l\u001b[2K\u001b[0G\u001b[?25h"
     ]
    }
   ],
   "source": [
    "!mamba install -c conda-forge shapely --yes"
   ]
  },
  {
   "cell_type": "markdown",
   "metadata": {},
   "source": [
    "## `Shapely`'s basic Geometric Types\n",
    "\n",
    "`Shapely` provides several basic geometric objects that are commonly used in geospatial analysis. These objects are:\n",
    "\n",
    "- `Point`: Represents a single point in 2D space.\n",
    "- `LineString`: Represents a sequence of connected points forming a line.\n",
    "- `Polygon`: Represents a filled area defined by a sequence of points that form a closed ring.\n",
    "\n",
    "In this section, we will demonstrate how to create these objects using Shapely."
   ]
  },
  {
   "cell_type": "markdown",
   "metadata": {},
   "source": [
    "### `Point`\n",
    "\n",
    "A `Point` object represents a single point in a two-dimensional Cartesian coordinate system. Points are typically used to represent locations, such as the coordinates of a city or a landmark.\n",
    "\n",
    "To create a point, you can use the `Point` constructor from the `shapely.geometry` module and provide the `x` and `y` coordinates as arguments."
   ]
  },
  {
   "cell_type": "code",
   "execution_count": 2,
   "metadata": {
    "tags": []
   },
   "outputs": [],
   "source": [
    "from shapely.geometry import Point"
   ]
  },
  {
   "cell_type": "code",
   "execution_count": 3,
   "metadata": {
    "tags": []
   },
   "outputs": [
    {
     "data": {
      "image/svg+xml": [
       "<svg xmlns=\"http://www.w3.org/2000/svg\" xmlns:xlink=\"http://www.w3.org/1999/xlink\" width=\"100.0\" height=\"100.0\" viewBox=\"0.0 1.0 2.0 2.0\" preserveAspectRatio=\"xMinYMin meet\"><g transform=\"matrix(1,0,0,-1,0,4.0)\"><circle cx=\"1.0\" cy=\"2.0\" r=\"0.06\" stroke=\"#555555\" stroke-width=\"0.02\" fill=\"#66cc99\" opacity=\"0.6\" /></g></svg>"
      ],
      "text/plain": [
       "<POINT (1 2)>"
      ]
     },
     "execution_count": 3,
     "metadata": {},
     "output_type": "execute_result"
    }
   ],
   "source": [
    "point = Point(1, 2)\n",
    "point"
   ]
  },
  {
   "cell_type": "markdown",
   "metadata": {},
   "source": [
    "### `LineString`\n",
    "\n",
    "A `LineString` object represents a sequence of connected points forming a line. `LineString`s are used to represent linear features, such as roads or rivers.\n",
    "\n",
    "To create a `LineString`, you can use the LineString constructor from the `shapely.geometry` module and provide a list of coordinate tuples (`x`, `y`) as arguments."
   ]
  },
  {
   "cell_type": "code",
   "execution_count": 4,
   "metadata": {
    "tags": []
   },
   "outputs": [],
   "source": [
    "from shapely.geometry import LineString"
   ]
  },
  {
   "cell_type": "code",
   "execution_count": 5,
   "metadata": {
    "tags": []
   },
   "outputs": [
    {
     "data": {
      "image/svg+xml": [
       "<svg xmlns=\"http://www.w3.org/2000/svg\" xmlns:xlink=\"http://www.w3.org/1999/xlink\" width=\"100.0\" height=\"100.0\" viewBox=\"-0.12 -0.12 3.24 1.2400000000000002\" preserveAspectRatio=\"xMinYMin meet\"><g transform=\"matrix(1,0,0,-1,0,1.0)\"><polyline fill=\"none\" stroke=\"#66cc99\" stroke-width=\"0.06480000000000001\" points=\"0.0,0.0 1.0,1.0 2.0,1.0 3.0,0.0\" opacity=\"0.8\" /></g></svg>"
      ],
      "text/plain": [
       "<LINESTRING (0 0, 1 1, 2 1, 3 0)>"
      ]
     },
     "execution_count": 5,
     "metadata": {},
     "output_type": "execute_result"
    }
   ],
   "source": [
    "coordinates = [(0, 0), (1, 1), (2, 1), (3, 0)]\n",
    "linestring = LineString(coordinates)\n",
    "linestring"
   ]
  },
  {
   "cell_type": "markdown",
   "metadata": {},
   "source": [
    "### `Polygon`\n",
    "\n",
    "A `Polygon` object represents a filled area defined by a sequence of points that **form a closed ring**. Polygons are used to represent areas, such as **countries**, **states**, or land parcels.\n",
    "\n",
    "To create a `Polygon`, you can use the `Polygon` constructor from the `shapely.geometry` module and provide a list of coordinate tuples (`x`, `y`) as arguments. The first and last coordinate tuples should be the same to close the ring."
   ]
  },
  {
   "cell_type": "code",
   "execution_count": 6,
   "metadata": {
    "tags": []
   },
   "outputs": [],
   "source": [
    "from shapely.geometry import Polygon"
   ]
  },
  {
   "cell_type": "code",
   "execution_count": 7,
   "metadata": {
    "tags": []
   },
   "outputs": [
    {
     "data": {
      "image/svg+xml": [
       "<svg xmlns=\"http://www.w3.org/2000/svg\" xmlns:xlink=\"http://www.w3.org/1999/xlink\" width=\"100.0\" height=\"100.0\" viewBox=\"-0.08 -0.08 2.16 2.16\" preserveAspectRatio=\"xMinYMin meet\"><g transform=\"matrix(1,0,0,-1,0,2.0)\"><path fill-rule=\"evenodd\" fill=\"#66cc99\" stroke=\"#555555\" stroke-width=\"0.0432\" opacity=\"0.6\" d=\"M 0.0,0.0 L 0.0,2.0 L 2.0,2.0 L 2.0,0.0 L 0.0,0.0 z\" /></g></svg>"
      ],
      "text/plain": [
       "<POLYGON ((0 0, 0 2, 2 2, 2 0, 0 0))>"
      ]
     },
     "execution_count": 7,
     "metadata": {},
     "output_type": "execute_result"
    }
   ],
   "source": [
    "coordinates = [(0, 0), (0, 2), (2, 2), (2, 0), (0, 0)]\n",
    "polygon = Polygon(coordinates)\n",
    "polygon"
   ]
  },
  {
   "cell_type": "markdown",
   "metadata": {},
   "source": [
    "### Multi Geometries\n",
    "\n",
    "In some cases, you may have **multiple geometric objects of the same type** that you want to represent as a single entity. `Shapely` provides the following classes for handling such cases:\n",
    "\n",
    "- `MultiPoint`: Represents a collection of points.\n",
    "- `MultiLineString`: Represents a collection of linestrings.\n",
    "- `MultiPolygon`: Represents a collection of polygons.\n",
    "\n",
    "These classes can be created using their respective constructors from the `shapely.geometry` module, by providing a list of the corresponding geometric objects as arguments."
   ]
  },
  {
   "cell_type": "code",
   "execution_count": 8,
   "metadata": {
    "tags": []
   },
   "outputs": [],
   "source": [
    "from shapely.geometry import MultiPoint, MultiLineString, MultiPolygon"
   ]
  },
  {
   "cell_type": "code",
   "execution_count": 9,
   "metadata": {
    "tags": []
   },
   "outputs": [
    {
     "data": {
      "image/svg+xml": [
       "<svg xmlns=\"http://www.w3.org/2000/svg\" xmlns:xlink=\"http://www.w3.org/1999/xlink\" width=\"100.0\" height=\"100.0\" viewBox=\"-0.08 -0.08 2.16 2.16\" preserveAspectRatio=\"xMinYMin meet\"><g transform=\"matrix(1,0,0,-1,0,2.0)\"><g><circle cx=\"0.0\" cy=\"0.0\" r=\"0.0648\" stroke=\"#555555\" stroke-width=\"0.0216\" fill=\"#66cc99\" opacity=\"0.6\" /><circle cx=\"1.0\" cy=\"1.0\" r=\"0.0648\" stroke=\"#555555\" stroke-width=\"0.0216\" fill=\"#66cc99\" opacity=\"0.6\" /><circle cx=\"2.0\" cy=\"2.0\" r=\"0.0648\" stroke=\"#555555\" stroke-width=\"0.0216\" fill=\"#66cc99\" opacity=\"0.6\" /></g></g></svg>"
      ],
      "text/plain": [
       "<MULTIPOINT (0 0, 1 1, 2 2)>"
      ]
     },
     "execution_count": 9,
     "metadata": {},
     "output_type": "execute_result"
    }
   ],
   "source": [
    "points = [Point(0, 0), Point(1, 1), Point(2, 2)]\n",
    "multipoint = MultiPoint(points)\n",
    "multipoint"
   ]
  },
  {
   "cell_type": "code",
   "execution_count": 10,
   "metadata": {
    "tags": []
   },
   "outputs": [
    {
     "data": {
      "image/svg+xml": [
       "<svg xmlns=\"http://www.w3.org/2000/svg\" xmlns:xlink=\"http://www.w3.org/1999/xlink\" width=\"100.0\" height=\"100.0\" viewBox=\"-0.08 -0.08 1.1600000000000001 2.16\" preserveAspectRatio=\"xMinYMin meet\"><g transform=\"matrix(1,0,0,-1,0,2.0)\"><g><polyline fill=\"none\" stroke=\"#66cc99\" stroke-width=\"0.0432\" points=\"0.0,0.0 1.0,1.0\" opacity=\"0.8\" /><polyline fill=\"none\" stroke=\"#66cc99\" stroke-width=\"0.0432\" points=\"1.0,1.0 0.0,2.0\" opacity=\"0.8\" /></g></g></svg>"
      ],
      "text/plain": [
       "<MULTILINESTRING ((0 0, 1 1), (1 1, 0 2))>"
      ]
     },
     "execution_count": 10,
     "metadata": {},
     "output_type": "execute_result"
    }
   ],
   "source": [
    "linestrings = [LineString([(0, 0), (1, 1)]), LineString([(1, 1), (0, 2)])]\n",
    "multiline = MultiLineString(linestrings)\n",
    "multiline"
   ]
  },
  {
   "cell_type": "code",
   "execution_count": 11,
   "metadata": {
    "tags": []
   },
   "outputs": [
    {
     "data": {
      "image/svg+xml": [
       "<svg xmlns=\"http://www.w3.org/2000/svg\" xmlns:xlink=\"http://www.w3.org/1999/xlink\" width=\"100.0\" height=\"100.0\" viewBox=\"-0.08 -0.08 2.16 2.16\" preserveAspectRatio=\"xMinYMin meet\"><g transform=\"matrix(1,0,0,-1,0,2.0)\"><g><path fill-rule=\"evenodd\" fill=\"#66cc99\" stroke=\"#555555\" stroke-width=\"0.0432\" opacity=\"0.6\" d=\"M 0.0,0.0 L 0.0,1.0 L 1.0,1.0 L 1.0,0.0 L 0.0,0.0 z\" /><path fill-rule=\"evenodd\" fill=\"#66cc99\" stroke=\"#555555\" stroke-width=\"0.0432\" opacity=\"0.6\" d=\"M 1.0,1.0 L 1.0,2.0 L 2.0,2.0 L 2.0,1.0 L 1.0,1.0 z\" /></g></g></svg>"
      ],
      "text/plain": [
       "<MULTIPOLYGON (((0 0, 0 1, 1 1, 1 0, 0 0)), ((1 1, 1 2, 2 2, 2 1, 1 1)))>"
      ]
     },
     "execution_count": 11,
     "metadata": {},
     "output_type": "execute_result"
    }
   ],
   "source": [
    "polygons = [Polygon([(0, 0), (0, 1), (1, 1), (1, 0), (0, 0)]), Polygon([(1, 1), (1, 2), (2, 2), (2, 1), (1, 1)])]\n",
    "multipolygon = MultiPolygon(polygons)\n",
    "multipolygon"
   ]
  },
  {
   "cell_type": "markdown",
   "metadata": {},
   "source": [
    "## Object Properties\n",
    "\n",
    "Shapely provides various attributes and methods that allow you to extract information from and perform operations on geometric objects. \n",
    "\n",
    "In this section, we will cover some of the most commonly used properties and methods, such as `area`, `length`, `bounds`, `centroid`, and `is_valid`."
   ]
  },
  {
   "cell_type": "markdown",
   "metadata": {},
   "source": [
    "### Properties of Geometric Objects\n",
    "\n",
    "- `area`: Returns the area of a `Polygon` or `MultiPolygon` object.\n",
    "- `length`: Returns the length of a `LineString`, `MultiLineString`, or the perimeter of a `Polygon` or `MultiPolygon` object.\n",
    "- `bounds`: Returns the bounding box of a geometric object as a tuple `(min_x, min_y, max_x, max_y)`.\n",
    "- `centroid`: Returns the geometric centroid of a geometric object as a `Point`.\n",
    "- `is_valid`: Returns a boolean value indicating whether the geometry is topologically valid."
   ]
  },
  {
   "cell_type": "code",
   "execution_count": 12,
   "metadata": {
    "tags": []
   },
   "outputs": [
    {
     "data": {
      "text/plain": [
       "4.0"
      ]
     },
     "execution_count": 12,
     "metadata": {},
     "output_type": "execute_result"
    }
   ],
   "source": [
    "# Area of a Polygon\n",
    "polygon_area = polygon.area\n",
    "polygon_area"
   ]
  },
  {
   "cell_type": "code",
   "execution_count": 13,
   "metadata": {
    "tags": []
   },
   "outputs": [
    {
     "data": {
      "text/plain": [
       "3.82842712474619"
      ]
     },
     "execution_count": 13,
     "metadata": {},
     "output_type": "execute_result"
    }
   ],
   "source": [
    "# Length of a LineString\n",
    "linestring_length = linestring.length\n",
    "linestring_length"
   ]
  },
  {
   "cell_type": "code",
   "execution_count": 14,
   "metadata": {
    "tags": []
   },
   "outputs": [
    {
     "data": {
      "text/plain": [
       "(1.0, 2.0, 1.0, 2.0)"
      ]
     },
     "execution_count": 14,
     "metadata": {},
     "output_type": "execute_result"
    }
   ],
   "source": [
    "# Bounds of a Point\n",
    "point_bounds = point.bounds\n",
    "point_bounds"
   ]
  },
  {
   "cell_type": "code",
   "execution_count": 15,
   "metadata": {
    "tags": []
   },
   "outputs": [
    {
     "data": {
      "image/svg+xml": [
       "<svg xmlns=\"http://www.w3.org/2000/svg\" xmlns:xlink=\"http://www.w3.org/1999/xlink\" width=\"100.0\" height=\"100.0\" viewBox=\"0.0 0.0 2.0 2.0\" preserveAspectRatio=\"xMinYMin meet\"><g transform=\"matrix(1,0,0,-1,0,2.0)\"><circle cx=\"1.0\" cy=\"1.0\" r=\"0.06\" stroke=\"#555555\" stroke-width=\"0.02\" fill=\"#66cc99\" opacity=\"0.6\" /></g></svg>"
      ],
      "text/plain": [
       "<POINT (1 1)>"
      ]
     },
     "execution_count": 15,
     "metadata": {},
     "output_type": "execute_result"
    }
   ],
   "source": [
    "# Centroid of a Polygon\n",
    "polygon_centroid = polygon.centroid\n",
    "polygon_centroid"
   ]
  },
  {
   "cell_type": "code",
   "execution_count": 16,
   "metadata": {
    "tags": []
   },
   "outputs": [
    {
     "data": {
      "text/plain": [
       "True"
      ]
     },
     "execution_count": 16,
     "metadata": {},
     "output_type": "execute_result"
    }
   ],
   "source": [
    "# Validity of a Geometry\n",
    "is_polygon_valid = polygon.is_valid\n",
    "is_polygon_valid"
   ]
  },
  {
   "cell_type": "markdown",
   "metadata": {},
   "source": [
    "### Basic Geometric Operations\n",
    "\n",
    "Shapely provides several methods to perform basic geometric operations on objects:\n",
    "\n",
    "- `union`: Computes the geometric union of two objects.\n",
    "- `intersection`: Computes the geometric intersection of two objects.\n",
    "- `difference`: Computes the geometric difference of two objects.\n",
    "- `symmetric_difference`: Computes the symmetric difference of two objects (union without the intersection)."
   ]
  },
  {
   "cell_type": "code",
   "execution_count": 17,
   "metadata": {
    "tags": []
   },
   "outputs": [],
   "source": [
    "# Create two polygon objects\n",
    "polygon1 = Polygon([(0, 0), (0, 2), (2, 2), (2, 0), (0, 0)])\n",
    "polygon2 = Polygon([(1, 1), (1, 3), (3, 3), (3, 1), (1, 1)])"
   ]
  },
  {
   "cell_type": "code",
   "execution_count": 18,
   "metadata": {
    "tags": []
   },
   "outputs": [
    {
     "data": {
      "image/svg+xml": [
       "<svg xmlns=\"http://www.w3.org/2000/svg\" xmlns:xlink=\"http://www.w3.org/1999/xlink\" width=\"100.0\" height=\"100.0\" viewBox=\"-0.12 -0.12 3.24 3.24\" preserveAspectRatio=\"xMinYMin meet\"><g transform=\"matrix(1,0,0,-1,0,3.0)\"><path fill-rule=\"evenodd\" fill=\"#66cc99\" stroke=\"#555555\" stroke-width=\"0.06480000000000001\" opacity=\"0.6\" d=\"M 0.0,2.0 L 1.0,2.0 L 1.0,3.0 L 3.0,3.0 L 3.0,1.0 L 2.0,1.0 L 2.0,0.0 L 0.0,0.0 L 0.0,2.0 z\" /></g></svg>"
      ],
      "text/plain": [
       "<POLYGON ((0 2, 1 2, 1 3, 3 3, 3 1, 2 1, 2 0, 0 0, 0 2))>"
      ]
     },
     "execution_count": 18,
     "metadata": {},
     "output_type": "execute_result"
    }
   ],
   "source": [
    "# Union of two polygons\n",
    "polygon_union = polygon1.union(polygon2)\n",
    "polygon_union"
   ]
  },
  {
   "cell_type": "code",
   "execution_count": 19,
   "metadata": {
    "tags": []
   },
   "outputs": [
    {
     "data": {
      "image/svg+xml": [
       "<svg xmlns=\"http://www.w3.org/2000/svg\" xmlns:xlink=\"http://www.w3.org/1999/xlink\" width=\"100.0\" height=\"100.0\" viewBox=\"0.96 0.96 1.08 1.08\" preserveAspectRatio=\"xMinYMin meet\"><g transform=\"matrix(1,0,0,-1,0,3.0)\"><path fill-rule=\"evenodd\" fill=\"#66cc99\" stroke=\"#555555\" stroke-width=\"0.0216\" opacity=\"0.6\" d=\"M 2.0,2.0 L 2.0,1.0 L 1.0,1.0 L 1.0,2.0 L 2.0,2.0 z\" /></g></svg>"
      ],
      "text/plain": [
       "<POLYGON ((2 2, 2 1, 1 1, 1 2, 2 2))>"
      ]
     },
     "execution_count": 19,
     "metadata": {},
     "output_type": "execute_result"
    }
   ],
   "source": [
    "# Intersection of two polygons\n",
    "polygon_intersection = polygon1.intersection(polygon2)\n",
    "polygon_intersection"
   ]
  },
  {
   "cell_type": "code",
   "execution_count": 20,
   "metadata": {
    "tags": []
   },
   "outputs": [
    {
     "data": {
      "image/svg+xml": [
       "<svg xmlns=\"http://www.w3.org/2000/svg\" xmlns:xlink=\"http://www.w3.org/1999/xlink\" width=\"100.0\" height=\"100.0\" viewBox=\"-0.08 -0.08 2.16 2.16\" preserveAspectRatio=\"xMinYMin meet\"><g transform=\"matrix(1,0,0,-1,0,2.0)\"><path fill-rule=\"evenodd\" fill=\"#66cc99\" stroke=\"#555555\" stroke-width=\"0.0432\" opacity=\"0.6\" d=\"M 0.0,2.0 L 1.0,2.0 L 1.0,1.0 L 2.0,1.0 L 2.0,0.0 L 0.0,0.0 L 0.0,2.0 z\" /></g></svg>"
      ],
      "text/plain": [
       "<POLYGON ((0 2, 1 2, 1 1, 2 1, 2 0, 0 0, 0 2))>"
      ]
     },
     "execution_count": 20,
     "metadata": {},
     "output_type": "execute_result"
    }
   ],
   "source": [
    "# Difference of two polygons\n",
    "polygon_difference = polygon1.difference(polygon2)\n",
    "polygon_difference"
   ]
  },
  {
   "cell_type": "code",
   "execution_count": 21,
   "metadata": {
    "tags": []
   },
   "outputs": [
    {
     "data": {
      "image/svg+xml": [
       "<svg xmlns=\"http://www.w3.org/2000/svg\" xmlns:xlink=\"http://www.w3.org/1999/xlink\" width=\"100.0\" height=\"100.0\" viewBox=\"-0.12 -0.12 3.24 3.24\" preserveAspectRatio=\"xMinYMin meet\"><g transform=\"matrix(1,0,0,-1,0,3.0)\"><g><path fill-rule=\"evenodd\" fill=\"#66cc99\" stroke=\"#555555\" stroke-width=\"0.06480000000000001\" opacity=\"0.6\" d=\"M 0.0,2.0 L 1.0,2.0 L 1.0,1.0 L 2.0,1.0 L 2.0,0.0 L 0.0,0.0 L 0.0,2.0 z\" /><path fill-rule=\"evenodd\" fill=\"#66cc99\" stroke=\"#555555\" stroke-width=\"0.06480000000000001\" opacity=\"0.6\" d=\"M 2.0,2.0 L 1.0,2.0 L 1.0,3.0 L 3.0,3.0 L 3.0,1.0 L 2.0,1.0 L 2.0,2.0 z\" /></g></g></svg>"
      ],
      "text/plain": [
       "<MULTIPOLYGON (((0 2, 1 2, 1 1, 2 1, 2 0, 0 0, 0 2)), ((2 2, 1 2, 1 3, 3 3, ...>"
      ]
     },
     "execution_count": 21,
     "metadata": {},
     "output_type": "execute_result"
    }
   ],
   "source": [
    "# Symmetric difference of two polygons\n",
    "polygon_symmetric_difference = polygon1.symmetric_difference(polygon2)\n",
    "polygon_symmetric_difference"
   ]
  },
  {
   "cell_type": "markdown",
   "metadata": {},
   "source": [
    "## Coordinate Systems and Transformations\n",
    "\n",
    "### Coordinate Systems\n",
    "\n",
    "**A coordinate system is a way to represent the position of points in space using numerical values**. \n",
    "\n",
    "In geospatial analysis, coordinate systems are crucial for accurately representing and analyzing geographic data. There are two main types of coordinate systems used in geospatial analysis:\n",
    "\n",
    "- `Geographic Coordinate Systems (GCS)`: These systems use latitude and longitude values to describe the location of a point on the Earth's surface. The most common geographic coordinate system is the World Geodetic System 1984 (WGS 84), which is used by GPS.\n",
    "- `Projected Coordinate Systems (PCS)`: These systems project the Earth's surface onto a flat plane, using linear units like meters or feet. \n",
    "    - Projected coordinate systems are designed to minimize distortion in specific regions or for specific purposes, such as distance and area measurements. \n",
    "    - The Universal Transverse Mercator (UTM) and State Plane Coordinate System (SPCS) are examples of widely used projected coordinate systems.\n",
    "\n",
    "When working with geospatial data, it's essential to be aware of the coordinate system being used and to perform necessary transformations when combining data from different coordinate systems."
   ]
  },
  {
   "cell_type": "markdown",
   "metadata": {},
   "source": [
    "### Coordinate Transformations with `Shapely` and `Pyproj`\n",
    "\n",
    "`Shapely` itself does not provide built-in support for coordinate transformations. However, it can be used in conjunction with other libraries, such as `Pyproj`, to perform these transformations.\n",
    "\n",
    "`Pyproj` is a Python library that provides access to the [PROJ](https://github.com/OSGeo/PROJ) coordinate transformation software. It allows you to convert coordinates between different coordinate systems and perform various geodetic calculations.\n",
    "\n",
    "In this section, we will demonstrate how to use Shapely and Pyproj together to perform a simple coordinate transformation."
   ]
  },
  {
   "cell_type": "code",
   "execution_count": 22,
   "metadata": {
    "tags": []
   },
   "outputs": [],
   "source": [
    "from pyproj import Transformer\n",
    "from shapely.ops import transform"
   ]
  },
  {
   "cell_type": "code",
   "execution_count": 23,
   "metadata": {
    "tags": []
   },
   "outputs": [],
   "source": [
    "# Define the input and output coordinate systems (EPSG codes)\n",
    "input_crs = \"EPSG:4326\"  # WGS 84 (latitude, longitude)\n",
    "output_crs = \"EPSG:32633\"  # UTM Zone 33N (meters)"
   ]
  },
  {
   "cell_type": "code",
   "execution_count": 24,
   "metadata": {
    "tags": []
   },
   "outputs": [],
   "source": [
    "# Create a Pyproj transformer object for the coordinate transformation\n",
    "transformer = Transformer.from_crs(input_crs, output_crs)"
   ]
  },
  {
   "cell_type": "code",
   "execution_count": 25,
   "metadata": {
    "tags": []
   },
   "outputs": [
    {
     "data": {
      "image/svg+xml": [
       "<svg xmlns=\"http://www.w3.org/2000/svg\" xmlns:xlink=\"http://www.w3.org/1999/xlink\" width=\"100.0\" height=\"100.0\" viewBox=\"12.481599999999998 41.8896 0.010800000000003251 0.010799999999996146\" preserveAspectRatio=\"xMinYMin meet\"><g transform=\"matrix(1,0,0,-1,0,83.78999999999999)\"><path fill-rule=\"evenodd\" fill=\"#66cc99\" stroke=\"#555555\" stroke-width=\"0.00021600000000006502\" opacity=\"0.6\" d=\"M 12.482,41.89 L 12.482,41.9 L 12.492,41.9 L 12.492,41.89 L 12.482,41.89 z\" /></g></svg>"
      ],
      "text/plain": [
       "<POLYGON ((12.482 41.89, 12.482 41.9, 12.492 41.9, 12.492 41.89, 12.482 41.89))>"
      ]
     },
     "execution_count": 25,
     "metadata": {},
     "output_type": "execute_result"
    }
   ],
   "source": [
    "# Define a Shapely geometry (polygon) in the input coordinate system (WGS 84)\n",
    "polygon_wgs84 = Polygon([\n",
    "    (12.482, 41.890),\n",
    "    (12.482, 41.900),\n",
    "    (12.492, 41.900),\n",
    "    (12.492, 41.890),\n",
    "    (12.482, 41.890)\n",
    "])\n",
    "polygon_wgs84"
   ]
  },
  {
   "cell_type": "code",
   "execution_count": 26,
   "metadata": {
    "tags": []
   },
   "outputs": [],
   "source": [
    "# Perform the coordinate transformation using Shapely and Pyproj\n",
    "polygon_utm33n = transform(transformer.transform, polygon_wgs84)"
   ]
  },
  {
   "cell_type": "code",
   "execution_count": 27,
   "metadata": {
    "tags": []
   },
   "outputs": [
    {
     "data": {
      "text/plain": [
       "1.4950316391590341"
      ]
     },
     "execution_count": 27,
     "metadata": {},
     "output_type": "execute_result"
    }
   ],
   "source": [
    "# Calculate the area in square kilometers\n",
    "area_km2 = polygon_utm33n.area / 1e6\n",
    "area_km2"
   ]
  },
  {
   "cell_type": "markdown",
   "metadata": {},
   "source": [
    "## Spatial Relationships and Predicates\n",
    "\n",
    "Spatial relationships describe **how geometric objects relate to one another in space**. Understanding these relationships is essential for many geospatial analysis tasks. Shapely provides several methods, known as `predicates`, to test the spatial relationships between objects. Some of the most commonly used predicates are:\n",
    "\n",
    "- `equals`: Tests whether two geometric objects are geometrically equal (i.e., have the same coordinates).\n",
    "- `contains`: Tests whether one geometric object contains another (i.e., the interior of the first object completely contains the second object).\n",
    "- `crosses`: Tests whether one geometric object crosses another (i.e., the two objects intersect, but not at all points).\n",
    "- `disjoint`: Tests whether two geometric objects are disjoint (i.e., they do not intersect).\n",
    "- `intersects`: Tests whether two geometric objects intersect (i.e., they share at least one point in common).\n",
    "- `overlaps`: Tests whether two geometric objects overlap (i.e., their interiors intersect, but neither contains the other).\n",
    "- `touches`: Tests whether two geometric objects touch (i.e., they share points only on their boundaries).\n",
    "- `within`: Tests whether one geometric object is within another (i.e., the interior of the first object is completely contained by the second object).\n",
    "\n",
    "In this section, we will demonstrate how to use these predicates in `Shapely`."
   ]
  },
  {
   "cell_type": "code",
   "execution_count": 28,
   "metadata": {
    "tags": []
   },
   "outputs": [
    {
     "name": "stdout",
     "output_type": "stream",
     "text": [
      "point1 equals point2: True\n",
      "point1 within polygon1: False\n",
      "linestring crosses polygon1: False\n",
      "polygon1 disjoint polygon2: False\n",
      "polygon1 intersects polygon2: True\n",
      "polygon1 overlaps polygon2: True\n",
      "polygon1 touches polygon2: False\n"
     ]
    }
   ],
   "source": [
    "# A bunch of points\n",
    "point1 = Point(0, 0)\n",
    "point2 = Point(0, 0)\n",
    "point3 = Point(1, 1)\n",
    "\n",
    "# One linestring (connected points)\n",
    "linestring = LineString([(0, 0), (1, 1), (2, 2)])\n",
    "\n",
    "# Two polygons\n",
    "polygon1 = Polygon([(0, 0), (0, 2), (2, 2), (2, 0), (0, 0)])\n",
    "polygon2 = Polygon([(1, 1), (1, 3), (3, 3), (3, 1), (1, 1)])\n",
    "\n",
    "# Spatial relationship predicates\n",
    "print(\"point1 equals point2:\", point1.equals(point2))\n",
    "print(\"point1 within polygon1:\", point1.within(polygon1))\n",
    "print(\"linestring crosses polygon1:\", linestring.crosses(polygon1))\n",
    "print(\"polygon1 disjoint polygon2:\", polygon1.disjoint(polygon2))\n",
    "print(\"polygon1 intersects polygon2:\", polygon1.intersects(polygon2))\n",
    "print(\"polygon1 overlaps polygon2:\", polygon1.overlaps(polygon2))\n",
    "print(\"polygon1 touches polygon2:\", polygon1.touches(polygon2))"
   ]
  },
  {
   "cell_type": "markdown",
   "metadata": {},
   "source": [
    "These examples demonstrate how to use Shapely's predicates to test spatial relationships between geometric objects. Note that some of these predicates are closely related, such as `contains` and `within`, which are the inverse of each other."
   ]
  },
  {
   "cell_type": "markdown",
   "metadata": {},
   "source": [
    "## Affine Transformations\n",
    "\n",
    "Affine transformations are geometric transformations that preserve collinearity (i.e., points lying on a straight line remain on a straight line after transformation) and relative ratios of distances (e.g., midpoints remain midpoints). Common affine transformations include `scaling`, `rotation`, and `translation`:\n",
    "\n",
    "- `Scaling`: Changes the size of an object by a specified factor in the `x`, `y`, and/or `z` directions. \n",
    "    - The scaling can be uniform (same factor in all directions) or non-uniform (different factors for each direction).\n",
    "- `Rotation`: Rotates an object around a specified point by a given angle (in degrees). \n",
    "    - The rotation can be performed in two dimensions (around a point) or three dimensions (around an axis).\n",
    "- `Translation`: Moves an object by a given distance along the `x`, `y`, and/or `z` directions without changing its size or orientation.\n",
    "\n",
    "In this section, we will demonstrate how to perform affine transformations on Shapely geometries using the `shapely.affinity` module."
   ]
  },
  {
   "cell_type": "code",
   "execution_count": 29,
   "metadata": {
    "tags": []
   },
   "outputs": [],
   "source": [
    "from shapely import affinity"
   ]
  },
  {
   "cell_type": "code",
   "execution_count": 30,
   "metadata": {
    "tags": []
   },
   "outputs": [
    {
     "name": "stdout",
     "output_type": "stream",
     "text": [
      "Point coordinates: 1.0, 1.0\n",
      "Line coordinates: [(0.0, 0.0), (1.0, 1.0), (2.0, 2.0)]\n"
     ]
    }
   ],
   "source": [
    "# Create a point and a Linestring that contains the point\n",
    "point = Point(1, 1)\n",
    "linestring = LineString([(0, 0), (1, 1), (2, 2)])\n",
    "print(f\"Point coordinates: {point.x}, {point.y}\")\n",
    "print(f\"Line coordinates: {list(linestring.coords)}\")"
   ]
  },
  {
   "cell_type": "code",
   "execution_count": 31,
   "metadata": {
    "tags": []
   },
   "outputs": [
    {
     "name": "stdout",
     "output_type": "stream",
     "text": [
      "Scaled point coordinates: 1.0, 1.0\n",
      "Scaled line coordinates: [(-1.0, -1.0), (1.0, 1.0), (3.0, 3.0)]\n"
     ]
    }
   ],
   "source": [
    "# Scaling\n",
    "scaled_point = affinity.scale(point, xfact=2, yfact=2)\n",
    "scaled_linestring = affinity.scale(linestring, xfact=2, yfact=2)\n",
    "print(f\"Scaled point coordinates: {scaled_point.x}, {scaled_point.y}\")\n",
    "print(f\"Scaled line coordinates: {list(scaled_linestring.coords)}\")"
   ]
  },
  {
   "cell_type": "code",
   "execution_count": 32,
   "metadata": {
    "tags": []
   },
   "outputs": [
    {
     "name": "stdout",
     "output_type": "stream",
     "text": [
      "Rotated point coordinates: 1.1102230246251565e-16, 1.414213562373095\n",
      "Rotated line coordinates: [(0.0, 0.0), (1.1102230246251565e-16, 1.414213562373095), (2.220446049250313e-16, 2.82842712474619)]\n"
     ]
    }
   ],
   "source": [
    "# Rotation\n",
    "rotated_point = affinity.rotate(point, angle=45, origin=(0, 0))\n",
    "rotated_linestring = affinity.rotate(linestring, angle=45, origin=(0, 0))\n",
    "print(f\"Rotated point coordinates: {rotated_point.x}, {rotated_point.y}\")\n",
    "print(f\"Rotated line coordinates: {list(rotated_linestring.coords)}\")"
   ]
  },
  {
   "cell_type": "code",
   "execution_count": 33,
   "metadata": {
    "tags": []
   },
   "outputs": [
    {
     "name": "stdout",
     "output_type": "stream",
     "text": [
      "Translated point coordinates: 2.0, 2.0\n",
      "Translated line coordinates: [(1.0, 1.0), (2.0, 2.0), (3.0, 3.0)]\n"
     ]
    }
   ],
   "source": [
    "# Translation\n",
    "translated_point = affinity.translate(point, xoff=1, yoff=1)\n",
    "translated_linestring = affinity.translate(linestring, xoff=1, yoff=1)\n",
    "print(f\"Translated point coordinates: {translated_point.x}, {translated_point.y}\")\n",
    "print(f\"Translated line coordinates: {list(translated_linestring.coords)}\")"
   ]
  },
  {
   "cell_type": "markdown",
   "metadata": {},
   "source": [
    "In these examples, we performed scaling, rotation, and translation on a `Point` and a `LineString` using the `shapely.affinity` module. \n",
    "\n",
    "Note that for each transformation, we specified the necessary parameters, such as scaling factors, rotation angle, translation distances, and the origin of the transformation (when applicable)."
   ]
  },
  {
   "cell_type": "markdown",
   "metadata": {},
   "source": [
    "## Simplifying and Buffering Geometries"
   ]
  },
  {
   "cell_type": "markdown",
   "metadata": {},
   "source": [
    "### Simplifying Geometries\n",
    "\n",
    "Simplifying geometries is a process of **reducing the number of vertices in a geometry while maintaining its overall shape**. This can be useful for reducing the complexity and size of geospatial data, making it more manageable for analysis and visualization purposes.\n",
    "\n",
    "One common algorithm for simplifying geometries is the **Douglas-Peucker algorithm. It works by recursively dividing a geometry (e.g., a LineString or a Polygon) and removing vertices that are not necessary for maintaining the shape within a specified tolerance**.\n",
    "\n",
    "Shapely provides the `simplify()` method to simplify geometries using the Douglas-Peucker algorithm."
   ]
  },
  {
   "cell_type": "markdown",
   "metadata": {},
   "source": [
    "### Buffering Geometries\n",
    "\n",
    "Buffering is the process of creating a new geometry that represents an area at a specified distance around an existing geometry. This can be useful for tasks such as proximity analysis, where you need to identify features within a certain distance of other features.\n",
    "\n",
    "In Shapely, you can create buffers around geometries using the `buffer()` method.\n",
    "\n",
    "Let's write some code for both `simplify()` and `buffer()`:"
   ]
  },
  {
   "cell_type": "code",
   "execution_count": 34,
   "metadata": {
    "tags": []
   },
   "outputs": [
    {
     "data": {
      "image/svg+xml": [
       "<svg xmlns=\"http://www.w3.org/2000/svg\" xmlns:xlink=\"http://www.w3.org/1999/xlink\" width=\"100.0\" height=\"100.0\" viewBox=\"-0.16 -0.16 4.32 1.3199999999999998\" preserveAspectRatio=\"xMinYMin meet\"><g transform=\"matrix(1,0,0,-1,0,0.9999999999999999)\"><polyline fill=\"none\" stroke=\"#66cc99\" stroke-width=\"0.0864\" points=\"0.0,0.0 1.0,1.0 2.0,0.0 3.0,1.0 4.0,0.0\" opacity=\"0.8\" /></g></svg>"
      ],
      "text/plain": [
       "<LINESTRING (0 0, 1 1, 2 0, 3 1, 4 0)>"
      ]
     },
     "execution_count": 34,
     "metadata": {},
     "output_type": "execute_result"
    }
   ],
   "source": [
    "# Original geometry\n",
    "linestring = LineString([(0, 0), (1, 1), (2, 0), (3, 1), (4, 0)])\n",
    "linestring"
   ]
  },
  {
   "cell_type": "code",
   "execution_count": 35,
   "metadata": {
    "tags": []
   },
   "outputs": [
    {
     "data": {
      "image/svg+xml": [
       "<svg xmlns=\"http://www.w3.org/2000/svg\" xmlns:xlink=\"http://www.w3.org/1999/xlink\" width=\"100.0\" height=\"100.0\" viewBox=\"-0.7 -0.7 5.4 2.4\" preserveAspectRatio=\"xMinYMin meet\"><g transform=\"matrix(1,0,0,-1,0,1.0)\"><path fill-rule=\"evenodd\" fill=\"#66cc99\" stroke=\"#555555\" stroke-width=\"0.10800000000000001\" opacity=\"0.6\" d=\"M 0.6464466094067263,1.3535533905932737 L 0.6828033579181774,1.3865052266813684 L 0.722214883490199,1.4157348061512727 L 0.7643016315870012,1.4409606321741775 L 0.8086582838174552,1.4619397662556435 L 0.8548576613727689,1.4784701678661045 L 0.9024548389919359,1.4903926402016152 L 0.9509914298352197,1.4975923633360986 L 1.0,1.5 L 1.0490085701647804,1.4975923633360984 L 1.0975451610080642,1.4903926402016152 L 1.145142338627231,1.4784701678661045 L 1.1913417161825448,1.4619397662556435 L 1.235698368412999,1.4409606321741775 L 1.277785116509801,1.4157348061512725 L 1.3171966420818229,1.3865052266813684 L 1.3535533905932737,1.3535533905932737 L 2.0,0.7071067811865476 L 2.646446609406726,1.3535533905932737 L 2.682803357918177,1.3865052266813684 L 2.722214883490199,1.4157348061512725 L 2.764301631587001,1.4409606321741775 L 2.808658283817455,1.4619397662556435 L 2.854857661372769,1.4784701678661043 L 2.902454838991936,1.4903926402016152 L 2.9509914298352196,1.4975923633360986 L 3.0,1.5 L 3.0490085701647804,1.4975923633360984 L 3.0975451610080644,1.4903926402016152 L 3.145142338627231,1.4784701678661043 L 3.191341716182545,1.4619397662556433 L 3.235698368412999,1.4409606321741775 L 3.277785116509801,1.4157348061512725 L 3.317196642081823,1.3865052266813684 L 3.353553390593274,1.3535533905932737 L 4.353553390593274,0.35355339059327373 L 4.386505226681368,0.31719664208182274 L 4.4157348061512725,0.2777851165098011 L 4.4409606321741775,0.23569836841299882 L 4.461939766255643,0.1913417161825449 L 4.478470167866105,0.14514233862723117 L 4.490392640201615,0.09754516100806412 L 4.497592363336098,0.0490085701647803 L 4.5,0.0 L 4.497592363336098,-0.0490085701647803 L 4.490392640201615,-0.09754516100806412 L 4.478470167866105,-0.14514233862723114 L 4.461939766255643,-0.1913417161825449 L 4.4409606321741775,-0.23569836841299888 L 4.4157348061512725,-0.2777851165098011 L 4.386505226681368,-0.3171966420818227 L 4.353553390593274,-0.35355339059327373 L 4.317196642081822,-0.3865052266813685 L 4.2777851165098015,-0.41573480615127256 L 4.235698368412999,-0.44096063217417747 L 4.191341716182545,-0.46193976625564337 L 4.145142338627231,-0.47847016786610447 L 4.097545161008064,-0.4903926402016152 L 4.04900857016478,-0.4975923633360984 L 4.0,-0.5 L 3.9509914298352196,-0.49759236333609846 L 3.902454838991936,-0.4903926402016152 L 3.854857661372769,-0.47847016786610447 L 3.808658283817455,-0.46193976625564337 L 3.764301631587001,-0.4409606321741775 L 3.722214883490199,-0.41573480615127273 L 3.6828033579181776,-0.38650522668136855 L 3.646446609406726,-0.35355339059327373 L 3.0,0.2928932188134523 L 2.353553390593274,-0.35355339059327373 L 2.317196642081823,-0.38650522668136833 L 2.277785116509801,-0.4157348061512725 L 2.235698368412999,-0.44096063217417747 L 2.191341716182545,-0.4619397662556433 L 2.1451423386272315,-0.47847016786610436 L 2.0975451610080644,-0.4903926402016152 L 2.0490085701647804,-0.4975923633360984 L 2.0,-0.5 L 1.9509914298352198,-0.49759236333609846 L 1.902454838991936,-0.49039264020161527 L 1.854857661372769,-0.47847016786610447 L 1.8086582838174552,-0.46193976625564337 L 1.764301631587001,-0.4409606321741775 L 1.722214883490199,-0.41573480615127256 L 1.6828033579181774,-0.38650522668136855 L 1.6464466094067263,-0.35355339059327373 L 1.0,0.29289321881345254 L 0.35355339059327373,-0.35355339059327373 L 0.3171966420818228,-0.38650522668136844 L 0.27778511650980114,-0.41573480615127256 L 0.2356983684129989,-0.44096063217417747 L 0.19134171618254492,-0.46193976625564337 L 0.14514233862723114,-0.47847016786610447 L 0.09754516100806415,-0.4903926402016152 L 0.049008570164780385,-0.4975923633360984 L 3.061616997868383e-17,-0.5 L -0.04900857016478033,-0.49759236333609846 L -0.0975451610080641,-0.4903926402016152 L -0.1451423386272311,-0.47847016786610447 L -0.19134171618254486,-0.46193976625564337 L -0.23569836841299885,-0.4409606321741775 L -0.277785116509801,-0.41573480615127273 L -0.31719664208182263,-0.38650522668136855 L -0.35355339059327373,-0.3535533905932738 L -0.3865052266813685,-0.31719664208182274 L -0.4157348061512727,-0.2777851165098011 L -0.44096063217417747,-0.2356983684129989 L -0.46193976625564337,-0.19134171618254492 L -0.4784701678661044,-0.14514233862723117 L -0.4903926402016152,-0.09754516100806429 L -0.4975923633360984,-0.04900857016478042 L -0.5,-6.123233995736766e-17 L -0.49759236333609846,0.049008570164780295 L -0.4903926402016152,0.09754516100806418 L -0.47847016786610447,0.14514233862723108 L -0.46193976625564337,0.19134171618254484 L -0.4409606321741775,0.23569836841299882 L -0.41573480615127273,0.277785116509801 L -0.38650522668136855,0.31719664208182263 L -0.35355339059327373,0.35355339059327373 L 0.6464466094067263,1.3535533905932737 z\" /></g></svg>"
      ],
      "text/plain": [
       "<POLYGON ((0.646 1.354, 0.683 1.387, 0.722 1.416, 0.764 1.441, 0.809 1.462, ...>"
      ]
     },
     "execution_count": 35,
     "metadata": {},
     "output_type": "execute_result"
    }
   ],
   "source": [
    "# Buffer the original geometry\n",
    "buffer_distance = 0.5\n",
    "buffered_linestring = linestring.buffer(buffer_distance)\n",
    "buffered_linestring"
   ]
  },
  {
   "cell_type": "code",
   "execution_count": 36,
   "metadata": {
    "tags": []
   },
   "outputs": [
    {
     "data": {
      "image/svg+xml": [
       "<svg xmlns=\"http://www.w3.org/2000/svg\" xmlns:xlink=\"http://www.w3.org/1999/xlink\" width=\"100.0\" height=\"100.0\" viewBox=\"-0.4236038937997445 -0.6854978887228441 5.073449185442133 2.335343180365233\" preserveAspectRatio=\"xMinYMin meet\"><g transform=\"matrix(1,0,0,-1,0,0.9643474029195448)\"><path fill-rule=\"evenodd\" fill=\"#66cc99\" stroke=\"#555555\" stroke-width=\"0.10146898370884266\" opacity=\"0.6\" d=\"M 0.6464466094067263,1.3535533905932737 L 2.0,0.7071067811865476 L 3.191341716182545,1.4619397662556433 L 4.461939766255643,-0.1913417161825449 L 3.0,0.2928932188134523 L 1.9509914298352198,-0.49759236333609846 L 1.0,0.29289321881345254 L -0.23569836841299885,-0.4409606321741775 L 0.6464466094067263,1.3535533905932737 z\" /></g></svg>"
      ],
      "text/plain": [
       "<POLYGON ((0.646 1.354, 2 0.707, 3.191 1.462, 4.462 -0.191, 3 0.293, 1.951 -...>"
      ]
     },
     "execution_count": 36,
     "metadata": {},
     "output_type": "execute_result"
    }
   ],
   "source": [
    "# Simplify the buffer geometry\n",
    "tolerance = .5\n",
    "simplified_linestring = buffered_linestring.simplify(tolerance)\n",
    "simplified_linestring"
   ]
  },
  {
   "cell_type": "markdown",
   "metadata": {},
   "source": [
    "## Practical Examples & Use Cases\n",
    "\n",
    "In this section, we will explore a few real-world examples that apply the concepts and techniques covered in this notebook. These examples will demonstrate how Shapely can be used for various geospatial analysis tasks."
   ]
  },
  {
   "cell_type": "markdown",
   "metadata": {},
   "source": [
    "### Example 1: Point-in-Polygon Analysis\n",
    "\n",
    "Suppose we have a dataset of points representing the locations of schools in a city and a dataset of polygons representing different administrative zones. We want to determine which schools are located within each administrative zone."
   ]
  },
  {
   "cell_type": "markdown",
   "metadata": {},
   "source": [
    "#### Step 1: Create Shapely geometries for schools and administrative zones\n",
    "\n",
    "In this example, we will create a few sample geometries for demonstration purposes. In practice, you would typically read the data from a file (e.g., using GeoPandas)."
   ]
  },
  {
   "cell_type": "code",
   "execution_count": 37,
   "metadata": {
    "tags": []
   },
   "outputs": [],
   "source": [
    "# Create sample school geometries (points)\n",
    "school1 = Point(1, 1)\n",
    "school2 = Point(3, 3)\n",
    "school3 = Point(5, 5)\n",
    "\n",
    "# Create sample administrative zone geometries (polygons)\n",
    "zone1 = Polygon([(0, 0), (0, 4), (4, 4), (4, 0), (0, 0)])\n",
    "zone2 = Polygon([(4, 0), (4, 4), (8, 4), (8, 0), (4, 0)])"
   ]
  },
  {
   "cell_type": "markdown",
   "metadata": {},
   "source": [
    "#### Step 2: Perform the point-in-polygon analysis\n",
    "\n",
    "Now that we have the school and administrative zone geometries, we can use Shapely's within predicate to determine which schools are located within each zone."
   ]
  },
  {
   "cell_type": "code",
   "execution_count": 38,
   "metadata": {
    "tags": []
   },
   "outputs": [
    {
     "data": {
      "text/plain": [
       "(True, False, True, False, False, False)"
      ]
     },
     "execution_count": 38,
     "metadata": {},
     "output_type": "execute_result"
    }
   ],
   "source": [
    "# Check if each school is within a zone\n",
    "school1_in_zone1 = school1.within(zone1)\n",
    "school1_in_zone2 = school1.within(zone2)\n",
    "\n",
    "school2_in_zone1 = school2.within(zone1)\n",
    "school2_in_zone2 = school2.within(zone2)\n",
    "\n",
    "school3_in_zone1 = school3.within(zone1)\n",
    "school3_in_zone2 = school3.within(zone2)\n",
    "\n",
    "school1_in_zone1, school1_in_zone2, school2_in_zone1, school2_in_zone2, school3_in_zone1, school3_in_zone2"
   ]
  },
  {
   "cell_type": "markdown",
   "metadata": {},
   "source": [
    "### Example 2: Buffer Analysis for Proximity\n",
    "\n",
    "Suppose we have a dataset of points representing the locations of parks in a city. We want to create a 500-meter buffer around each park and then determine if a given location is within walking distance to any park (i.e., within the buffer)."
   ]
  },
  {
   "cell_type": "markdown",
   "metadata": {},
   "source": [
    "#### Step 1: Create Shapely geometries for parks and the location\n",
    "\n",
    "In this example, we will create a few sample park geometries and a location geometry for demonstration purposes. In practice, you would typically read the data from a file (e.g., using GeoPandas)."
   ]
  },
  {
   "cell_type": "code",
   "execution_count": 39,
   "metadata": {
    "tags": []
   },
   "outputs": [],
   "source": [
    "# Create sample park geometries (points)\n",
    "park1 = Point(2, 2)\n",
    "park2 = Point(6, 6)\n",
    "\n",
    "# Create the location geometry (point)\n",
    "location = Point(3, 3)"
   ]
  },
  {
   "cell_type": "markdown",
   "metadata": {},
   "source": [
    "#### Step 2: Create buffers around the parks\n",
    "\n",
    "We will create 500-meter buffers around each park using the buffer() method. Note that in this example, we assume that the coordinates are in a geographic coordinate system (e.g., WGS 84), so we will need to convert the buffer distance to decimal degrees. \n",
    "\n",
    "In practice, it is usually better to work with a projected coordinate system for such analysis."
   ]
  },
  {
   "cell_type": "code",
   "execution_count": 40,
   "metadata": {
    "tags": []
   },
   "outputs": [],
   "source": [
    "# Buffer distance in meters\n",
    "buffer_distance_meters = 500\n",
    "\n",
    "# Approximate conversion factor from meters to decimal degrees (assuming coordinates are in WGS 84)\n",
    "meters_to_degrees = 1 / 111139\n",
    "\n",
    "# Calculate buffer distance in decimal degrees\n",
    "buffer_distance_degrees = buffer_distance_meters * meters_to_degrees\n",
    "\n",
    "# Create buffers around the parks\n",
    "park1_buffer = park1.buffer(buffer_distance_degrees)\n",
    "park2_buffer = park2.buffer(buffer_distance_degrees)"
   ]
  },
  {
   "cell_type": "markdown",
   "metadata": {},
   "source": [
    "#### Step 3: Determine if the location is within walking distance to any park\n",
    "\n",
    "Now that we have the park buffers, we can use Shapely's within predicate to determine if the location is within walking distance to any park (i.e., within the buffer)."
   ]
  },
  {
   "cell_type": "code",
   "execution_count": 41,
   "metadata": {
    "tags": []
   },
   "outputs": [
    {
     "data": {
      "text/plain": [
       "(False, False)"
      ]
     },
     "execution_count": 41,
     "metadata": {},
     "output_type": "execute_result"
    }
   ],
   "source": [
    "# Check if the location is within walking distance to any park\n",
    "location_within_park1_buffer = location.within(park1_buffer)\n",
    "location_within_park2_buffer = location.within(park2_buffer)\n",
    "location_within_park1_buffer, location_within_park2_buffer"
   ]
  },
  {
   "cell_type": "markdown",
   "metadata": {},
   "source": [
    "These practical examples demonstrate how Shapely can be used for various geospatial analysis tasks, such as point-in-polygon analysis and buffer analysis for proximity. By combining Shapely with other geospatial libraries (e.g., GeoPandas, Pyproj, and Rasterio), you can perform a wide range of geospatial operations in Python."
   ]
  },
  {
   "cell_type": "markdown",
   "metadata": {},
   "source": [
    "## Additional Resources and Further Reading\n",
    "\n",
    "To deepen your understanding of Shapely and learn more about geospatial analysis in Python, we recommend exploring the following resources:\n",
    "\n",
    "- [Shapely Documentation](https://shapely.readthedocs.io/en/stable/manual.html): The official documentation provides comprehensive information on Shapely's functionalities, methods, and classes. It is a great reference for understanding the library in-depth.\n",
    "- [GeoPandas Documentation](https://geopandas.org/en/stable/): GeoPandas extends the capabilities of Shapely for managing and analyzing geospatial data in a more convenient and powerful way. GeoPandas is built on top of Shapely and Pandas, and it provides a high-level interface for working with geospatial data in Python.\n",
    "- [Automating GIS-processes Course](https://autogis-site.readthedocs.io/en/latest/): A comprehensive open-source course that covers various aspects of geospatial analysis using Python, including Shapely, GeoPandas, and other geospatial libraries.\n",
    "- [Geospatial Data with Python](https://macwright.com/2012/10/31/gis-with-python-shapely-fiona.html): Shapely and Fiona: A tutorial that introduces Shapely and Fiona, focusing on working with vector data in Python.\n",
    "\n",
    "These resources will help you gain a deeper understanding of Shapely and geospatial analysis in Python, as well as provide practical examples and use cases to work through. Happy learning!\n",
    "\n",
    "---"
   ]
  }
 ],
 "metadata": {
  "celltoolbar": "Nbtutor - export exercises",
  "kernelspec": {
   "display_name": "Python 3 (ipykernel)",
   "language": "python",
   "name": "python3"
  },
  "language_info": {
   "codemirror_mode": {
    "name": "ipython",
    "version": 3
   },
   "file_extension": ".py",
   "mimetype": "text/x-python",
   "name": "python",
   "nbconvert_exporter": "python",
   "pygments_lexer": "ipython3",
   "version": "3.10.10"
  },
  "widgets": {
   "application/vnd.jupyter.widget-state+json": {
    "state": {},
    "version_major": 2,
    "version_minor": 0
   }
  }
 },
 "nbformat": 4,
 "nbformat_minor": 4
}
