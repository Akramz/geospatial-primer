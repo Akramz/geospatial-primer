{
 "cells": [
  {
   "cell_type": "markdown",
   "metadata": {},
   "source": [
    "# `Shapely`: Manipulation & analysis of geometric objects\n",
    "\n",
    "### Roadmap\n",
    "1. [x] Introduction\n",
    "2. [x] Basic Geometry types\n",
    "3. [x] Geometric Object Properties \n",
    "4. [x] Coordinate systems\n",
    "5. [x] Spatial relationships between Geometries\n",
    "6. [x] Affine transofmrations\n",
    "7. [x] Simplifying & Buffering Geometries\n",
    "8. [x] Practical examples & use cases\n",
    "9. [x] Additional resources & further reading"
   ]
  },
  {
   "cell_type": "markdown",
   "metadata": {},
   "source": [
    "Let's start by importing the necessary libraries:"
   ]
  },
  {
   "cell_type": "code",
   "execution_count": 2,
   "metadata": {
    "tags": []
   },
   "outputs": [],
   "source": [
    "import numpy as np\n",
    "import pandas as pd\n",
    "import matplotlib.pyplot as plt"
   ]
  },
  {
   "cell_type": "markdown",
   "metadata": {},
   "source": [
    "## Introduction\n",
    "\n",
    "- Shapely is a Python library for the manipulation and analysis of geometric objects. \n",
    "- It is based on the widely used [GEOS](https://libgeos.org/), which provides essential support for geographic information systems operations, such as **spatial relationships**, **geometric operations**, and **coordinate transformations**.\n",
    "-  Shapely is designed for use in conjunction with other Python libraries for geospatial analysis, such as `GeoPandas` and `Rasterio`. \n",
    "- It provides a convenient and efficient way to work with geometric objects like **points**, **lines**, and **polygons**, making it an essential tool for many geospatial analysis tasks."
   ]
  },
  {
   "cell_type": "markdown",
   "metadata": {},
   "source": [
    "### Installation\n",
    "\n",
    "- Shapely can be installed using either pip or conda. To install Shapely using pip, open a terminal or command prompt and run:\n",
    "\n",
    "```bash \n",
    "pip install shapely\n",
    "\n",
    "# Or using Conda...\n",
    "mamba install -c conda-forge shapely --yes\n",
    "```"
   ]
  },
  {
   "cell_type": "markdown",
   "metadata": {},
   "source": [
    "## Basic Geometric Types\n",
    "\n",
    "- `Shapely` provides several basic geometric objects that are commonly used in geospatial analysis. These objects are:\n",
    "    - `Point`: Represents a single point in 2-3 D space.\n",
    "    - `LineString`: Represents a sequence of connected points forming a line.\n",
    "    - `Polygon`: Represents a filled area defined by a sequence of points that form a closed ring.\n",
    "\n",
    "In this section, we will demonstrate how to create these objects using Shapely."
   ]
  },
  {
   "cell_type": "markdown",
   "metadata": {},
   "source": [
    "### `Point`\n",
    "\n",
    "- A `Point` object represents a single point in a two-dimensional Cartesian coordinate system. \n",
    "- **Points are typically used to represent locations, such as the coordinates of a city or a landmark**.\n",
    "\n",
    "To create a point, you can use the `Point` constructor from the `shapely.geometry` module and provide the `x` and `y` coordinates as arguments."
   ]
  },
  {
   "cell_type": "code",
   "execution_count": 3,
   "metadata": {
    "tags": []
   },
   "outputs": [
    {
     "data": {
      "image/svg+xml": [
       "<svg xmlns=\"http://www.w3.org/2000/svg\" xmlns:xlink=\"http://www.w3.org/1999/xlink\" width=\"100.0\" height=\"100.0\" viewBox=\"0.0 1.0 2.0 2.0\" preserveAspectRatio=\"xMinYMin meet\"><g transform=\"matrix(1,0,0,-1,0,4.0)\"><circle cx=\"1.0\" cy=\"2.0\" r=\"0.06\" stroke=\"#555555\" stroke-width=\"0.02\" fill=\"#66cc99\" opacity=\"0.6\" /></g></svg>"
      ],
      "text/plain": [
       "<POINT (1 2)>"
      ]
     },
     "execution_count": 3,
     "metadata": {},
     "output_type": "execute_result"
    }
   ],
   "source": [
    "from shapely.geometry import Point\n",
    "\n",
    "# Create a point\n",
    "point = Point(1,2)\n",
    "point"
   ]
  },
  {
   "cell_type": "markdown",
   "metadata": {},
   "source": [
    "### `LineString`\n",
    "\n",
    "- A `LineString` object represents a sequence of connected points forming a line. \n",
    "- **`LineString`s are used to represent linear features, such as roads or rivers**.\n",
    "\n",
    "To create a `LineString`, you can use the LineString constructor from the `shapely.geometry` module and provide a list of coordinate tuples (`x`, `y`) as arguments."
   ]
  },
  {
   "cell_type": "code",
   "execution_count": 4,
   "metadata": {
    "tags": []
   },
   "outputs": [
    {
     "data": {
      "image/svg+xml": [
       "<svg xmlns=\"http://www.w3.org/2000/svg\" xmlns:xlink=\"http://www.w3.org/1999/xlink\" width=\"100.0\" height=\"100.0\" viewBox=\"-0.12 -0.12 3.24 1.2400000000000002\" preserveAspectRatio=\"xMinYMin meet\"><g transform=\"matrix(1,0,0,-1,0,1.0)\"><polyline fill=\"none\" stroke=\"#66cc99\" stroke-width=\"0.06480000000000001\" points=\"0.0,0.0 1.0,1.0 2.0,1.0 3.0,0.0\" opacity=\"0.8\" /></g></svg>"
      ],
      "text/plain": [
       "<LINESTRING (0 0, 1 1, 2 1, 3 0)>"
      ]
     },
     "execution_count": 4,
     "metadata": {},
     "output_type": "execute_result"
    }
   ],
   "source": [
    "from shapely.geometry import LineString\n",
    "\n",
    "points = [(0,0), (1,1), (2,1), (3,0)]\n",
    "linestring = LineString(points)\n",
    "linestring"
   ]
  },
  {
   "cell_type": "markdown",
   "metadata": {},
   "source": [
    "### `Polygon`\n",
    "\n",
    "- A `Polygon` object represents a filled area defined by a sequence of points that **form a closed ring**. \n",
    "- Polygons are used to represent areas, such as **countries**, **states**, or land parcels.\n",
    "\n",
    "To create a `Polygon`, you can use the `Polygon` constructor from the `shapely.geometry` module and provide a list of coordinate tuples (`x`, `y`) as arguments. The first and last coordinate tuples should be the same to close the ring."
   ]
  },
  {
   "cell_type": "code",
   "execution_count": 7,
   "metadata": {
    "tags": []
   },
   "outputs": [
    {
     "data": {
      "image/svg+xml": [
       "<svg xmlns=\"http://www.w3.org/2000/svg\" xmlns:xlink=\"http://www.w3.org/1999/xlink\" width=\"100.0\" height=\"100.0\" viewBox=\"-0.08 -0.08 2.16 2.16\" preserveAspectRatio=\"xMinYMin meet\"><g transform=\"matrix(1,0,0,-1,0,2.0)\"><path fill-rule=\"evenodd\" fill=\"#ff3333\" stroke=\"#555555\" stroke-width=\"0.0432\" opacity=\"0.6\" d=\"M 0.0,0.0 L 2.0,2.0 L 0.0,2.0 L 2.0,0.0 L 0.0,0.0 z\" /></g></svg>"
      ],
      "text/plain": [
       "<POLYGON ((0 0, 2 2, 0 2, 2 0, 0 0))>"
      ]
     },
     "execution_count": 7,
     "metadata": {},
     "output_type": "execute_result"
    }
   ],
   "source": [
    "from shapely.geometry import Polygon\n",
    "\n",
    "points = [(0,0), (2,2), (0,2), (2,0), (0,0)]\n",
    "polygon = Polygon(points)\n",
    "polygon"
   ]
  },
  {
   "cell_type": "code",
   "execution_count": 8,
   "metadata": {
    "tags": []
   },
   "outputs": [
    {
     "data": {
      "text/plain": [
       "False"
      ]
     },
     "execution_count": 8,
     "metadata": {},
     "output_type": "execute_result"
    }
   ],
   "source": [
    "polygon.is_valid"
   ]
  },
  {
   "cell_type": "code",
   "execution_count": 9,
   "metadata": {
    "tags": []
   },
   "outputs": [
    {
     "data": {
      "image/svg+xml": [
       "<svg xmlns=\"http://www.w3.org/2000/svg\" xmlns:xlink=\"http://www.w3.org/1999/xlink\" width=\"100.0\" height=\"100.0\" viewBox=\"-0.08 -0.08 2.16 2.16\" preserveAspectRatio=\"xMinYMin meet\"><g transform=\"matrix(1,0,0,-1,0,2.0)\"><path fill-rule=\"evenodd\" fill=\"#66cc99\" stroke=\"#555555\" stroke-width=\"0.0432\" opacity=\"0.6\" d=\"M 0.0,0.0 L 0.0,2.0 L 2.0,2.0 L 2.0,0.0 L 0.0,0.0 z\" /></g></svg>"
      ],
      "text/plain": [
       "<POLYGON ((0 0, 0 2, 2 2, 2 0, 0 0))>"
      ]
     },
     "execution_count": 9,
     "metadata": {},
     "output_type": "execute_result"
    }
   ],
   "source": [
    "# Fix the ordering\n",
    "points = [(0,0), (0,2), (2,2), (2,0), (0,0)]\n",
    "polygon = Polygon(points)\n",
    "polygon"
   ]
  },
  {
   "cell_type": "code",
   "execution_count": 10,
   "metadata": {
    "tags": []
   },
   "outputs": [
    {
     "data": {
      "text/plain": [
       "True"
      ]
     },
     "execution_count": 10,
     "metadata": {},
     "output_type": "execute_result"
    }
   ],
   "source": [
    "polygon.is_valid"
   ]
  },
  {
   "cell_type": "markdown",
   "metadata": {
    "tags": []
   },
   "source": [
    "### Multi Geometries\n",
    "\n",
    "- You may have **multiple geometric objects of the same type** that you want to represent as a single entity. `Shapely` provides the following classes for handling such cases:\n",
    "    - `MultiPoint`: Represents a collection of points.\n",
    "    - `MultiLineString`: Represents a collection of linestrings.\n",
    "    - `MultiPolygon`: Represents a collection of polygons.\n",
    "\n",
    "These classes can be created using their respective constructors from the `shapely.geometry` module, by providing a list of the corresponding geometric objects as arguments."
   ]
  },
  {
   "cell_type": "code",
   "execution_count": 11,
   "metadata": {
    "tags": []
   },
   "outputs": [],
   "source": [
    "from shapely.geometry import MultiPoint, MultiLineString, MultiPolygon"
   ]
  },
  {
   "cell_type": "code",
   "execution_count": 12,
   "metadata": {
    "tags": []
   },
   "outputs": [
    {
     "data": {
      "image/svg+xml": [
       "<svg xmlns=\"http://www.w3.org/2000/svg\" xmlns:xlink=\"http://www.w3.org/1999/xlink\" width=\"100.0\" height=\"100.0\" viewBox=\"-0.08 -0.08 2.16 2.16\" preserveAspectRatio=\"xMinYMin meet\"><g transform=\"matrix(1,0,0,-1,0,2.0)\"><g><circle cx=\"0.0\" cy=\"0.0\" r=\"0.0648\" stroke=\"#555555\" stroke-width=\"0.0216\" fill=\"#66cc99\" opacity=\"0.6\" /><circle cx=\"1.0\" cy=\"1.0\" r=\"0.0648\" stroke=\"#555555\" stroke-width=\"0.0216\" fill=\"#66cc99\" opacity=\"0.6\" /><circle cx=\"2.0\" cy=\"2.0\" r=\"0.0648\" stroke=\"#555555\" stroke-width=\"0.0216\" fill=\"#66cc99\" opacity=\"0.6\" /></g></g></svg>"
      ],
      "text/plain": [
       "<MULTIPOINT (0 0, 1 1, 2 2)>"
      ]
     },
     "execution_count": 12,
     "metadata": {},
     "output_type": "execute_result"
    }
   ],
   "source": [
    "points = [Point(0, 0), Point(1, 1), Point(2, 2)]\n",
    "multipoint = MultiPoint(points)\n",
    "multipoint"
   ]
  },
  {
   "cell_type": "code",
   "execution_count": 13,
   "metadata": {
    "tags": []
   },
   "outputs": [
    {
     "data": {
      "image/svg+xml": [
       "<svg xmlns=\"http://www.w3.org/2000/svg\" xmlns:xlink=\"http://www.w3.org/1999/xlink\" width=\"100.0\" height=\"100.0\" viewBox=\"-0.08 -0.08 1.1600000000000001 2.16\" preserveAspectRatio=\"xMinYMin meet\"><g transform=\"matrix(1,0,0,-1,0,2.0)\"><g><polyline fill=\"none\" stroke=\"#66cc99\" stroke-width=\"0.0432\" points=\"0.0,0.0 1.0,1.0\" opacity=\"0.8\" /><polyline fill=\"none\" stroke=\"#66cc99\" stroke-width=\"0.0432\" points=\"1.0,1.0 0.0,2.0\" opacity=\"0.8\" /></g></g></svg>"
      ],
      "text/plain": [
       "<MULTILINESTRING ((0 0, 1 1), (1 1, 0 2))>"
      ]
     },
     "execution_count": 13,
     "metadata": {},
     "output_type": "execute_result"
    }
   ],
   "source": [
    "linestrings = [LineString([(0, 0), (1, 1)]), LineString([(1, 1), (0, 2)])]\n",
    "multiline = MultiLineString(linestrings)\n",
    "multiline"
   ]
  },
  {
   "cell_type": "code",
   "execution_count": 14,
   "metadata": {
    "tags": []
   },
   "outputs": [
    {
     "data": {
      "image/svg+xml": [
       "<svg xmlns=\"http://www.w3.org/2000/svg\" xmlns:xlink=\"http://www.w3.org/1999/xlink\" width=\"100.0\" height=\"100.0\" viewBox=\"-0.08 -0.08 2.16 2.16\" preserveAspectRatio=\"xMinYMin meet\"><g transform=\"matrix(1,0,0,-1,0,2.0)\"><g><path fill-rule=\"evenodd\" fill=\"#66cc99\" stroke=\"#555555\" stroke-width=\"0.0432\" opacity=\"0.6\" d=\"M 0.0,0.0 L 0.0,1.0 L 1.0,1.0 L 1.0,0.0 L 0.0,0.0 z\" /><path fill-rule=\"evenodd\" fill=\"#66cc99\" stroke=\"#555555\" stroke-width=\"0.0432\" opacity=\"0.6\" d=\"M 1.0,1.0 L 1.0,2.0 L 2.0,2.0 L 2.0,1.0 L 1.0,1.0 z\" /></g></g></svg>"
      ],
      "text/plain": [
       "<MULTIPOLYGON (((0 0, 0 1, 1 1, 1 0, 0 0)), ((1 1, 1 2, 2 2, 2 1, 1 1)))>"
      ]
     },
     "execution_count": 14,
     "metadata": {},
     "output_type": "execute_result"
    }
   ],
   "source": [
    "polygons = [Polygon([(0, 0), (0, 1), (1, 1), (1, 0), (0, 0)]), Polygon([(1, 1), (1, 2), (2, 2), (2, 1), (1, 1)])]\n",
    "multipolygon = MultiPolygon(polygons)\n",
    "multipolygon"
   ]
  },
  {
   "cell_type": "markdown",
   "metadata": {},
   "source": [
    "## Object Properties\n",
    "\n",
    "- Shapely provides various **attributes** and **methods** that allow you to extract information from and perform operations on geometric objects. \n",
    "- In this section, we will cover some of the most commonly used properties and methods, such as `area`, `length`, `bounds`, `centroid`, and `is_valid`."
   ]
  },
  {
   "cell_type": "markdown",
   "metadata": {},
   "source": [
    "### Properties of Geometric Objects\n",
    "\n",
    "- `area`: Returns the area of a `Polygon` or `MultiPolygon` object.\n",
    "- `length`: Returns the length of a `LineString`, `MultiLineString`, or the perimeter of a `Polygon` or `MultiPolygon` object.\n",
    "- `bounds`: Returns the bounding box of a geometric object as a tuple `(min_x, min_y, max_x, max_y)`.\n",
    "- `centroid`: Returns the geometric centroid of a geometric object as a `Point`.\n",
    "- `is_valid`: Returns a boolean value indicating whether the geometry is topologically valid."
   ]
  },
  {
   "cell_type": "code",
   "execution_count": 15,
   "metadata": {
    "tags": []
   },
   "outputs": [
    {
     "data": {
      "text/plain": [
       "4.0"
      ]
     },
     "execution_count": 15,
     "metadata": {},
     "output_type": "execute_result"
    }
   ],
   "source": [
    "# Area of a Polygon\n",
    "polygon_area = polygon.area\n",
    "polygon_area"
   ]
  },
  {
   "cell_type": "code",
   "execution_count": 16,
   "metadata": {
    "tags": []
   },
   "outputs": [
    {
     "data": {
      "text/plain": [
       "0.0"
      ]
     },
     "execution_count": 16,
     "metadata": {},
     "output_type": "execute_result"
    }
   ],
   "source": [
    "# Check if points have areas\n",
    "multipoint.area"
   ]
  },
  {
   "cell_type": "code",
   "execution_count": 17,
   "metadata": {
    "tags": []
   },
   "outputs": [
    {
     "data": {
      "text/plain": [
       "3.82842712474619"
      ]
     },
     "execution_count": 17,
     "metadata": {},
     "output_type": "execute_result"
    }
   ],
   "source": [
    "# Length of a LineString\n",
    "linestring_length = linestring.length\n",
    "linestring_length"
   ]
  },
  {
   "cell_type": "code",
   "execution_count": 18,
   "metadata": {
    "tags": []
   },
   "outputs": [
    {
     "data": {
      "text/plain": [
       "0.0"
      ]
     },
     "execution_count": 18,
     "metadata": {},
     "output_type": "execute_result"
    }
   ],
   "source": [
    "# Check if points have a length\n",
    "multipoint.length"
   ]
  },
  {
   "cell_type": "code",
   "execution_count": 23,
   "metadata": {
    "tags": []
   },
   "outputs": [
    {
     "name": "stdout",
     "output_type": "stream",
     "text": [
      "Point bounds: (1.0, 2.0, 1.0, 2.0)\n",
      "Point coordinates: (1.0, 2.0)\n"
     ]
    }
   ],
   "source": [
    "# Bounds of a Point\n",
    "point_bounds = point.bounds\n",
    "print(f\"Point bounds: {point_bounds}\")\n",
    "print(f\"Point coordinates: {point.x, point.y}\")"
   ]
  },
  {
   "cell_type": "code",
   "execution_count": 24,
   "metadata": {
    "tags": []
   },
   "outputs": [
    {
     "data": {
      "image/svg+xml": [
       "<svg xmlns=\"http://www.w3.org/2000/svg\" xmlns:xlink=\"http://www.w3.org/1999/xlink\" width=\"100.0\" height=\"100.0\" viewBox=\"0.0 0.0 2.0 2.0\" preserveAspectRatio=\"xMinYMin meet\"><g transform=\"matrix(1,0,0,-1,0,2.0)\"><circle cx=\"1.0\" cy=\"1.0\" r=\"0.06\" stroke=\"#555555\" stroke-width=\"0.02\" fill=\"#66cc99\" opacity=\"0.6\" /></g></svg>"
      ],
      "text/plain": [
       "<POINT (1 1)>"
      ]
     },
     "execution_count": 24,
     "metadata": {},
     "output_type": "execute_result"
    }
   ],
   "source": [
    "# Centroid of a Polygon\n",
    "polygon_centroid = polygon.centroid\n",
    "polygon_centroid"
   ]
  },
  {
   "cell_type": "code",
   "execution_count": 25,
   "metadata": {
    "tags": []
   },
   "outputs": [
    {
     "data": {
      "text/plain": [
       "True"
      ]
     },
     "execution_count": 25,
     "metadata": {},
     "output_type": "execute_result"
    }
   ],
   "source": [
    "# Validity of a Geometry\n",
    "is_polygon_valid = polygon.is_valid\n",
    "is_polygon_valid"
   ]
  },
  {
   "cell_type": "markdown",
   "metadata": {},
   "source": [
    "### Basic Geometric Operations\n",
    "\n",
    "- Shapely provides several methods to perform basic geometric operations on objects:\n",
    "    - `union`: Computes the geometric union of two objects.\n",
    "    - `intersection`: Computes the geometric intersection of two objects.\n",
    "    - `difference`: Computes the geometric difference of two objects.\n",
    "    - `symmetric_difference`: Computes the symmetric difference of two objects (union without the intersection)."
   ]
  },
  {
   "cell_type": "code",
   "execution_count": 26,
   "metadata": {
    "tags": []
   },
   "outputs": [],
   "source": [
    "# Create two polygon objects\n",
    "polygon1 = Polygon([(0, 0), (0, 2), (2, 2), (2, 0), (0, 0)])\n",
    "polygon2 = Polygon([(1, 1), (1, 3), (3, 3), (3, 1), (1, 1)])"
   ]
  },
  {
   "cell_type": "code",
   "execution_count": 30,
   "metadata": {
    "tags": []
   },
   "outputs": [
    {
     "data": {
      "image/svg+xml": [
       "<svg xmlns=\"http://www.w3.org/2000/svg\" xmlns:xlink=\"http://www.w3.org/1999/xlink\" width=\"100.0\" height=\"100.0\" viewBox=\"-0.12 -0.12 3.24 3.24\" preserveAspectRatio=\"xMinYMin meet\"><g transform=\"matrix(1,0,0,-1,0,3.0)\"><path fill-rule=\"evenodd\" fill=\"#66cc99\" stroke=\"#555555\" stroke-width=\"0.06480000000000001\" opacity=\"0.6\" d=\"M 0.0,2.0 L 1.0,2.0 L 1.0,3.0 L 3.0,3.0 L 3.0,1.0 L 2.0,1.0 L 2.0,0.0 L 0.0,0.0 L 0.0,2.0 z\" /></g></svg>"
      ],
      "text/plain": [
       "<POLYGON ((0 2, 1 2, 1 3, 3 3, 3 1, 2 1, 2 0, 0 0, 0 2))>"
      ]
     },
     "execution_count": 30,
     "metadata": {},
     "output_type": "execute_result"
    }
   ],
   "source": [
    "# Union of two polygons\n",
    "polygon_union = polygon1.union(polygon2)\n",
    "polygon_union"
   ]
  },
  {
   "cell_type": "code",
   "execution_count": 32,
   "metadata": {
    "tags": []
   },
   "outputs": [
    {
     "data": {
      "image/svg+xml": [
       "<svg xmlns=\"http://www.w3.org/2000/svg\" xmlns:xlink=\"http://www.w3.org/1999/xlink\" width=\"100.0\" height=\"100.0\" viewBox=\"0.96 0.96 1.08 1.08\" preserveAspectRatio=\"xMinYMin meet\"><g transform=\"matrix(1,0,0,-1,0,3.0)\"><path fill-rule=\"evenodd\" fill=\"#66cc99\" stroke=\"#555555\" stroke-width=\"0.0216\" opacity=\"0.6\" d=\"M 2.0,2.0 L 2.0,1.0 L 1.0,1.0 L 1.0,2.0 L 2.0,2.0 z\" /></g></svg>"
      ],
      "text/plain": [
       "<POLYGON ((2 2, 2 1, 1 1, 1 2, 2 2))>"
      ]
     },
     "execution_count": 32,
     "metadata": {},
     "output_type": "execute_result"
    }
   ],
   "source": [
    "# Intersection of two polygons\n",
    "polygon_intersection = polygon1.intersection(polygon2)\n",
    "polygon_intersection"
   ]
  },
  {
   "cell_type": "code",
   "execution_count": 39,
   "metadata": {
    "tags": []
   },
   "outputs": [
    {
     "data": {
      "image/svg+xml": [
       "<svg xmlns=\"http://www.w3.org/2000/svg\" xmlns:xlink=\"http://www.w3.org/1999/xlink\" width=\"100.0\" height=\"100.0\" viewBox=\"-0.08 -0.08 2.16 2.16\" preserveAspectRatio=\"xMinYMin meet\"><g transform=\"matrix(1,0,0,-1,0,2.0)\"><path fill-rule=\"evenodd\" fill=\"#66cc99\" stroke=\"#555555\" stroke-width=\"0.0432\" opacity=\"0.6\" d=\"M 0.0,2.0 L 1.0,2.0 L 1.0,1.0 L 2.0,1.0 L 2.0,0.0 L 0.0,0.0 L 0.0,2.0 z\" /></g></svg>"
      ],
      "text/plain": [
       "<POLYGON ((0 2, 1 2, 1 1, 2 1, 2 0, 0 0, 0 2))>"
      ]
     },
     "execution_count": 39,
     "metadata": {},
     "output_type": "execute_result"
    }
   ],
   "source": [
    "# Difference of two polygons\n",
    "polygon_difference = polygon1.difference(polygon2)\n",
    "polygon_difference"
   ]
  },
  {
   "cell_type": "code",
   "execution_count": 40,
   "metadata": {
    "tags": []
   },
   "outputs": [
    {
     "name": "stdout",
     "output_type": "stream",
     "text": [
      "Diff bounds: (nan, nan, nan, nan)\n",
      "Diff area: 0.0\n"
     ]
    }
   ],
   "source": [
    "# How about if we differ a polygon from itself?\n",
    "polygon_diff = polygon1.difference(polygon1)\n",
    "print(f\"Diff bounds: {polygon_diff.bounds}\")\n",
    "print(f\"Diff area: {polygon_diff.area}\")"
   ]
  },
  {
   "cell_type": "code",
   "execution_count": 41,
   "metadata": {
    "tags": []
   },
   "outputs": [
    {
     "data": {
      "image/svg+xml": [
       "<svg xmlns=\"http://www.w3.org/2000/svg\" xmlns:xlink=\"http://www.w3.org/1999/xlink\" width=\"100.0\" height=\"100.0\" viewBox=\"-0.12 -0.12 3.24 3.24\" preserveAspectRatio=\"xMinYMin meet\"><g transform=\"matrix(1,0,0,-1,0,3.0)\"><g><path fill-rule=\"evenodd\" fill=\"#66cc99\" stroke=\"#555555\" stroke-width=\"0.06480000000000001\" opacity=\"0.6\" d=\"M 0.0,2.0 L 1.0,2.0 L 1.0,1.0 L 2.0,1.0 L 2.0,0.0 L 0.0,0.0 L 0.0,2.0 z\" /><path fill-rule=\"evenodd\" fill=\"#66cc99\" stroke=\"#555555\" stroke-width=\"0.06480000000000001\" opacity=\"0.6\" d=\"M 2.0,2.0 L 1.0,2.0 L 1.0,3.0 L 3.0,3.0 L 3.0,1.0 L 2.0,1.0 L 2.0,2.0 z\" /></g></g></svg>"
      ],
      "text/plain": [
       "<MULTIPOLYGON (((0 2, 1 2, 1 1, 2 1, 2 0, 0 0, 0 2)), ((2 2, 1 2, 1 3, 3 3, ...>"
      ]
     },
     "execution_count": 41,
     "metadata": {},
     "output_type": "execute_result"
    }
   ],
   "source": [
    "# Symmetric difference of two polygons\n",
    "polygon_symmetric_difference = polygon1.symmetric_difference(polygon2)\n",
    "polygon_symmetric_difference"
   ]
  },
  {
   "cell_type": "markdown",
   "metadata": {},
   "source": [
    "## Coordinate Systems and Transformations\n",
    "\n",
    "### Coordinate Systems\n",
    "\n",
    "- **A coordinate system is a way to represent the position of points in space using numerical values**. \n",
    "- In geospatial analysis, coordinate systems are crucial for accurately representing and analyzing geographic data. \n",
    "- There are two main types of coordinate systems used in geospatial analysis:\n",
    "    - `Geographic Coordinate Systems`: These systems use latitude and longitude values to describe the location of a point on the Earth's surface. \n",
    "        - The most common geographic coordinate system is the World Geodetic System 1984 (WGS 84), which is used by GPS.\n",
    "    - `Projected Coordinate Systems (PCS)`: These systems project the Earth's surface onto a flat plane, using linear units like meters or feet. \n",
    "        - Projected coordinate systems are designed to **minimize distortion in specific regions or for specific purposes, such as distance and area measurements**.\n",
    "        - The Universal Transverse Mercator (UTM) and State Plane Coordinate System (SPCS) are examples of widely used projected coordinate systems.\n",
    "\n",
    "When working with geospatial data, it's essential to be aware of the coordinate system being used and to perform necessary transformations when combining data from different coordinate systems."
   ]
  },
  {
   "cell_type": "markdown",
   "metadata": {},
   "source": [
    "### Coordinate Transformations with `Shapely` and `Pyproj`\n",
    "\n",
    "- `Shapely` itself does not provide built-in support for coordinate transformations. However, it can be used in conjunction with other libraries, such as `Pyproj`, to perform these transformations.\n",
    "- `Pyproj` is a Python library that provides access to the [PROJ](https://github.com/OSGeo/PROJ) coordinate transformation software. \n",
    "    - **It allows you to convert coordinates between different coordinate systems and perform various geodetic calculations**.\n",
    "\n",
    "In this section, we will demonstrate how to use Shapely and Pyproj together to perform a simple coordinate transformation."
   ]
  },
  {
   "cell_type": "code",
   "execution_count": 42,
   "metadata": {
    "tags": []
   },
   "outputs": [],
   "source": [
    "from pyproj import Transformer\n",
    "from shapely.ops import transform"
   ]
  },
  {
   "cell_type": "code",
   "execution_count": 43,
   "metadata": {
    "tags": []
   },
   "outputs": [],
   "source": [
    "# Define the input and output coordinate systems (EPSG codes)\n",
    "input_crs = \"EPSG:4326\"  # WGS 84 (latitude, longitude)\n",
    "output_crs = \"EPSG:32633\"  # UTM Zone 33N (meters)"
   ]
  },
  {
   "cell_type": "code",
   "execution_count": 44,
   "metadata": {
    "tags": []
   },
   "outputs": [],
   "source": [
    "# Create a Pyproj transformer object for the coordinate transformation\n",
    "transformer = Transformer.from_crs(input_crs, output_crs)"
   ]
  },
  {
   "cell_type": "code",
   "execution_count": 45,
   "metadata": {
    "tags": []
   },
   "outputs": [
    {
     "data": {
      "image/svg+xml": [
       "<svg xmlns=\"http://www.w3.org/2000/svg\" xmlns:xlink=\"http://www.w3.org/1999/xlink\" width=\"100.0\" height=\"100.0\" viewBox=\"12.481599999999998 41.8896 0.010800000000003251 0.010799999999996146\" preserveAspectRatio=\"xMinYMin meet\"><g transform=\"matrix(1,0,0,-1,0,83.78999999999999)\"><path fill-rule=\"evenodd\" fill=\"#66cc99\" stroke=\"#555555\" stroke-width=\"0.00021600000000006502\" opacity=\"0.6\" d=\"M 12.482,41.89 L 12.482,41.9 L 12.492,41.9 L 12.492,41.89 L 12.482,41.89 z\" /></g></svg>"
      ],
      "text/plain": [
       "<POLYGON ((12.482 41.89, 12.482 41.9, 12.492 41.9, 12.492 41.89, 12.482 41.89))>"
      ]
     },
     "execution_count": 45,
     "metadata": {},
     "output_type": "execute_result"
    }
   ],
   "source": [
    "# Define a Shapely geometry (polygon) in the input coordinate system (WGS 84)\n",
    "polygon_wgs84 = Polygon([\n",
    "    (12.482, 41.890),\n",
    "    (12.482, 41.900),\n",
    "    (12.492, 41.900),\n",
    "    (12.492, 41.890),\n",
    "    (12.482, 41.890)\n",
    "])\n",
    "polygon_wgs84"
   ]
  },
  {
   "cell_type": "code",
   "execution_count": 49,
   "metadata": {
    "tags": []
   },
   "outputs": [
    {
     "data": {
      "text/plain": [
       "(3524400.4453320177, 1542215.3645575552, 3525739.918396491, 1543573.8093588573)"
      ]
     },
     "execution_count": 49,
     "metadata": {},
     "output_type": "execute_result"
    }
   ],
   "source": [
    "# Perform the coordinate transformation using Shapely and Pyproj\n",
    "polygon_utm33n = transform(transformer.transform, polygon_wgs84)\n",
    "\n",
    "# Check the bounds of the transformed polygon (in meters)\n",
    "polygon_utm33n.bounds"
   ]
  },
  {
   "cell_type": "code",
   "execution_count": 50,
   "metadata": {
    "tags": []
   },
   "outputs": [
    {
     "data": {
      "text/plain": [
       "1.4950316391590341"
      ]
     },
     "execution_count": 50,
     "metadata": {},
     "output_type": "execute_result"
    }
   ],
   "source": [
    "# Because we have transformed the polygon coordinates, we can... \n",
    "# ..Calculate the area in square kilometers\n",
    "area_km2 = polygon_utm33n.area / 1e6\n",
    "area_km2"
   ]
  },
  {
   "cell_type": "markdown",
   "metadata": {},
   "source": [
    "## Spatial Relationships and Predicates\n",
    "\n",
    "- Spatial relationships describe **how geometric objects relate to one another in space**. \n",
    "- Understanding these relationships is essential for many geospatial analysis tasks. \n",
    "- `Shapely` provides several methods, known as `predicates`, to test the spatial relationships between objects. Some of the most commonly used predicates are:\n",
    "    - `equals`: Tests whether two geometric objects are geometrically equal (i.e., have the same coordinates).\n",
    "    - **`contains`**: Tests whether one geometric object contains another (i.e., the interior of the first object completely contains the second object).\n",
    "    - `crosses`: Tests whether one geometric object crosses another (i.e., the two objects intersect, but not at all points).\n",
    "    - `disjoint`: Tests whether two geometric objects are disjoint (i.e., they do not intersect).\n",
    "    - **`intersects`**: Tests whether two geometric objects intersect (i.e., they share at least one point in common).\n",
    "    - `overlaps`: Tests whether two geometric objects overlap (i.e., their interiors intersect, but neither contains the other).\n",
    "    - `touches`: Tests whether two geometric objects touch (i.e., they share points only on their boundaries).\n",
    "    - **`within`**: Tests whether one geometric object is within another (i.e., the interior of the first object is completely contained by the second object).\n",
    "\n",
    "In this section, we will demonstrate how to use these predicates in `Shapely`."
   ]
  },
  {
   "cell_type": "code",
   "execution_count": 53,
   "metadata": {
    "tags": []
   },
   "outputs": [
    {
     "name": "stdout",
     "output_type": "stream",
     "text": [
      "point1 equals point2: True\n",
      "point1 within polygon1: False\n",
      "linestring crosses polygon1: False\n",
      "polygon1 disjoint polygon2: False\n",
      "polygon1 intersects polygon2: True\n",
      "polygon1 overlaps polygon2: True\n",
      "polygon1 touches polygon2: False\n"
     ]
    }
   ],
   "source": [
    "# A bunch of points\n",
    "point1 = Point(0, 0)\n",
    "point2 = Point(0, 0)\n",
    "point3 = Point(1, 1)\n",
    "\n",
    "# One linestring (connected points)\n",
    "linestring = LineString([(0, 0), (1, 1), (2, 2)])\n",
    "\n",
    "# Two polygons\n",
    "polygon1 = Polygon([(0, 0), (0, 2), (2, 2), (2, 0), (0, 0)])\n",
    "polygon2 = Polygon([(1, 1), (1, 3), (3, 3), (3, 1), (1, 1)])\n",
    "\n",
    "# Spatial relationship predicates\n",
    "print(\"point1 equals point2:\", point1.equals(point2))\n",
    "print(\"point1 within polygon1:\", point1.within(polygon1))\n",
    "print(\"linestring crosses polygon1:\", linestring.crosses(polygon1))\n",
    "print(\"polygon1 disjoint polygon2:\", polygon1.disjoint(polygon2))\n",
    "print(\"polygon1 intersects polygon2:\", polygon1.intersects(polygon2))\n",
    "print(\"polygon1 overlaps polygon2:\", polygon1.overlaps(polygon2))\n",
    "print(\"polygon1 touches polygon2:\", polygon1.touches(polygon2))"
   ]
  },
  {
   "cell_type": "markdown",
   "metadata": {},
   "source": [
    "These examples demonstrate how to use Shapely's predicates to test spatial relationships between geometric objects. Note that some of these predicates are closely related, such as `contains` and `within`, which are the inverse of each other."
   ]
  },
  {
   "cell_type": "markdown",
   "metadata": {},
   "source": [
    "## Affine Transformations\n",
    "\n",
    "- Affine transformations are geometric transformations that preserve:\n",
    "    - Collinearity: points lying on a straight line remain on a straight line after transformation\n",
    "    - Relative ratios of distances: midpoints remain midpoints. \n",
    "- Common affine transformations include:\n",
    "    - `Scaling`: Changes the size of an object by a specified factor in the `x`, `y`, and/or `z` directions. \n",
    "        - The scaling can be uniform (same factor in all directions) or non-uniform (different factors for each direction).\n",
    "    - `Rotation`: Rotates an object around a specified point by a given angle (in degrees). \n",
    "        - The rotation can be performed in two dimensions (around a point) or three dimensions (around an axis).\n",
    "    - `Translation`: Moves an object by a given distance along the `x`, `y`, and/or `z` directions without changing its size or orientation.\n",
    "\n",
    "In this section, we will demonstrate how to perform affine transformations on Shapely geometries using the `shapely.affinity` module."
   ]
  },
  {
   "cell_type": "code",
   "execution_count": 54,
   "metadata": {
    "tags": []
   },
   "outputs": [],
   "source": [
    "from shapely import affinity"
   ]
  },
  {
   "cell_type": "code",
   "execution_count": 55,
   "metadata": {
    "tags": []
   },
   "outputs": [
    {
     "name": "stdout",
     "output_type": "stream",
     "text": [
      "Point coordinates: 1.0, 1.0\n",
      "Line coordinates: [(0.0, 0.0), (1.0, 1.0), (2.0, 2.0)]\n"
     ]
    }
   ],
   "source": [
    "# Create a point and a Linestring that contains the point\n",
    "point = Point(1, 1)\n",
    "linestring = LineString([(0, 0), (1, 1), (2, 2)])\n",
    "print(f\"Point coordinates: {point.x}, {point.y}\")\n",
    "print(f\"Line coordinates: {list(linestring.coords)}\")"
   ]
  },
  {
   "cell_type": "code",
   "execution_count": 57,
   "metadata": {
    "tags": []
   },
   "outputs": [
    {
     "name": "stdout",
     "output_type": "stream",
     "text": [
      "Scaled point coordinates: 1.0, 1.0\n",
      "Scaled line coordinates: [(-1.0, -1.0), (1.0, 1.0), (3.0, 3.0)]\n"
     ]
    }
   ],
   "source": [
    "# Scaling\n",
    "scaled_point = affinity.scale(point, xfact=2, yfact=2)\n",
    "scaled_linestring = affinity.scale(linestring, xfact=2, yfact=2)\n",
    "\n",
    "print(f\"Scaled point coordinates: {scaled_point.x}, {scaled_point.y}\")\n",
    "print(f\"Scaled line coordinates: {list(scaled_linestring.coords)}\")"
   ]
  },
  {
   "cell_type": "code",
   "execution_count": 58,
   "metadata": {
    "tags": []
   },
   "outputs": [
    {
     "name": "stdout",
     "output_type": "stream",
     "text": [
      "Rotated point coordinates: 1.1102230246251565e-16, 1.414213562373095\n",
      "Rotated line coordinates: [(0.0, 0.0), (1.1102230246251565e-16, 1.414213562373095), (2.220446049250313e-16, 2.82842712474619)]\n"
     ]
    }
   ],
   "source": [
    "# Rotation\n",
    "rotated_point = affinity.rotate(point, angle=45, origin=(0, 0))\n",
    "rotated_linestring = affinity.rotate(linestring, angle=45, origin=(0, 0))\n",
    "\n",
    "print(f\"Rotated point coordinates: {rotated_point.x}, {rotated_point.y}\")\n",
    "print(f\"Rotated line coordinates: {list(rotated_linestring.coords)}\")"
   ]
  },
  {
   "cell_type": "code",
   "execution_count": 59,
   "metadata": {
    "tags": []
   },
   "outputs": [
    {
     "name": "stdout",
     "output_type": "stream",
     "text": [
      "Translated point coordinates: 2.0, 2.0\n",
      "Translated line coordinates: [(1.0, 1.0), (2.0, 2.0), (3.0, 3.0)]\n"
     ]
    }
   ],
   "source": [
    "# Translation\n",
    "translated_point = affinity.translate(point, xoff=1, yoff=1)\n",
    "translated_linestring = affinity.translate(linestring, xoff=1, yoff=1)\n",
    "\n",
    "print(f\"Translated point coordinates: {translated_point.x}, {translated_point.y}\")\n",
    "print(f\"Translated line coordinates: {list(translated_linestring.coords)}\")"
   ]
  },
  {
   "cell_type": "markdown",
   "metadata": {},
   "source": [
    "- In these examples, we performed scaling, rotation, and translation on a `Point` and a `LineString` using the `shapely.affinity` module. \n",
    "- Note: for each transformation, we specified the necessary parameters, such as scaling factors, rotation angle, translation distances, and the origin of the transformation (when applicable)."
   ]
  },
  {
   "cell_type": "markdown",
   "metadata": {},
   "source": [
    "## Simplifying and Buffering Geometries"
   ]
  },
  {
   "cell_type": "markdown",
   "metadata": {},
   "source": [
    "### Simplifying Geometries\n",
    "\n",
    "- Simplifying geometries is a process of **reducing the number of vertices in a geometry while maintaining its overall shape**. \n",
    "- This can be useful for reducing the complexity and size of geospatial data, making it more manageable for analysis and visualization purposes.\n",
    "\n",
    "Shapely provides the `simplify()` method to simplify geometries using the Douglas-Peucker algorithm."
   ]
  },
  {
   "cell_type": "markdown",
   "metadata": {},
   "source": [
    "### Buffering Geometries\n",
    "\n",
    "- Buffering is the process of creating a new geometry that represents an area at a specified distance around an existing geometry. \n",
    "    - This can be useful for tasks such as **proximity analysis**, where you need to identify features within a certain distance of other features.\n",
    "- In Shapely, you can create buffers around geometries using the `buffer()` method.\n",
    "\n",
    "Let's write some code for both `simplify()` and `buffer()`:"
   ]
  },
  {
   "cell_type": "code",
   "execution_count": 60,
   "metadata": {
    "tags": []
   },
   "outputs": [
    {
     "data": {
      "image/svg+xml": [
       "<svg xmlns=\"http://www.w3.org/2000/svg\" xmlns:xlink=\"http://www.w3.org/1999/xlink\" width=\"100.0\" height=\"100.0\" viewBox=\"-0.16 -0.16 4.32 1.3199999999999998\" preserveAspectRatio=\"xMinYMin meet\"><g transform=\"matrix(1,0,0,-1,0,0.9999999999999999)\"><polyline fill=\"none\" stroke=\"#66cc99\" stroke-width=\"0.0864\" points=\"0.0,0.0 1.0,1.0 2.0,0.0 3.0,1.0 4.0,0.0\" opacity=\"0.8\" /></g></svg>"
      ],
      "text/plain": [
       "<LINESTRING (0 0, 1 1, 2 0, 3 1, 4 0)>"
      ]
     },
     "execution_count": 60,
     "metadata": {},
     "output_type": "execute_result"
    }
   ],
   "source": [
    "# Original geometry\n",
    "linestring = LineString([(0, 0), (1, 1), (2, 0), (3, 1), (4, 0)])\n",
    "linestring"
   ]
  },
  {
   "cell_type": "code",
   "execution_count": 62,
   "metadata": {
    "tags": []
   },
   "outputs": [
    {
     "data": {
      "image/svg+xml": [
       "<svg xmlns=\"http://www.w3.org/2000/svg\" xmlns:xlink=\"http://www.w3.org/1999/xlink\" width=\"100.0\" height=\"100.0\" viewBox=\"-0.7 -0.7 5.4 2.4\" preserveAspectRatio=\"xMinYMin meet\"><g transform=\"matrix(1,0,0,-1,0,1.0)\"><path fill-rule=\"evenodd\" fill=\"#66cc99\" stroke=\"#555555\" stroke-width=\"0.10800000000000001\" opacity=\"0.6\" d=\"M 0.6464466094067263,1.3535533905932737 L 0.6828033579181774,1.3865052266813684 L 0.722214883490199,1.4157348061512727 L 0.7643016315870012,1.4409606321741775 L 0.8086582838174552,1.4619397662556435 L 0.8548576613727689,1.4784701678661045 L 0.9024548389919359,1.4903926402016152 L 0.9509914298352197,1.4975923633360986 L 1.0,1.5 L 1.0490085701647804,1.4975923633360984 L 1.0975451610080642,1.4903926402016152 L 1.145142338627231,1.4784701678661045 L 1.1913417161825448,1.4619397662556435 L 1.235698368412999,1.4409606321741775 L 1.277785116509801,1.4157348061512725 L 1.3171966420818229,1.3865052266813684 L 1.3535533905932737,1.3535533905932737 L 2.0,0.7071067811865476 L 2.646446609406726,1.3535533905932737 L 2.682803357918177,1.3865052266813684 L 2.722214883490199,1.4157348061512725 L 2.764301631587001,1.4409606321741775 L 2.808658283817455,1.4619397662556435 L 2.854857661372769,1.4784701678661043 L 2.902454838991936,1.4903926402016152 L 2.9509914298352196,1.4975923633360986 L 3.0,1.5 L 3.0490085701647804,1.4975923633360984 L 3.0975451610080644,1.4903926402016152 L 3.145142338627231,1.4784701678661043 L 3.191341716182545,1.4619397662556433 L 3.235698368412999,1.4409606321741775 L 3.277785116509801,1.4157348061512725 L 3.317196642081823,1.3865052266813684 L 3.353553390593274,1.3535533905932737 L 4.353553390593274,0.35355339059327373 L 4.386505226681368,0.31719664208182274 L 4.4157348061512725,0.2777851165098011 L 4.4409606321741775,0.23569836841299882 L 4.461939766255643,0.1913417161825449 L 4.478470167866105,0.14514233862723117 L 4.490392640201615,0.09754516100806412 L 4.497592363336098,0.0490085701647803 L 4.5,0.0 L 4.497592363336098,-0.0490085701647803 L 4.490392640201615,-0.09754516100806412 L 4.478470167866105,-0.14514233862723114 L 4.461939766255643,-0.1913417161825449 L 4.4409606321741775,-0.23569836841299888 L 4.4157348061512725,-0.2777851165098011 L 4.386505226681368,-0.3171966420818227 L 4.353553390593274,-0.35355339059327373 L 4.317196642081822,-0.3865052266813685 L 4.2777851165098015,-0.41573480615127256 L 4.235698368412999,-0.44096063217417747 L 4.191341716182545,-0.46193976625564337 L 4.145142338627231,-0.47847016786610447 L 4.097545161008064,-0.4903926402016152 L 4.04900857016478,-0.4975923633360984 L 4.0,-0.5 L 3.9509914298352196,-0.49759236333609846 L 3.902454838991936,-0.4903926402016152 L 3.854857661372769,-0.47847016786610447 L 3.808658283817455,-0.46193976625564337 L 3.764301631587001,-0.4409606321741775 L 3.722214883490199,-0.41573480615127273 L 3.6828033579181776,-0.38650522668136855 L 3.646446609406726,-0.35355339059327373 L 3.0,0.2928932188134523 L 2.353553390593274,-0.35355339059327373 L 2.317196642081823,-0.38650522668136833 L 2.277785116509801,-0.4157348061512725 L 2.235698368412999,-0.44096063217417747 L 2.191341716182545,-0.4619397662556433 L 2.1451423386272315,-0.47847016786610436 L 2.0975451610080644,-0.4903926402016152 L 2.0490085701647804,-0.4975923633360984 L 2.0,-0.5 L 1.9509914298352198,-0.49759236333609846 L 1.902454838991936,-0.49039264020161527 L 1.854857661372769,-0.47847016786610447 L 1.8086582838174552,-0.46193976625564337 L 1.764301631587001,-0.4409606321741775 L 1.722214883490199,-0.41573480615127256 L 1.6828033579181774,-0.38650522668136855 L 1.6464466094067263,-0.35355339059327373 L 1.0,0.29289321881345254 L 0.35355339059327373,-0.35355339059327373 L 0.3171966420818228,-0.38650522668136844 L 0.27778511650980114,-0.41573480615127256 L 0.2356983684129989,-0.44096063217417747 L 0.19134171618254492,-0.46193976625564337 L 0.14514233862723114,-0.47847016786610447 L 0.09754516100806415,-0.4903926402016152 L 0.049008570164780385,-0.4975923633360984 L 3.061616997868383e-17,-0.5 L -0.04900857016478033,-0.49759236333609846 L -0.0975451610080641,-0.4903926402016152 L -0.1451423386272311,-0.47847016786610447 L -0.19134171618254486,-0.46193976625564337 L -0.23569836841299885,-0.4409606321741775 L -0.277785116509801,-0.41573480615127273 L -0.31719664208182263,-0.38650522668136855 L -0.35355339059327373,-0.3535533905932738 L -0.3865052266813685,-0.31719664208182274 L -0.4157348061512727,-0.2777851165098011 L -0.44096063217417747,-0.2356983684129989 L -0.46193976625564337,-0.19134171618254492 L -0.4784701678661044,-0.14514233862723117 L -0.4903926402016152,-0.09754516100806429 L -0.4975923633360984,-0.04900857016478042 L -0.5,-6.123233995736766e-17 L -0.49759236333609846,0.049008570164780295 L -0.4903926402016152,0.09754516100806418 L -0.47847016786610447,0.14514233862723108 L -0.46193976625564337,0.19134171618254484 L -0.4409606321741775,0.23569836841299882 L -0.41573480615127273,0.277785116509801 L -0.38650522668136855,0.31719664208182263 L -0.35355339059327373,0.35355339059327373 L 0.6464466094067263,1.3535533905932737 z\" /></g></svg>"
      ],
      "text/plain": [
       "<POLYGON ((0.646 1.354, 0.683 1.387, 0.722 1.416, 0.764 1.441, 0.809 1.462, ...>"
      ]
     },
     "execution_count": 62,
     "metadata": {},
     "output_type": "execute_result"
    }
   ],
   "source": [
    "# Buffer the original geometry\n",
    "buffer_distance = 0.5\n",
    "buffered_linestring = linestring.buffer(buffer_distance)\n",
    "buffered_linestring"
   ]
  },
  {
   "cell_type": "code",
   "execution_count": 70,
   "metadata": {
    "tags": []
   },
   "outputs": [
    {
     "data": {
      "image/svg+xml": [
       "<svg xmlns=\"http://www.w3.org/2000/svg\" xmlns:xlink=\"http://www.w3.org/1999/xlink\" width=\"100.0\" height=\"100.0\" viewBox=\"-0.4236038937997445 -0.6854978887228441 5.073449185442133 2.335343180365233\" preserveAspectRatio=\"xMinYMin meet\"><g transform=\"matrix(1,0,0,-1,0,0.9643474029195448)\"><path fill-rule=\"evenodd\" fill=\"#66cc99\" stroke=\"#555555\" stroke-width=\"0.10146898370884266\" opacity=\"0.6\" d=\"M 0.6464466094067263,1.3535533905932737 L 2.0,0.7071067811865476 L 3.191341716182545,1.4619397662556433 L 4.461939766255643,-0.1913417161825449 L 3.0,0.2928932188134523 L 1.9509914298352198,-0.49759236333609846 L 1.0,0.29289321881345254 L -0.23569836841299885,-0.4409606321741775 L 0.6464466094067263,1.3535533905932737 z\" /></g></svg>"
      ],
      "text/plain": [
       "<POLYGON ((0.646 1.354, 2 0.707, 3.191 1.462, 4.462 -0.191, 3 0.293, 1.951 -...>"
      ]
     },
     "execution_count": 70,
     "metadata": {},
     "output_type": "execute_result"
    }
   ],
   "source": [
    "# Simplify the buffer geometry\n",
    "tolerance = .5\n",
    "simplified_linestring = buffered_linestring.simplify(tolerance)\n",
    "simplified_linestring"
   ]
  },
  {
   "cell_type": "markdown",
   "metadata": {},
   "source": [
    "## Examples\n",
    "\n",
    "- In this section, we will explore a few examples that apply the concepts and techniques covered in this notebook. \n",
    "- These examples will demonstrate how Shapely can be used for various geospatial analysis tasks."
   ]
  },
  {
   "cell_type": "markdown",
   "metadata": {},
   "source": [
    "### Example 1: Point-in-Polygon Analysis\n",
    "\n",
    "Suppose we have a dataset of points representing the locations of schools in a city and a dataset of polygons representing different administrative zones. We want to determine which schools are located within each administrative zone."
   ]
  },
  {
   "cell_type": "markdown",
   "metadata": {},
   "source": [
    "#### Step 1: Create Shapely geometries for schools and administrative zones\n",
    "\n",
    "In this example, we will create a few sample geometries for demonstration purposes. In practice, you would typically read the data from a file (e.g., using GeoPandas)."
   ]
  },
  {
   "cell_type": "code",
   "execution_count": 81,
   "metadata": {
    "tags": []
   },
   "outputs": [],
   "source": [
    "# Create sample school geometries (points)\n",
    "school1 = Point(1, 1)\n",
    "school2 = Point(3, 3)\n",
    "school3 = Point(5, 5)\n",
    "\n",
    "# Create sample administrative zone geometries (polygons)\n",
    "zone1 = Polygon([(0, 0), (0, 4), (4, 4), (4, 0), (0, 0)])\n",
    "zone2 = Polygon([(4, 0), (4, 4), (8, 4), (8, 0), (4, 0)])"
   ]
  },
  {
   "cell_type": "code",
   "execution_count": 82,
   "metadata": {
    "tags": []
   },
   "outputs": [
    {
     "data": {
      "image/svg+xml": [
       "<svg xmlns=\"http://www.w3.org/2000/svg\" xmlns:xlink=\"http://www.w3.org/1999/xlink\" width=\"100.0\" height=\"100.0\" viewBox=\"0.84 0.84 4.32 4.32\" preserveAspectRatio=\"xMinYMin meet\"><g transform=\"matrix(1,0,0,-1,0,6.0)\"><g><circle cx=\"1.0\" cy=\"1.0\" r=\"0.1296\" stroke=\"#555555\" stroke-width=\"0.0432\" fill=\"#66cc99\" opacity=\"0.6\" /><circle cx=\"3.0\" cy=\"3.0\" r=\"0.1296\" stroke=\"#555555\" stroke-width=\"0.0432\" fill=\"#66cc99\" opacity=\"0.6\" /><circle cx=\"5.0\" cy=\"5.0\" r=\"0.1296\" stroke=\"#555555\" stroke-width=\"0.0432\" fill=\"#66cc99\" opacity=\"0.6\" /></g></g></svg>"
      ],
      "text/plain": [
       "<MULTIPOINT (1 1, 3 3, 5 5)>"
      ]
     },
     "execution_count": 82,
     "metadata": {},
     "output_type": "execute_result"
    }
   ],
   "source": [
    "# Visualize the points\n",
    "MultiPoint([school1, school2, school3])"
   ]
  },
  {
   "cell_type": "code",
   "execution_count": 83,
   "metadata": {
    "tags": []
   },
   "outputs": [
    {
     "data": {
      "image/svg+xml": [
       "<svg xmlns=\"http://www.w3.org/2000/svg\" xmlns:xlink=\"http://www.w3.org/1999/xlink\" width=\"100.0\" height=\"100.0\" viewBox=\"-0.32 -0.32 8.64 4.640000000000001\" preserveAspectRatio=\"xMinYMin meet\"><g transform=\"matrix(1,0,0,-1,0,4.0)\"><g><path fill-rule=\"evenodd\" fill=\"#ff3333\" stroke=\"#555555\" stroke-width=\"0.1728\" opacity=\"0.6\" d=\"M 0.0,0.0 L 0.0,4.0 L 4.0,4.0 L 4.0,0.0 L 0.0,0.0 z\" /><path fill-rule=\"evenodd\" fill=\"#ff3333\" stroke=\"#555555\" stroke-width=\"0.1728\" opacity=\"0.6\" d=\"M 4.0,0.0 L 4.0,4.0 L 8.0,4.0 L 8.0,0.0 L 4.0,0.0 z\" /></g></g></svg>"
      ],
      "text/plain": [
       "<MULTIPOLYGON (((0 0, 0 4, 4 4, 4 0, 0 0)), ((4 0, 4 4, 8 4, 8 0, 4 0)))>"
      ]
     },
     "execution_count": 83,
     "metadata": {},
     "output_type": "execute_result"
    }
   ],
   "source": [
    "# Visualize the zones\n",
    "MultiPolygon([zone1, zone2])"
   ]
  },
  {
   "cell_type": "markdown",
   "metadata": {},
   "source": [
    "#### Step 2: Perform the point-in-polygon analysis\n",
    "\n",
    "Now that we have the school and administrative zone geometries, we can use Shapely's within predicate to determine which schools are located within each zone."
   ]
  },
  {
   "cell_type": "code",
   "execution_count": 84,
   "metadata": {
    "tags": []
   },
   "outputs": [
    {
     "data": {
      "text/plain": [
       "(True, False, True, False, False, False)"
      ]
     },
     "execution_count": 84,
     "metadata": {},
     "output_type": "execute_result"
    }
   ],
   "source": [
    "# Check if each school is within a zone\n",
    "school1_in_zone1 = school1.within(zone1)\n",
    "school1_in_zone2 = school1.within(zone2)\n",
    "\n",
    "school2_in_zone1 = school2.within(zone1)\n",
    "school2_in_zone2 = school2.within(zone2)\n",
    "\n",
    "school3_in_zone1 = school3.within(zone1)\n",
    "school3_in_zone2 = school3.within(zone2)\n",
    "\n",
    "school1_in_zone1, school1_in_zone2, school2_in_zone1, school2_in_zone2, school3_in_zone1, school3_in_zone2"
   ]
  },
  {
   "cell_type": "markdown",
   "metadata": {},
   "source": [
    "### Example 2: Buffer Analysis for Proximity\n",
    "\n",
    "- Suppose we have a dataset of points representing the locations of parks in a city. \n",
    "- We want to create a 500-meter buffer around each park and then determine if a given location is within walking distance to any park (i.e., within the buffer)."
   ]
  },
  {
   "cell_type": "markdown",
   "metadata": {},
   "source": [
    "#### Step 1: Create Shapely geometries for parks and the location\n",
    "\n",
    "In this example, we will create a few sample park geometries and a location geometry for demonstration purposes. In practice, you would typically read the data from a file (e.g., using GeoPandas)."
   ]
  },
  {
   "cell_type": "code",
   "execution_count": 111,
   "metadata": {
    "tags": []
   },
   "outputs": [],
   "source": [
    "# Create sample park geometries (points)\n",
    "park1 = Point(2.98, 2.98)\n",
    "park2 = Point(3.1, 3.1)\n",
    "\n",
    "# Create the location geometry (point)\n",
    "location = Point(3, 3)"
   ]
  },
  {
   "cell_type": "markdown",
   "metadata": {},
   "source": [
    "#### Step 2: Create buffers around the parks\n",
    "\n",
    "We will create 500-meter buffers around each park using the buffer() method. Note that in this example, we assume that the coordinates are in a geographic coordinate system (e.g., WGS 84), so we will need to convert the buffer distance to decimal degrees. \n",
    "\n",
    "In practice, it is usually better to work with a projected coordinate system for such analysis."
   ]
  },
  {
   "cell_type": "code",
   "execution_count": 112,
   "metadata": {
    "tags": []
   },
   "outputs": [
    {
     "data": {
      "image/svg+xml": [
       "<svg xmlns=\"http://www.w3.org/2000/svg\" xmlns:xlink=\"http://www.w3.org/1999/xlink\" width=\"100.0\" height=\"100.0\" viewBox=\"2.9266121955389197 2.9266121955389197 0.22677560892216064 0.22677560892216064\" preserveAspectRatio=\"xMinYMin meet\"><g transform=\"matrix(1,0,0,-1,0,6.08)\"><g><path fill-rule=\"evenodd\" fill=\"#66cc99\" stroke=\"#555555\" stroke-width=\"0.004535512178443213\" opacity=\"0.6\" d=\"M 3.0249887078343334,2.98 L 3.0247720749094467,2.9755903355109563 L 3.024124262428276,2.9712231385015104 L 3.0230515091791452,2.966940467466215 L 3.021564146362271,2.962783566868287 L 3.019676498094654,2.958792469932877 L 3.017406743461006,2.9550056131052287 L 3.014776741439222,2.9514594658866984 L 3.0118118203864777,2.9481881796135223 L 3.0085405341133016,2.945223258560778 L 3.0049943868947713,2.942593256538994 L 3.001207530067123,2.940323501905346 L 2.997216433131713,2.938435853637729 L 2.9930595325337848,2.9369484908208547 L 2.9887768614984895,2.935875737571724 L 2.9844096644890437,2.9352279250905533 L 2.98,2.9350112921656666 L 2.9755903355109563,2.9352279250905533 L 2.9712231385015104,2.935875737571724 L 2.966940467466215,2.9369484908208547 L 2.962783566868287,2.938435853637729 L 2.958792469932877,2.940323501905346 L 2.9550056131052287,2.942593256538994 L 2.9514594658866984,2.945223258560778 L 2.9481881796135223,2.9481881796135223 L 2.945223258560778,2.9514594658866984 L 2.942593256538994,2.9550056131052287 L 2.940323501905346,2.958792469932877 L 2.938435853637729,2.962783566868287 L 2.9369484908208547,2.966940467466215 L 2.935875737571724,2.9712231385015104 L 2.9352279250905533,2.9755903355109563 L 2.9350112921656666,2.98 L 2.9352279250905533,2.9844096644890437 L 2.935875737571724,2.9887768614984895 L 2.9369484908208547,2.9930595325337848 L 2.938435853637729,2.997216433131713 L 2.940323501905346,3.001207530067123 L 2.942593256538994,3.0049943868947713 L 2.945223258560778,3.0085405341133016 L 2.9481881796135223,3.0118118203864777 L 2.9514594658866984,3.014776741439222 L 2.9550056131052287,3.017406743461006 L 2.958792469932877,3.019676498094654 L 2.962783566868287,3.021564146362271 L 2.966940467466215,3.0230515091791452 L 2.9712231385015104,3.024124262428276 L 2.9755903355109563,3.0247720749094467 L 2.98,3.0249887078343334 L 2.9844096644890437,3.0247720749094467 L 2.9887768614984895,3.024124262428276 L 2.9930595325337848,3.0230515091791452 L 2.997216433131713,3.021564146362271 L 3.001207530067123,3.019676498094654 L 3.0049943868947713,3.017406743461006 L 3.0085405341133016,3.014776741439222 L 3.0118118203864777,3.0118118203864777 L 3.014776741439222,3.0085405341133016 L 3.017406743461006,3.0049943868947713 L 3.019676498094654,3.001207530067123 L 3.021564146362271,2.997216433131713 L 3.0230515091791452,2.9930595325337848 L 3.024124262428276,2.9887768614984895 L 3.0247720749094467,2.9844096644890437 L 3.0249887078343334,2.98 z\" /><path fill-rule=\"evenodd\" fill=\"#66cc99\" stroke=\"#555555\" stroke-width=\"0.004535512178443213\" opacity=\"0.6\" d=\"M 3.1449887078343335,3.1 L 3.1447720749094468,3.0955903355109564 L 3.144124262428276,3.0912231385015105 L 3.1430515091791453,3.0869404674662153 L 3.141564146362271,3.082783566868287 L 3.139676498094654,3.078792469932877 L 3.137406743461006,3.075005613105229 L 3.134776741439222,3.0714594658866985 L 3.1318118203864778,3.0681881796135224 L 3.1285405341133017,3.065223258560778 L 3.1249943868947714,3.062593256538994 L 3.121207530067123,3.060323501905346 L 3.117216433131713,3.058435853637729 L 3.113059532533785,3.056948490820855 L 3.1087768614984896,3.055875737571724 L 3.1044096644890438,3.0552279250905534 L 3.1,3.0550112921656667 L 3.0955903355109564,3.0552279250905534 L 3.0912231385015105,3.055875737571724 L 3.0869404674662153,3.056948490820855 L 3.082783566868287,3.058435853637729 L 3.078792469932877,3.060323501905346 L 3.075005613105229,3.062593256538994 L 3.0714594658866985,3.065223258560778 L 3.0681881796135224,3.0681881796135224 L 3.065223258560778,3.0714594658866985 L 3.062593256538994,3.075005613105229 L 3.060323501905346,3.078792469932877 L 3.058435853637729,3.082783566868287 L 3.056948490820855,3.0869404674662153 L 3.055875737571724,3.0912231385015105 L 3.0552279250905534,3.0955903355109564 L 3.0550112921656667,3.1 L 3.0552279250905534,3.1044096644890438 L 3.055875737571724,3.1087768614984896 L 3.056948490820855,3.113059532533785 L 3.058435853637729,3.117216433131713 L 3.060323501905346,3.121207530067123 L 3.062593256538994,3.1249943868947714 L 3.065223258560778,3.1285405341133017 L 3.0681881796135224,3.1318118203864778 L 3.0714594658866985,3.134776741439222 L 3.075005613105229,3.137406743461006 L 3.078792469932877,3.139676498094654 L 3.082783566868287,3.141564146362271 L 3.0869404674662153,3.1430515091791453 L 3.0912231385015105,3.144124262428276 L 3.0955903355109564,3.1447720749094468 L 3.1,3.1449887078343335 L 3.1044096644890438,3.1447720749094468 L 3.1087768614984896,3.144124262428276 L 3.113059532533785,3.1430515091791453 L 3.117216433131713,3.141564146362271 L 3.121207530067123,3.139676498094654 L 3.1249943868947714,3.137406743461006 L 3.1285405341133017,3.134776741439222 L 3.1318118203864778,3.1318118203864778 L 3.134776741439222,3.1285405341133017 L 3.137406743461006,3.1249943868947714 L 3.139676498094654,3.121207530067123 L 3.141564146362271,3.117216433131713 L 3.1430515091791453,3.113059532533785 L 3.144124262428276,3.1087768614984896 L 3.1447720749094468,3.1044096644890438 L 3.1449887078343335,3.1 z\" /></g></g></svg>"
      ],
      "text/plain": [
       "<MULTIPOLYGON (((3.025 2.98, 3.025 2.976, 3.024 2.971, 3.023 2.967, 3.022 2....>"
      ]
     },
     "execution_count": 112,
     "metadata": {},
     "output_type": "execute_result"
    }
   ],
   "source": [
    "# Buffer distance in meters\n",
    "buffer_distance_meters = 5_000\n",
    "\n",
    "# Approximate conversion factor from meters to decimal degrees (assuming coordinates are in WGS 84)\n",
    "meters_to_degrees = 1 / 111139\n",
    "\n",
    "# Calculate buffer distance in decimal degrees\n",
    "buffer_distance_degrees = buffer_distance_meters * meters_to_degrees\n",
    "\n",
    "# Create buffers around the parks\n",
    "park1_buffer = park1.buffer(buffer_distance_degrees)\n",
    "park2_buffer = park2.buffer(buffer_distance_degrees)\n",
    "MultiPolygon([park1_buffer, park2_buffer])"
   ]
  },
  {
   "cell_type": "markdown",
   "metadata": {},
   "source": [
    "#### Step 3: Determine if the location is within walking distance to any park\n",
    "\n",
    "Now that we have the park buffers, we can use Shapely's within predicate to determine if the location is within walking distance to any park (i.e., within the buffer)."
   ]
  },
  {
   "cell_type": "code",
   "execution_count": 113,
   "metadata": {
    "tags": []
   },
   "outputs": [
    {
     "data": {
      "text/plain": [
       "(True, False)"
      ]
     },
     "execution_count": 113,
     "metadata": {},
     "output_type": "execute_result"
    }
   ],
   "source": [
    "# Check if the location is within walking distance to any park\n",
    "location_within_park1_buffer = location.within(park1_buffer)\n",
    "location_within_park2_buffer = location.within(park2_buffer)\n",
    "location_within_park1_buffer, location_within_park2_buffer"
   ]
  },
  {
   "cell_type": "markdown",
   "metadata": {},
   "source": [
    "These practical examples demonstrate how Shapely can be used for various geospatial analysis tasks, such as point-in-polygon analysis and buffer analysis for proximity. By combining Shapely with other geospatial libraries (e.g., GeoPandas, Pyproj, and Rasterio), you can perform a wide range of geospatial operations in Python."
   ]
  },
  {
   "cell_type": "markdown",
   "metadata": {},
   "source": [
    "## Additional Resources and Further Reading\n",
    "\n",
    "To deepen your understanding of Shapely and learn more about geospatial analysis in Python, we recommend exploring the following resources:\n",
    "\n",
    "- [Shapely Documentation](https://shapely.readthedocs.io/en/stable/manual.html): The official documentation provides comprehensive information on Shapely's functionalities, methods, and classes. It is a great reference for understanding the library in-depth.\n",
    "- [GeoPandas Documentation](https://geopandas.org/en/stable/): GeoPandas extends the capabilities of Shapely for managing and analyzing geospatial data in a more convenient and powerful way. GeoPandas is built on top of Shapely and Pandas, and it provides a high-level interface for working with geospatial data in Python.\n",
    "- [Automating GIS-processes Course](https://autogis-site.readthedocs.io/en/latest/): A comprehensive open-source course that covers various aspects of geospatial analysis using Python, including Shapely, GeoPandas, and other geospatial libraries.\n",
    "- [Geospatial Data with Python](https://macwright.com/2012/10/31/gis-with-python-shapely-fiona.html): Shapely and Fiona: A tutorial that introduces Shapely and Fiona, focusing on working with vector data in Python.\n",
    "- [CRS Catalog](https://epsg.io/): lookup suitable CRS codes by location or locations by CRS codes.\n",
    "\n",
    "These resources will help you gain a deeper understanding of Shapely and geospatial analysis in Python, as well as provide practical examples and use cases to work through. Happy learning!\n",
    "\n",
    "---"
   ]
  }
 ],
 "metadata": {
  "celltoolbar": "Nbtutor - export exercises",
  "kernelspec": {
   "display_name": "Python 3 (ipykernel)",
   "language": "python",
   "name": "python3"
  },
  "language_info": {
   "codemirror_mode": {
    "name": "ipython",
    "version": 3
   },
   "file_extension": ".py",
   "mimetype": "text/x-python",
   "name": "python",
   "nbconvert_exporter": "python",
   "pygments_lexer": "ipython3",
   "version": "3.10.10"
  },
  "widgets": {
   "application/vnd.jupyter.widget-state+json": {
    "state": {},
    "version_major": 2,
    "version_minor": 0
   }
  }
 },
 "nbformat": 4,
 "nbformat_minor": 4
}
