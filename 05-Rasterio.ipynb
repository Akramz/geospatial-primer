{
 "cells": [
  {
   "cell_type": "markdown",
   "id": "d1cb845c-8da3-404b-8c89-45ed43681718",
   "metadata": {},
   "source": [
    "# `Rasterio`: Reading, Writing, and Processing raster data\n",
    "\n",
    "We will cover the following:\n",
    "\n",
    "1. **Introduction**\n",
    "    - What is Rasterio?\n",
    "    - Role of Rasterio in geospatial analysis\n",
    "    - Installation instructions\n",
    "2. **Raster Data Basics**\n",
    "    - Introduction to raster data\n",
    "    - Raster data formats\n",
    "    - Raster bands\n",
    "3. **Reading Raster Data with Rasterio**\n",
    "    - Opening raster files\n",
    "    - Inspecting raster properties (metadata)\n",
    "    - Reading raster bands\n",
    "4. **Coordinate Reference Systems and Transformations**\n",
    "    - Coordinate systems in Rasterio\n",
    "    - Georeferencing raster data\n",
    "    - Transforming raster coordinates\n",
    "5. **Raster Data Visualization**\n",
    "    - Visualizing raster data using Matplotlib\n",
    "    - Adding basemaps for convenience.\n",
    "6. **Raster Operations**\n",
    "    - Cropping raster data\n",
    "    - Resampling raster data\n",
    "    - Raster masking and filtering\n",
    "7. **Raster Data Analysis**\n",
    "    - Raster data statistics\n",
    "    - Raster algebra\n",
    "    - Zonal statistics (optional)\n",
    "8. **Writing Raster Data**\n",
    "    - Creating a new raster file\n",
    "    - Writing raster data to a file\n",
    "9. **Additional Resources and Further Reading**\n",
    "    - Links to Rasterio documentation, tutorials, and other resources"
   ]
  },
  {
   "cell_type": "code",
   "execution_count": null,
   "id": "aaf79d49-40fa-4064-b370-98ae814a105f",
   "metadata": {
    "tags": []
   },
   "outputs": [],
   "source": [
    "from IPython.core.debugger import set_trace\n",
    "from pathlib import Path\n",
    "import numpy as np \n",
    "import pandas as pd\n",
    "import geopandas as gpd\n",
    "import matplotlib.pyplot as plt\n",
    "from shapely.geometry import box, Point\n",
    "from shapely.ops import transform as sh_transform\n",
    "import rasterio as rio\n",
    "from rasterio.warp import transform\n",
    "from rasterio.mask import mask as rio_mask\n",
    "from rasterio.enums import Resampling\n",
    "from rasterio.plot import plotting_extent\n",
    "from rasterstats import zonal_stats\n",
    "import contextily as ctx\n",
    "ctx.set_cache_dir(\"/Users/akramz/.cache/\")"
   ]
  },
  {
   "cell_type": "code",
   "execution_count": null,
   "id": "9e1b5b8b-44a5-419b-9b83-29a404c15094",
   "metadata": {
    "tags": []
   },
   "outputs": [],
   "source": [
    "# Set the data store\n",
    "store = Path(\"./data/raster/\")\n",
    "assert store.exists()"
   ]
  },
  {
   "cell_type": "markdown",
   "id": "89d6d6ee-8ebf-4408-87d9-ea5f0e0aa113",
   "metadata": {},
   "source": [
    "## Introduction"
   ]
  },
  {
   "cell_type": "markdown",
   "id": "a4dadc5d-96a0-4160-894f-1e5edf7adcf5",
   "metadata": {
    "tags": []
   },
   "source": [
    "### What is Rasterio?\n",
    "\n",
    "- `Rasterio` is a Python library that provides a simple and efficient way to work with geospatial raster data. \n",
    "- It simplifies the process of reading, writing, and performing various operations on raster data, such as satellite imagery, digital elevation models, and aerial photographs. \n",
    "- **Rasterio is built on top of the Geospatial Data Abstraction Library (GDAL) and provides a more Pythonic and user-friendly interface for working with raster data**."
   ]
  },
  {
   "cell_type": "markdown",
   "id": "b65dc706-bcd0-4578-804c-b94a98ef1180",
   "metadata": {},
   "source": [
    "### Role of Rasterio in Geospatial Analysis\n",
    "\n",
    "- Rasterio plays a crucial role in geospatial analysis by allowing users to easily manipulate and analyze raster data. Some of its main functions include:\n",
    "    - **Reading and writing raster data** in various formats (e.g., GeoTIFF, NetCDF).\n",
    "    - **Inspecting and modifying raster metadata**.\n",
    "    - Performing **coordinate transformations and georeferencing**.\n",
    "    - Visualizing and exporting raster data.\n",
    "    - Applying various raster operations, such as **cropping, resampling, and masking**.\n",
    "    - Conducting raster data analysis, including raster algebra and zonal statistics."
   ]
  },
  {
   "cell_type": "markdown",
   "id": "76c98c41-3388-47f4-99b8-cef7d8355f76",
   "metadata": {},
   "source": [
    "### Installation Instructions\n",
    "\n",
    "You can install Rasterio using pip or conda:\n",
    "\n",
    "```bash\n",
    "# Option 1\n",
    "!pip install rasterio\n",
    "\n",
    "# Option 2\n",
    "!mamba install -c conda-forge rasterio\n",
    "```"
   ]
  },
  {
   "cell_type": "markdown",
   "id": "763c4674-ee03-4950-8a80-dbcc8ed4bcce",
   "metadata": {},
   "source": [
    "## Raster Data Basics"
   ]
  },
  {
   "cell_type": "markdown",
   "id": "0bb275f0-3525-4dd3-80db-5f0a15be2785",
   "metadata": {},
   "source": [
    "### Introduction to Raster Data\n",
    "\n",
    "- Raster data is a type of geospatial data that represents **continuous phenomena**, such as **elevation**, **temperature**, or **land cover**. \n",
    "- It is organized in a **grid-like structure**, where each cell (or pixel) contains a value representing a specific attribute. \n",
    "- The spatial resolution of a raster dataset is determined by the size of its cells (i.e, pixel), with smaller cells providing higher resolution and more detailed information.\n",
    "\n",
    "### Raster Data Formats\n",
    "\n",
    "- **GeoTIFF**: A widely used format that supports georeferencing information embedded within the TIFF file. GeoTIFF files can store single or multiple bands of data and support various data types, such as integer and floating-point values.\n",
    "- **NetCDF**: A self-describing format commonly used in climate and oceanographic research. It supports multi-dimensional arrays and rich metadata, making it suitable for storing complex datasets.\n",
    "- `HDF`: A hierarchical data format designed to store and organize large amounts of scientific data. It is used by NASA for many of its remote sensing products.\n",
    "- `ERDAS Imagine` (.img): A proprietary format developed by Hexagon Geospatial for remote sensing and GIS applications.\n",
    "- `Esri Grid`: A proprietary format developed by Esri for storing raster data in ArcGIS.\n",
    "\n",
    "`Rasterio` supports reading and writing data in various formats, with the help of GDAL, a powerful geospatial data processing library.\n",
    "\n",
    "### Raster Bands\n",
    "\n",
    "- Raster data can have one or multiple bands, each representing a different attribute or measurement. \n",
    "- For example, a satellite image might have multiple bands representing different parts of the electromagnetic spectrum, such as visible light, near-infrared, and thermal infrared. \n",
    "- In `Rasterio`, **raster bands are represented as NumPy arrays, which makes it easy to perform mathematical operations and manipulate the data**.\n",
    "\n",
    "In the following sections, we will demonstrate how to work with raster data using `Rasterio`, including **reading, writing, and performing various operations on raster datasets**."
   ]
  },
  {
   "cell_type": "markdown",
   "id": "cd42bbdc-04e5-48be-b0b2-0621ea486dae",
   "metadata": {
    "tags": []
   },
   "source": [
    "## Reading Raster Data with Rasterio\n",
    "\n",
    "In this section, we will demonstrate how to open raster files, inspect their properties, and read their raster bands using Rasterio. We will use the downloaded elevation and raster data focusing on Kenya for our examples."
   ]
  },
  {
   "cell_type": "markdown",
   "id": "c7e747ce-582f-4077-94d3-82ef9205eda1",
   "metadata": {},
   "source": [
    "### Opening Raster Files\n",
    "\n",
    "To open a raster file in `Rasterio`, you can use the `rasterio.open()` function, which returns a DatasetReader object that you can use to access the raster data and its metadata."
   ]
  },
  {
   "cell_type": "code",
   "execution_count": null,
   "id": "e81ce8f2-8d72-496a-bb2b-1fbb217fce96",
   "metadata": {
    "tags": []
   },
   "outputs": [],
   "source": [
    "# Open the Nairobi elevation raster file\n",
    "nairobi_elevation_file = store / \"nairobi_elevation.tiff\"\n",
    "\n",
    "# Open the file\n",
    "with rio.open(nairobi_elevation_file) as src:\n",
    "    print(f\"Dataset opened: {src.name}\")"
   ]
  },
  {
   "cell_type": "markdown",
   "id": "99f373c0-bb45-425d-9a6b-fc7a0072ebb4",
   "metadata": {},
   "source": [
    "### Inspecting Raster Properties (Metadata)\n",
    "\n",
    "Once you have opened a raster file, you can access its properties, **such as the number of bands, dimensions, coordinate reference system (CRS), and geotransform**. These properties are part of the raster's metadata."
   ]
  },
  {
   "cell_type": "code",
   "execution_count": null,
   "id": "cfa8a50c-35d9-45a6-be0b-9ebe7f0760fa",
   "metadata": {
    "tags": []
   },
   "outputs": [],
   "source": [
    "img_transform = None\n",
    "\n",
    "with rio.open(nairobi_elevation_file) as src:\n",
    "    \n",
    "    print(f\"Number of bands: {src.count}\")\n",
    "    print(f\"Dimensions (width, height): ({src.width}, {src.height})\")\n",
    "    print(f\"Coordinate Reference System (CRS): {src.crs}\")\n",
    "    \n",
    "    img_transform = src.transform\n",
    "    print(f\"Geotransform:\")\n",
    "img_transform"
   ]
  },
  {
   "cell_type": "markdown",
   "id": "698c0185-6b0e-4ac4-87be-0b06c6859741",
   "metadata": {},
   "source": [
    "#### What is a `Geotransform`?\n",
    "\n",
    "- A `geotransform` is a set of 6 parameters that define **the relationship between raster pixel coordinates (`row`, `column`) and the corresponding geographic coordinates (`x`, `y`)** in a specific Coordinate Reference System (CRS). \n",
    "- It is used to convert raster pixel coordinates to real-world coordinates and vice versa. \n",
    "\n",
    "The geotransform parameters are typically represented as a tuple or list of six numbers, as follows:\n",
    "\n",
    "`(top_left_x, pixel_width, rotation_1, top_left_y, rotation_2, pixel_height)`\n",
    "\n",
    "- `top_left_x` and `top_left_y` are the geographic coordinates of the top-left corner of the raster (the origin).\n",
    "- `pixel_width` and `pixel_height` are the dimensions of each pixel in the raster's CRS units (e.g., meters, degrees). These values represent the spatial resolution of the raster.\n",
    "- `rotation_1` and `rotation_2` are the rotation terms, which define the orientation of the raster relative to the CRS. In most cases, these values are zero, indicating that the raster is oriented with the CRS's axes.\n",
    "\n",
    "By using the geotransform parameters, you can convert between pixel coordinates and geographic coordinates, enabling various spatial operations and analyses that involve real-world locations and distances."
   ]
  },
  {
   "cell_type": "code",
   "execution_count": null,
   "id": "5a2b4df8-d6da-4a1f-b705-2e09c0519f61",
   "metadata": {
    "tags": []
   },
   "outputs": [],
   "source": [
    "# Transform the upper-left coordinates\n",
    "x, y = img_transform * (0, 0)\n",
    "x, y"
   ]
  },
  {
   "cell_type": "markdown",
   "id": "cc9d8c67-51de-4893-8880-ef981f3f8f74",
   "metadata": {},
   "source": [
    "### Reading Raster Bands\n",
    "\n",
    "`Rasterio` makes it easy to read raster bands as `NumPy` arrays. You can use the `read()` method of a `DatasetReader` object to read a specific band or multiple bands at once."
   ]
  },
  {
   "cell_type": "code",
   "execution_count": null,
   "id": "04364fbc-91ea-45a7-baed-382c1783d457",
   "metadata": {
    "tags": []
   },
   "outputs": [],
   "source": [
    "with rio.open(nairobi_elevation_file) as src:\n",
    "    \n",
    "    # Read the first band (assuming it is a single-band raster)\n",
    "    band1 = src.read(1)\n",
    "    \n",
    "    print(f\"Band 1 data type: {band1.dtype}\")\n",
    "    print(f\"Band 1 shape: {band1.shape}\")\n",
    "    print(f\"Band 1 min, max values: {np.min(band1)}, {np.max(band1)}\")"
   ]
  },
  {
   "cell_type": "markdown",
   "id": "7e534d29-4454-4e48-9ae2-d8f7cea65ac2",
   "metadata": {},
   "source": [
    "Now you know how to open raster files, inspect their properties, and read their raster bands using Rasterio. In the following sections, we will explore more advanced operations and analysis techniques."
   ]
  },
  {
   "cell_type": "markdown",
   "id": "15ec5127-0373-4a2a-a164-b1064a58e6a4",
   "metadata": {},
   "source": [
    "## Coordinate Reference Systems and Transformations\n",
    "\n",
    "In this section, we will discuss coordinate systems in Rasterio, learn about georeferencing raster data, and transform raster coordinates."
   ]
  },
  {
   "cell_type": "markdown",
   "id": "88cb4923-9eea-4613-b395-464ef32d9bb9",
   "metadata": {},
   "source": [
    "### Coordinate Systems in Rasterio\n",
    "\n",
    "- `Rasterio`, like other geospatial libraries, uses Coordinate Reference Systems (CRS) to represent the spatial context of raster data. \n",
    "- A CRS defines how geographic coordinates (latitude, longitude) or projected coordinates (x, y) relate to the Earth's surface. \n",
    "- When working with raster data, it is essential to know the CRS being used and ensure that it is consistent with other geospatial datasets you are using for analysis.\n",
    "\n",
    "In `Rasterio`, the CRS is stored as a CRS object in the `DatasetReader`'s `crs` attribute. You can easily access and inspect the `CRS` of a raster dataset."
   ]
  },
  {
   "cell_type": "code",
   "execution_count": null,
   "id": "d1e26972-f122-407d-ba62-d9dc65af8bc8",
   "metadata": {
    "tags": []
   },
   "outputs": [],
   "source": [
    "with rio.open(nairobi_elevation_file) as src:\n",
    "    print(f\"Coordinate Reference System (CRS): {src.crs}\")"
   ]
  },
  {
   "cell_type": "markdown",
   "id": "244dd5e5-09dc-4f28-b423-5301b9b69469",
   "metadata": {},
   "source": [
    "### Georeferencing Raster Data\n",
    "\n",
    "- Georeferencing raster data involves defining the relationship between pixel coordinates and geographic coordinates in the raster's CRS. \n",
    "- This is accomplished using the `geotransform` parameters, which we discussed earlier. \n",
    "- Rasterio stores the **geotransform as an Affine object in the DatasetReader's transform attribute**."
   ]
  },
  {
   "cell_type": "code",
   "execution_count": null,
   "id": "49099a5d-c581-402d-8268-edfa46461c60",
   "metadata": {
    "tags": []
   },
   "outputs": [],
   "source": [
    "with rio.open(nairobi_elevation_file) as src:\n",
    "    print(f\"Geotransform: {src.transform}\")"
   ]
  },
  {
   "cell_type": "markdown",
   "id": "a7b2f478-ff99-4220-90bb-38b754814f64",
   "metadata": {},
   "source": [
    "### Transforming Raster Coordinates\n",
    "\n",
    "- You might need to transform raster coordinates between pixel coordinates and geographic coordinates, or between different CRSs.\n",
    "- To transform pixel coordinates to geographic coordinates, you can use the `xy()` method of the DatasetReader object:"
   ]
  },
  {
   "cell_type": "code",
   "execution_count": null,
   "id": "9bf1c2a3-295a-4611-ba47-1da56556a04c",
   "metadata": {
    "tags": []
   },
   "outputs": [],
   "source": [
    "with rio.open(nairobi_elevation_file) as src:\n",
    "    \n",
    "    # Transform the center pixel coordinates (width/2, height/2) to geographic coordinates\n",
    "    center_x, center_y = src.width // 2, src.height // 2\n",
    "    geo_x, geo_y = src.xy(center_y, center_x)\n",
    "    \n",
    "    print(f\"Center pixel coordinates: ({center_x}, {center_y})\")\n",
    "    print(f\"Geographic coordinates: ({geo_x}, {geo_y})\")"
   ]
  },
  {
   "cell_type": "markdown",
   "id": "d5ae547a-43ae-47a1-b1b4-223dd6ab8031",
   "metadata": {},
   "source": [
    "To transform geographic coordinates to pixel coordinates, you can use the `index()` method of the DatasetReader object:"
   ]
  },
  {
   "cell_type": "code",
   "execution_count": null,
   "id": "92ffd641-9761-4d91-a874-05ed7bf11e06",
   "metadata": {
    "tags": []
   },
   "outputs": [],
   "source": [
    "with rio.open(nairobi_elevation_file) as src:\n",
    "    \n",
    "    # Transform the geographic coordinates back to pixel coordinates\n",
    "    row, col = src.index(geo_x, geo_y)\n",
    "\n",
    "    print(f\"Pixel coordinates: ({col}, {row})\")"
   ]
  },
  {
   "cell_type": "markdown",
   "id": "86d6d6ad-c3da-4c7b-bb2d-c834067509f5",
   "metadata": {},
   "source": [
    "- To transform coordinates **between different CRSs**, you can use the `rasterio.warp.transform()` function. \n",
    "- This is particularly useful when you need to align raster data with vector data or other raster layers that use different CRSs."
   ]
  },
  {
   "cell_type": "code",
   "execution_count": null,
   "id": "ef61a338-2e27-4881-a886-5176c8b45595",
   "metadata": {
    "tags": []
   },
   "outputs": [],
   "source": [
    "with rio.open(nairobi_elevation_file) as src:\n",
    "\n",
    "    # Define the target CRS (EPSG:21097 - Kenya)\n",
    "    target_crs = 'EPSG:21097'\n",
    "    \n",
    "    # Transform the geographic coordinates to the target CRS\n",
    "    transformed_x, transformed_y = transform(src.crs, target_crs, [geo_x], [geo_y])\n",
    "    \n",
    "    print(f\"Transformed coordinates (WGS84): ({transformed_x[0]}, {transformed_y[0]})\")"
   ]
  },
  {
   "cell_type": "markdown",
   "id": "76025c37-b36c-4b8a-a69b-69bc0eca72f4",
   "metadata": {
    "tags": []
   },
   "source": [
    "In this section, we have covered coordinate systems in Rasterio, georeferencing raster data, and transforming raster coordinates. You should now have a good understanding of how to work with raster data and its spatial context using Rasterio. In the next sections, we will explore more advanced operations and analyses with raster data."
   ]
  },
  {
   "cell_type": "markdown",
   "id": "6c7141b4-887e-4354-8bdf-10b627d2ba0d",
   "metadata": {},
   "source": [
    "## Raster Data Visualization\n",
    "\n",
    "Visualizing raster data helps us explore and understand the spatial patterns and characteristics of the data. In this section, we will demonstrate how to visualize raster data using `Matplotlib`, a widely-used plotting library for Python. \n",
    "\n",
    "Optionally, we will also show how to visualize raster data using EarthPy, a library specifically designed for working with geospatial data."
   ]
  },
  {
   "cell_type": "markdown",
   "id": "ef02945d-83f9-4070-9f45-23dae5429a32",
   "metadata": {},
   "source": [
    "### Visualizing Raster Data using Matplotlib\n",
    "\n",
    "Matplotlib provides a simple and flexible way to create plots and visualizations for various types of data, including raster data. To visualize raster data using Matplotlib, we can use the `imshow()` function in conjunction with Rasterio to read the raster data."
   ]
  },
  {
   "cell_type": "code",
   "execution_count": null,
   "id": "e4916fac-6501-4353-99b4-33f880df27ee",
   "metadata": {
    "tags": []
   },
   "outputs": [],
   "source": [
    "with rio.open(nairobi_elevation_file) as src:\n",
    "    \n",
    "    # Read the first (and only) band as a 2D NumPy array\n",
    "    elevation_data = src.read(1)\n",
    "    \n",
    "    # Get the extents\n",
    "    bounds = src.bounds"
   ]
  },
  {
   "cell_type": "code",
   "execution_count": null,
   "id": "00b6437d-b235-45ec-abe5-9d3bbb451b0b",
   "metadata": {
    "tags": []
   },
   "outputs": [],
   "source": [
    "# Create a plot and display the raster data\n",
    "fig, ax = plt.subplots(figsize=(12, 8))\n",
    "im = ax.imshow(elevation_data, cmap=\"terrain\", alpha=.5, extent=[bounds.left, bounds.right, bounds.bottom, bounds.top])\n",
    "ctx.add_basemap(ax, crs=src.crs, alpha=.5)\n",
    "cb = fig.colorbar(im, ax=ax, label='Elevation (m)')\n",
    "plt.title('Nairobi Elevation')\n",
    "plt.show()"
   ]
  },
  {
   "cell_type": "markdown",
   "id": "575ee191-70a3-47aa-ad7f-69ccdc6bcde5",
   "metadata": {
    "tags": []
   },
   "source": [
    "## Raster Operations\n",
    "\n",
    "- Raster operations are essential for processing and analyzing raster data. In this section, we will cover several common raster operations, including:\n",
    "    - **Cropping**\n",
    "    - **Resampling**\n",
    "    - **Masking/filtering**."
   ]
  },
  {
   "cell_type": "markdown",
   "id": "8eb670a3-3d11-4aab-9a2b-c0495db3641e",
   "metadata": {},
   "source": [
    "### Cropping the Elevation Raster Data\n",
    "\n",
    "- Cropping raster data is a common operation to focus on a specific area of interest. In this example, we will crop the elevation data to the city of Nairobi, Kenya.\n",
    "- To crop the raster data, we first need to define the area of interest. We can use a polygon that represents the boundary of Nairobi. You can either create this polygon manually or load it from an existing file (e.g., a shapefile or GeoJSON). \n",
    "\n",
    "For this example, we will use a manually defined bounding box."
   ]
  },
  {
   "cell_type": "code",
   "execution_count": null,
   "id": "36a53fee-c438-4487-8d7c-32b4180fc51f",
   "metadata": {
    "tags": []
   },
   "outputs": [],
   "source": [
    "# Create the Nairobi box\n",
    "xmin, ymin, xmax, ymax = 36.66, -1.37, 37.06, -1.07\n",
    "nairobi_bbox = box(xmin, ymin, xmax, ymax)\n",
    "nairobi_bbox"
   ]
  },
  {
   "cell_type": "code",
   "execution_count": null,
   "id": "437a45f3-1327-4cfc-84d9-36c01c5cfd0a",
   "metadata": {
    "tags": []
   },
   "outputs": [],
   "source": [
    "# Load the bounding box as a GeoDataFrame\n",
    "nairobi_gdf = gpd.GeoDataFrame(geometry=[nairobi_bbox], crs=\"EPSG:4326\")\n",
    "\n",
    "# Verify that the bounding box covers Nairobi by plotting it:\n",
    "fig, ax = plt.subplots(figsize=(10, 10))\n",
    "_ = nairobi_gdf.plot(ax=ax, alpha=.33)\n",
    "ctx.add_basemap(ax=ax, crs=\"epsg:4326\")\n",
    "plt.show()"
   ]
  },
  {
   "cell_type": "markdown",
   "id": "40c90265-6700-4768-bc2f-a5ef601ef95a",
   "metadata": {},
   "source": [
    "Now, let's load and crop the elevation raster data to focus on Nairobi:"
   ]
  },
  {
   "cell_type": "code",
   "execution_count": null,
   "id": "cc9b878e-b395-4786-9271-5a58039bcedd",
   "metadata": {
    "tags": []
   },
   "outputs": [],
   "source": [
    "with rio.open(nairobi_elevation_file) as src:\n",
    "    \n",
    "    # Crop the raster data to the Nairobi bounding box\n",
    "    nairobi_elevation_data, nairobi_transform = rio_mask(src, nairobi_gdf.geometry, nodata=0.0, crop=True)\n",
    "\n",
    "# Plot the cropped raster data\n",
    "plt.figure(figsize=(7, 7))\n",
    "plt.imshow(nairobi_elevation_data[0], cmap='terrain')\n",
    "plt.colorbar(label='Elevation (m)')\n",
    "plt.title('Nairobi Elevation - Cropped')\n",
    "plt.show()"
   ]
  },
  {
   "cell_type": "markdown",
   "id": "2d577934-c114-4ab8-8d36-d2bbccc35be2",
   "metadata": {
    "tags": []
   },
   "source": [
    "### Resampling Raster Data\n",
    "\n",
    "Resampling raster data is often necessary when working with datasets of different resolutions or when reducing the file size. \n",
    "\n",
    "In this example, we will resample the original raster to a lower resolution."
   ]
  },
  {
   "cell_type": "code",
   "execution_count": null,
   "id": "7232dbfb-0892-4ad8-9128-da5d8fff22dd",
   "metadata": {
    "tags": []
   },
   "outputs": [],
   "source": [
    "resampling_factor = 32  # Factor by which to reduce the resolution\n",
    "\n",
    "with rio.open(nairobi_elevation_file) as src:\n",
    "    \n",
    "    # Resample the raster data using bilinear interpolation\n",
    "    resampled_elevation_data = src.read(1, \n",
    "                                        out_shape=(src.height // resampling_factor, src.width // resampling_factor),\n",
    "                                        resampling=Resampling.bilinear)\n",
    "\n",
    "# Plot the resampled raster data\n",
    "plt.figure(figsize=(12, 8))\n",
    "plt.imshow(resampled_elevation_data, cmap='terrain')\n",
    "plt.colorbar(label='Elevation (m)')\n",
    "plt.title('Nairobi Elevation - Resampled')\n",
    "plt.show()"
   ]
  },
  {
   "cell_type": "markdown",
   "id": "2ff91efb-c46e-4b4e-af34-45f6ed64249c",
   "metadata": {},
   "source": [
    "### Raster Masking and Filtering\n",
    "\n",
    "- Raster masking and filtering are useful for extracting specific information from raster data. \n",
    "- In this example, we will apply a mask to the elevation data to show only the areas above a certain elevation."
   ]
  },
  {
   "cell_type": "code",
   "execution_count": null,
   "id": "255ed177-f432-4474-9f30-10d7a3f724b7",
   "metadata": {
    "tags": []
   },
   "outputs": [],
   "source": [
    "elevation_threshold = 1800  # Elevation in meters\n",
    "\n",
    "with rio.open(nairobi_elevation_file) as src:\n",
    "\n",
    "    # Crop the raster data to the Nairobi bounding box\n",
    "    nairobi_elevation_data, nairobi_transform = rio_mask(src, nairobi_gdf.geometry, nodata=0.0, crop=True)"
   ]
  },
  {
   "cell_type": "code",
   "execution_count": null,
   "id": "93ff0754-19aa-4d91-a94a-94b66dee4270",
   "metadata": {
    "tags": []
   },
   "outputs": [],
   "source": [
    "# Convert the elevation data to a float array\n",
    "nairobi_elevation_data = nairobi_elevation_data.astype(float)\n",
    "\n",
    "# Apply the mask to the elevation data\n",
    "masked_elevation_data = nairobi_elevation_data.copy()\n",
    "masked_elevation_data[masked_elevation_data < elevation_threshold] = np.nan"
   ]
  },
  {
   "cell_type": "code",
   "execution_count": null,
   "id": "17e34d0f-58b2-4978-933b-6e99217d6800",
   "metadata": {
    "tags": []
   },
   "outputs": [],
   "source": [
    "# Plot the masked raster data\n",
    "plt.figure(figsize=(12, 8))\n",
    "plt.imshow(masked_elevation_data[0], cmap='terrain', extent=plotting_extent(src, nairobi_transform))\n",
    "plt.colorbar(label='Elevation (m)')\n",
    "plt.title('Nairobi Elevation - Masked')\n",
    "plt.show()"
   ]
  },
  {
   "cell_type": "markdown",
   "id": "06db545f-b41f-4468-8ed0-866a17625709",
   "metadata": {
    "tags": []
   },
   "source": [
    "## Raster Data Analysis\n",
    "\n",
    "In this section, we'll cover the following raster data analysis topics:\n",
    "\n",
    "- Raster data statistics\n",
    "- Raster algebra\n",
    "- Zonal statistics"
   ]
  },
  {
   "cell_type": "markdown",
   "id": "01d677df-0ed6-4c80-a33d-cc5ee571e5cd",
   "metadata": {},
   "source": [
    "### Raster Data Statistics\n",
    "\n",
    "Raster data statistics allow us to analyze the distribution and patterns of the data in a raster dataset. Common statistics include **minimum, maximum, mean, median, and standard deviation**. "
   ]
  },
  {
   "cell_type": "code",
   "execution_count": null,
   "id": "d74bea7d-a12b-4c9e-a532-090a2101fa86",
   "metadata": {
    "tags": []
   },
   "outputs": [],
   "source": [
    "# Compute raster statistics\n",
    "with rio.open(nairobi_elevation_file) as src:\n",
    "    elevation_band = src.read(1)\n",
    "    stats = {\n",
    "        'min': elevation_band.min(),\n",
    "        'max': elevation_band.max(),\n",
    "        'mean': elevation_band.mean(),\n",
    "        'median': np.median(elevation_band),\n",
    "        'std_dev': elevation_band.std()\n",
    "    }\n",
    "\n",
    "print(\"Elevation Statistics for Nairobi\")\n",
    "print(stats)"
   ]
  },
  {
   "cell_type": "markdown",
   "id": "69026ae4-fd01-44bf-91c3-415078761c00",
   "metadata": {},
   "source": [
    "### Raster Algebra\n",
    "\n",
    "Raster algebra involves performing mathematical operations on raster datasets, such as addition, subtraction, multiplication, and division. \n",
    "\n",
    "These operations can be performed between two raster datasets or between a raster dataset and a scalar value. In this example, we will demonstrate how to perform a simple raster algebra operation by adding a constant value to the Nairobi elevation dataset."
   ]
  },
  {
   "cell_type": "code",
   "execution_count": null,
   "id": "fd21e9e2-d2bc-457d-934b-2511d2ea8381",
   "metadata": {
    "tags": []
   },
   "outputs": [],
   "source": [
    "# Add 100 meters to the elevation data\n",
    "adjusted_elevation_data = elevation_band + 100\n",
    "\n",
    "# Compute and print the new statistics\n",
    "adjusted_stats = {\n",
    "    'min': adjusted_elevation_data.min(),\n",
    "    'max': adjusted_elevation_data.max(),\n",
    "    'mean': adjusted_elevation_data.mean(),\n",
    "    'median': np.median(adjusted_elevation_data),\n",
    "    'std_dev': adjusted_elevation_data.std()\n",
    "}\n",
    "\n",
    "print(\"Adjusted Elevation Statistics for Nairobi\")\n",
    "print(adjusted_stats)"
   ]
  },
  {
   "cell_type": "markdown",
   "id": "0da447a5-09ae-423a-b527-2722b1b6d516",
   "metadata": {},
   "source": [
    "### Zonal Statistics\n",
    "\n",
    "Zonal statistics refer to the computation of statistics for specific zones or regions within a raster dataset. This can be useful for understanding the distribution and patterns of data within specific regions. In this example, we will use the `rasterstats` library to compute zonal statistics for the Nairobi elevation data."
   ]
  },
  {
   "cell_type": "code",
   "execution_count": null,
   "id": "8d6d23c9-fcd0-43d1-8f9d-5932cf1fae3c",
   "metadata": {
    "tags": []
   },
   "outputs": [],
   "source": [
    "# Compute zonal statistics\n",
    "zonal_statistics = zonal_stats(nairobi_gdf, nairobi_elevation_file, stats=['min', 'max', 'mean', 'median', 'std'])\n",
    "\n",
    "# Print zonal statistics\n",
    "print(\"Zonal Statistics for Nairobi\")\n",
    "print(zonal_statistics)"
   ]
  },
  {
   "cell_type": "markdown",
   "id": "437a7534-e8c9-40d5-94d4-e3a98a62c065",
   "metadata": {},
   "source": [
    "In this section, we covered raster data statistics, raster algebra, and zonal statistics. These techniques allow you to perform various types of analysis on raster datasets."
   ]
  },
  {
   "cell_type": "markdown",
   "id": "a5550a09-ca3b-4483-95db-d42854f9c5de",
   "metadata": {},
   "source": [
    "## Writing Raster Data\n",
    "\n",
    "In this section, we'll cover the following topics:\n",
    "\n",
    "- Creating a new raster file.\n",
    "- Writing raster data to a file."
   ]
  },
  {
   "cell_type": "markdown",
   "id": "ca213b30-cfb0-4677-9d02-3e84c92231f3",
   "metadata": {},
   "source": [
    "### Creating a New Raster File\n",
    "\n",
    "To create a new raster file, we:\n",
    "1. first need to define the metadata for the file, such as the dimensions, data type, coordinate reference system, and geotransform. \n",
    "2. We can then use Rasterio's `rasterio.open()` function in write mode (`'w'`) to create the file.\n",
    "3. write the data to it."
   ]
  },
  {
   "cell_type": "code",
   "execution_count": null,
   "id": "b9f1888c-93c7-4c6e-a74c-a90d1d8fa39e",
   "metadata": {
    "tags": []
   },
   "outputs": [],
   "source": [
    "# Set the target file path\n",
    "output_filename = './data/raster/out_adjusted_nairobi_elevation.tif'\n",
    "\n",
    "# Define the metadata for the new raster file\n",
    "metadata = src.meta.copy()\n",
    "metadata.update({\n",
    "    'dtype': adjusted_elevation_data.dtype,\n",
    "    'count': 1\n",
    "})\n",
    "\n",
    "# Create a new raster file and write the adjusted elevation data\n",
    "with rio.open(output_filename, 'w', **metadata) as dst:\n",
    "    dst.write(adjusted_elevation_data, 1)"
   ]
  },
  {
   "cell_type": "markdown",
   "id": "1dfbad81-51c9-482e-abd6-3cc5757292d5",
   "metadata": {},
   "source": [
    "### Writing Raster Data to a File\n",
    "\n",
    "In the previous example, we wrote the adjusted elevation data to a new raster file. The same process can be used to write any raster data to a file. Just make sure to update the metadata with the appropriate values for your data before writing it to the file.\n",
    "\n",
    "Here's a generalized example of how to write raster data to a file using Rasterio:"
   ]
  },
  {
   "cell_type": "code",
   "execution_count": null,
   "id": "10074e4d-fc36-428b-aa9c-41fb570d8f39",
   "metadata": {
    "tags": []
   },
   "outputs": [],
   "source": [
    "with rio.open(nairobi_elevation_file) as src:\n",
    "\n",
    "    output_filename = './data/raster/your_output_file.tif'\n",
    "\n",
    "    # Define the metadata for the new raster file\n",
    "    metadata = {\n",
    "        'driver': 'GTiff',\n",
    "        'width': src.width,\n",
    "        'height': src.height,\n",
    "        'count': src.count,\n",
    "        'dtype': src.dtypes[0],\n",
    "        'crs': src.crs,\n",
    "        'transform': src.transform\n",
    "    }\n",
    "\n",
    "    # Create a new raster file and write your raster data\n",
    "    with rio.open(output_filename, 'w', **metadata) as dst:\n",
    "        for band_index in range(src.count):\n",
    "            dst.write(src.read(band_index + 1), band_index + 1)"
   ]
  },
  {
   "cell_type": "markdown",
   "id": "d54833d2-37ea-4011-8c2d-db49def7ef1d",
   "metadata": {
    "tags": []
   },
   "source": [
    "In this section, we covered how to create a new raster file and write raster data to it using `Rasterio`."
   ]
  },
  {
   "cell_type": "markdown",
   "id": "6945dcab-12ca-4841-96b6-f6724e7f2683",
   "metadata": {},
   "source": [
    "## Additional Resources and Further Reading\n",
    "\n",
    "1. [Rasterio Documentation](https://rasterio.readthedocs.io/en/latest/): The official Rasterio documentation is a comprehensive guide to the library, its functions, and usage examples. It's a great starting point for diving deeper into Rasterio.\n",
    "2. [Introduction to Raster Data Processing in Open Source Python](https://www.earthdatascience.org/courses/use-data-open-source-python/intro-raster-data-python/raster-data-processing/)\n",
    "3. [What is Raster Data](https://www.earthdatascience.org/courses/use-data-open-source-python/intro-raster-data-python/fundamentals-raster-data/).\n",
    "3. [Automating GIS Processes - Raster Data](https://automating-gis-processes.github.io): This online course by the University of Helsinki covers various topics related to GIS and geospatial analysis using Python, including raster data processing with Rasterio.\n",
    "4. [Rasterio GitHub Repository](https://github.com/mapbox/rasterio): The GitHub repository for Rasterio contains useful information, example code, and discussions on various issues related to the library.\n",
    "5. [Awesome Geospatial Python Libraries](https://github.com/sacridini/Awesome-Geospatial): For more general geospatial Python libraries, you can refer to the following list. Many of these libraries have tutorials and resources available to help you learn how to use them effectively.\n",
    "\n",
    "---"
   ]
  }
 ],
 "metadata": {
  "kernelspec": {
   "display_name": "Python 3 (ipykernel)",
   "language": "python",
   "name": "python3"
  },
  "language_info": {
   "codemirror_mode": {
    "name": "ipython",
    "version": 3
   },
   "file_extension": ".py",
   "mimetype": "text/x-python",
   "name": "python",
   "nbconvert_exporter": "python",
   "pygments_lexer": "ipython3",
   "version": "3.10.10"
  }
 },
 "nbformat": 4,
 "nbformat_minor": 5
}
