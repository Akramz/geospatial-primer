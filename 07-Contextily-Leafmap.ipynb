{
 "cells": [
  {
   "cell_type": "markdown",
   "id": "5f0e6d01-f08e-4e40-93ba-0a536303d722",
   "metadata": {},
   "source": [
    "# `Contextily` & `LeafMap`: Visualizating GeoSpatial Data\n",
    "\n",
    "1. [x] **Introduction**\n",
    "    - Brief introduction to Contextily and Leafmap\n",
    "    - Installation instructions\n",
    "2. [x] **Contextily**\n",
    "    - Introduction to basemaps and tile providers\n",
    "    - Adding basemaps to GeoPandas plots\n",
    "    - Converting coordinate reference systems for compatibility\n",
    "    - Caching and custom tile providers\n",
    "3. [x] **Leafmap**\n",
    "    - Introduction to interactive mapping with Leafmap\n",
    "    - Creating a basic Leafmap map\n",
    "    - Adding geometries (points, lines, polygons) to the map\n",
    "    - Adding GeoDataFrames to the map\n",
    "    - Styling and customization\n",
    "    - Using built-in tools (e.g., layer control, measure, drawing, etc.)\n",
    "4. [x] **Working with Raster Data in Leafmap**\n",
    "    - Adding raster data to the map\n",
    "    - Raster layer styling and customization\n",
    "    - Raster layer operations (e.g., clipping)\n",
    "5. [x] **Links to Contextily and Leafmap documentation, relevant tutorials, and other resources for learners to explore further**"
   ]
  },
  {
   "cell_type": "markdown",
   "id": "7b270722-f0c4-426c-9e65-50b9777572c5",
   "metadata": {},
   "source": [
    "# Introduction\n",
    "\n",
    "In this notebook, we will explore two Python libraries, `Contextily` and `Leafmap`, that can be used for creating beautiful and interactive maps with geospatial data.\n",
    "\n",
    "- **Contextily**: A library that allows you to add **basemaps** to your geospatial plots. It provides a simple interface to access different tile providers, cache tiles, and convert coordinate reference systems for compatibility.\n",
    "- **Leafmap**: A library built on top of **Folium**, **ipyleaflet**, and other mapping libraries, which simplifies the process of creating interactive maps with Python. It provides a wide range of tools for adding geometries, raster data, and `GeoDataFrames` to maps, as well as styling and customization options.\n",
    "\n",
    "In the following sections, we will learn about the features and functionalities of these libraries, and see how to create visually appealing and interactive maps with geospatial data in Python."
   ]
  },
  {
   "cell_type": "markdown",
   "id": "07937343-7c90-4b9b-bc0e-44e143d4a850",
   "metadata": {},
   "source": [
    "### Installation\n",
    "\n",
    "To install Contextily and Leafmap, you can use the following commands with either `pip` or `conda`.\n",
    "\n",
    "Using pip:\n",
    "```bash\n",
    "pip install contextily\n",
    "pip install leafmap\n",
    "```\n",
    "\n",
    "... or conda:\n",
    "\n",
    "```bash\n",
    "conda install -c conda-forge contextily\n",
    "conda install -c conda-forge leafmap\n",
    "```"
   ]
  },
  {
   "cell_type": "code",
   "execution_count": null,
   "id": "f4d63c3f-2b5a-4561-86c8-dbd2e993e14e",
   "metadata": {
    "tags": []
   },
   "outputs": [],
   "source": [
    "from IPython.core.debugger import set_trace\n",
    "from pathlib import Path\n",
    "import os\n",
    "\n",
    "import numpy as np\n",
    "import pandas as pd\n",
    "import matplotlib.pyplot as plt\n",
    "import geopandas as gpd\n",
    "import shapely\n",
    "import rasterio as rio\n",
    "from rasterio.plot import reshape_as_image"
   ]
  },
  {
   "cell_type": "code",
   "execution_count": null,
   "id": "f8dae27c-c4b5-41e2-926b-4ce5fcb8a85e",
   "metadata": {
    "tags": []
   },
   "outputs": [],
   "source": [
    "import leafmap\n",
    "import contextily as ctx\n",
    "ctx.set_cache_dir(\"/Users/akramz/.cache/\")"
   ]
  },
  {
   "cell_type": "markdown",
   "id": "d68ed0ad-6827-4878-bf32-ba3f8210d4c9",
   "metadata": {},
   "source": [
    "## Contextily\n",
    "\n",
    "Contextily is a Python library that makes it easy to add basemaps to your geospatial plots. It provides a simple interface to access different tile providers, cache tiles, and convert coordinate reference systems for compatibility. In this section, we'll explore how to use Contextily to enhance your GeoPandas plots with basemaps."
   ]
  },
  {
   "cell_type": "markdown",
   "id": "ce4d29b6-7d43-4198-b1eb-de518ad0a2f6",
   "metadata": {},
   "source": [
    "### Introduction to basemaps and tile providers\n",
    "\n",
    "**A basemap is a background map layer that provides context for the main data layers displayed on top of it**. **Basemaps often include features like roads, rivers, and administrative boundaries**, which help users understand the geography of the area being displayed.\n",
    "\n",
    "**Tile providers are web services that serve map tiles, which are small images that make up the basemap**. Different tile providers offer different styles and levels of detail. Contextily provides access to several popular tile providers, such as OpenStreetMap, Stamen, and CartoDB.\n",
    "\n",
    "To see the list of available tile providers in Contextily, you can use the `ctx.providers` object:"
   ]
  },
  {
   "cell_type": "code",
   "execution_count": null,
   "id": "662824bb-ece4-42c5-9b8c-5c41520e7a8d",
   "metadata": {
    "tags": []
   },
   "outputs": [],
   "source": [
    "ctx.providers"
   ]
  },
  {
   "cell_type": "markdown",
   "id": "e4c3f4c2-ce27-4b45-a338-9eaf444264a8",
   "metadata": {},
   "source": [
    "### Adding basemaps to GeoPandas plots\n",
    "\n",
    "To add a basemap to a GeoPandas plot, you first need to create a regular plot of your `GeoDataFrame`, and then use `Contextily` to add the basemap. \n",
    "\n",
    "Let's start by importing the necessary libraries and loading a sample GeoDataFrame."
   ]
  },
  {
   "cell_type": "code",
   "execution_count": null,
   "id": "c6ca4fe2-9bf9-448c-80c1-765c6b99176c",
   "metadata": {
    "tags": []
   },
   "outputs": [],
   "source": [
    "# Load a sample GeoDataFrame (replace the file path with your own data if needed)\n",
    "gdf = gpd.read_file(\"./data/vector/quartier_paris.geojson\")\n",
    "\n",
    "# Ensure the GeoDataFrame is in Web Mercator (EPSG:3857) CRS for compatibility with Contextily basemaps\n",
    "gdf = gdf.to_crs(epsg=3857)\n",
    "\n",
    "# Plot the GeoDataFrame\n",
    "ax = gdf.plot(figsize=(13, 10), alpha=.66, edgecolor='k')\n",
    "\n",
    "# Add the basemap\n",
    "ctx.add_basemap(ax, crs=gdf.crs, source=ctx.providers.Stamen.TonerLite)\n",
    "\n",
    "# Display the map\n",
    "ax.set_axis_off()"
   ]
  },
  {
   "cell_type": "markdown",
   "id": "e0a9f965-82a7-4a6f-a67d-09af07ce431e",
   "metadata": {
    "tags": []
   },
   "source": [
    "### Converting coordinate reference systems for compatibility\n",
    "\n",
    "Contextily basemaps are usually provided in the Web Mercator projection (`EPSG:3857`). To ensure compatibility between your data and the basemap, you should convert your GeoDataFrame to the same coordinate reference system (CRS) before plotting. You can use the `to_crs()` method in GeoPandas for this purpose:\n",
    "\n",
    "```python\n",
    "gdf = gdf.to_crs(epsg=3857)\n",
    "```"
   ]
  },
  {
   "cell_type": "markdown",
   "id": "86989e6e-8210-49b9-a432-fdc7d07d8fd6",
   "metadata": {},
   "source": [
    "### Caching and custom tile providers\n",
    "\n",
    "Contextily automatically caches the downloaded tiles to save bandwidth and improve performance. The cache is stored in a temporary directory, but you can specify a custom cache directory by setting the ctx.options.cache_path attribute:"
   ]
  },
  {
   "cell_type": "code",
   "execution_count": null,
   "id": "e866b717-b1f7-47b2-bf7f-c1dcbc3feed4",
   "metadata": {
    "tags": []
   },
   "outputs": [],
   "source": [
    "ctx.set_cache_dir(\"/Users/akramz/.cache/\")"
   ]
  },
  {
   "cell_type": "markdown",
   "id": "472e5c82-e689-4b24-8e25-3b65c407cb7a",
   "metadata": {},
   "source": [
    "If you want to use a custom tile provider, you can directly provide the URL:"
   ]
  },
  {
   "cell_type": "code",
   "execution_count": null,
   "id": "5f9936fa-8f77-4adc-82a6-91fcb7d8afb9",
   "metadata": {
    "tags": []
   },
   "outputs": [],
   "source": [
    "# Plot the GeoDataFrame\n",
    "ax = gdf.plot(figsize=(10, 10), alpha=0.5, edgecolor='k')\n",
    "\n",
    "# Add the custom basemap\n",
    "ctx.add_basemap(ax, source=\"http://www.google.cn/maps/vt?lyrs=s@189&gl=cn&x={x}&y={y}&z={z}\")\n",
    "\n",
    "# Display the map\n",
    "ax.set_axis_off()"
   ]
  },
  {
   "cell_type": "markdown",
   "id": "bdfd23ea-0f8c-4b62-bd97-ad17061782bc",
   "metadata": {},
   "source": [
    "## Leafmap\n",
    "\n",
    "`Leafmap` is a Python library that makes it easy to create interactive web maps using the popular Leaflet JavaScript library. \n",
    "\n",
    "With `Leafmap`, you can create and display interactive maps with various basemap providers, add vector data, and perform geospatial operations, all within a Jupyter notebook or standalone Python script. \n",
    "\n",
    "In this section, we'll explore how to create interactive maps using Leafmap and add data from `GeoPandas`."
   ]
  },
  {
   "cell_type": "markdown",
   "id": "1f6f9d48-f5be-4a6f-a7e3-6a845154afa7",
   "metadata": {},
   "source": [
    "### Creating an interactive map\n",
    "\n",
    "To create an interactive map with Leafmap, you first need to import the library and create a `Map` object. You can customize the initial view of the map by setting the center coordinates and zoom level. Here's an example of how to create a simple interactive map:"
   ]
  },
  {
   "cell_type": "code",
   "execution_count": null,
   "id": "7b5d6fcb-19bc-434f-b4ae-1a0356d37d12",
   "metadata": {
    "tags": []
   },
   "outputs": [],
   "source": [
    "# Create a Map object\n",
    "m = leafmap.Map(center=[0, 0])\n",
    "\n",
    "# Display the map\n",
    "m"
   ]
  },
  {
   "cell_type": "markdown",
   "id": "2767b258-d1ff-42e2-9a5a-4b87619eec9c",
   "metadata": {},
   "source": [
    "### Adding GeoPandas data to a Leafmap map\n",
    "\n",
    "To add data from a GeoDataFrame to a Leafmap map, you can use the `add_gdf()` method. This method takes your GeoDataFrame as input and adds it as a vector layer on the map. Make sure your GeoDataFrame is in the WGS 84 (EPSG:4326) CRS for compatibility with Leafmap. Here's an example of how to add a GeoDataFrame to a Leafmap map:"
   ]
  },
  {
   "cell_type": "code",
   "execution_count": null,
   "id": "3687168f-8b87-480d-93f8-fac681f0215b",
   "metadata": {
    "tags": []
   },
   "outputs": [],
   "source": [
    "# Load a sample GeoDataFrame (replace the file path with your own data if needed)\n",
    "gdf = gpd.read_file(\"./data/vector/quartier_paris.geojson\")\n",
    "\n",
    "# Ensure the GeoDataFrame is in WGS 84 (EPSG:4326) CRS for compatibility with Leafmap\n",
    "gdf = gdf.to_crs(epsg=4326)\n",
    "\n",
    "# Pick a map center from the centroids\n",
    "center = gdf.centroid.sample(1).iloc[0]\n",
    "\n",
    "# Create a Map object\n",
    "m = leafmap.Map(center=[center.x, center.y], zoom=13)\n",
    "\n",
    "# Add the GeoDataFrame to the map\n",
    "m.add_gdf(gdf, layer_name=\"My Layer\")\n",
    "\n",
    "# Display the map\n",
    "m"
   ]
  },
  {
   "cell_type": "markdown",
   "id": "913a6781-ba9d-47ff-b567-95b0ec246193",
   "metadata": {},
   "source": [
    "### Customizing map appearance and interactions\n",
    "\n",
    "`Leafmap` offers various options to customize the appearance and interactions of your map. You can change the `basemap`, add `map controls`, and `style` your vector data. \n",
    "\n",
    "Here's an example of how to customize a Leafmap map:"
   ]
  },
  {
   "cell_type": "code",
   "execution_count": null,
   "id": "c2f62645-61e5-4129-823c-c2ab60e18cea",
   "metadata": {
    "tags": []
   },
   "outputs": [],
   "source": [
    "# Pick a map center from the centroids\n",
    "center = gdf.centroid.sample(1).iloc[0]\n",
    "\n",
    "# Create a Map object\n",
    "m = leafmap.Map(center=[center.x, center.y], zoom=13)\n",
    "\n",
    "# Load a sample GeoDataFrame (replace the file path with your own data if needed)\n",
    "gdf = gpd.read_file(\"./data/vector/paris_districts_utm.geojson\")\n",
    "\n",
    "# Ensure the GeoDataFrame is in WGS 84 (EPSG:4326) CRS for compatibility with Leafmap\n",
    "gdf = gdf.to_crs(epsg=4326)\n",
    "\n",
    "# Define a custom style for the vector layer\n",
    "style = {\n",
    "    \"stroke\": True,\n",
    "    \"color\": \"black\",\n",
    "    \"weight\": 1,\n",
    "    \"opacity\": 1,\n",
    "    \"fill\": True,\n",
    "    \"fillColor\": \"white\",\n",
    "    \"fillOpacity\": .66\n",
    "}\n",
    "\n",
    "# Add the GeoDataFrame to the map with the custom style\n",
    "m.add_gdf(gdf, layer_name=\"Layer\", style=style)\n",
    "\n",
    "# Display the map\n",
    "m"
   ]
  },
  {
   "cell_type": "markdown",
   "id": "5d93918b-a436-4c3e-bc0b-39056b17741b",
   "metadata": {},
   "source": [
    "## Working with Raster Data in Leafmap\n",
    "\n",
    "Leafmap also supports working with raster data. In this section, we will cover:\n",
    "\n",
    "- Adding raster data to the map\n",
    "- Raster layer styling and customization\n",
    "- Raster layer operations, such as clipping"
   ]
  },
  {
   "cell_type": "markdown",
   "id": "16ac7577-f9a4-4d88-9363-8a10fcacacb4",
   "metadata": {},
   "source": [
    "### Adding Raster Data to the Map"
   ]
  },
  {
   "cell_type": "code",
   "execution_count": null,
   "id": "0176bfb2-936c-4ef3-b81e-d4abd62aacba",
   "metadata": {
    "tags": []
   },
   "outputs": [],
   "source": [
    "# Load the raster data (replace the file path with your own data if needed)\n",
    "raster_file = \"./data/raster/kenya_elevation.tif\"\n",
    "\n",
    "# Open the raster data using rasterio\n",
    "with rio.open(raster_file) as src:\n",
    "    \n",
    "    # Read all raster bands as a NumPy array\n",
    "    raster_data = src.read()\n",
    "    \n",
    "    # Get the raster transform and crs\n",
    "    transform = src.transform\n",
    "    crs = src.crs\n",
    "    \n",
    "    # Get the bounds\n",
    "    xmin, ymin, xmax, ymax = tuple(src.bounds)"
   ]
  },
  {
   "cell_type": "code",
   "execution_count": null,
   "id": "43db573d-0c49-40ed-b16e-16c8b600f57c",
   "metadata": {
    "tags": []
   },
   "outputs": [],
   "source": [
    "# Convert the raster data to an image (H, W, B)\n",
    "raster_image = reshape_as_image(raster_data)\n",
    "raster_image.shape"
   ]
  },
  {
   "cell_type": "code",
   "execution_count": null,
   "id": "bd9e1395-fbba-45e1-8c40-692b9f59acb4",
   "metadata": {
    "tags": []
   },
   "outputs": [],
   "source": [
    "# Create a map object centered on the raster data\n",
    "m = leafmap.Map(center=((ymin+ymax)/2, (xmin+xmax)/2), zoom=8)\n",
    "m"
   ]
  },
  {
   "cell_type": "markdown",
   "id": "e6503861-62d5-4c35-b927-0e1b54a03b4b",
   "metadata": {},
   "source": [
    "We now add the raster image to the map:"
   ]
  },
  {
   "cell_type": "code",
   "execution_count": null,
   "id": "039b640a-8256-42f6-93ce-4c4c42b43949",
   "metadata": {
    "tags": []
   },
   "outputs": [],
   "source": [
    "# Add the raster data as an ImageOverlay to the map\n",
    "m.add_raster(raster_file, opacity=.75)"
   ]
  },
  {
   "cell_type": "markdown",
   "id": "14cec25b-1d2e-4ccc-942a-474774887801",
   "metadata": {
    "tags": []
   },
   "source": [
    "## Additional Resources and Further Reading\n",
    "\n",
    "To learn more about Contextily and Leafmap, you can explore the following resources:\n",
    "\n",
    "1. Contextily documentation: [https://contextily.readthedocs.io](https://contextily.readthedocs.io)\n",
    "2. Contextily GitHub repository: [https://github.com/darribas/contextily](https://github.com/darribas/contextily)\n",
    "3. Leafmap documentation: [https://leafmap.org](https://leafmap.org)\n",
    "4. Leafmap GitHub repository: [https://github.com/giswqs/leafmap](https://github.com/giswqs/leafmap)\n",
    "5. Leaflet JavaScript library: [https://leafletjs.com](https://leafletjs.com)\n",
    "6. Contextily tutorial: [https://geopandas.org/gallery/plotting_basemap_background.html](https://geopandas.org/gallery/plotting_basemap_background.html)\n",
    "\n",
    "---"
   ]
  }
 ],
 "metadata": {
  "kernelspec": {
   "display_name": "Python 3 (ipykernel)",
   "language": "python",
   "name": "python3"
  },
  "language_info": {
   "codemirror_mode": {
    "name": "ipython",
    "version": 3
   },
   "file_extension": ".py",
   "mimetype": "text/x-python",
   "name": "python",
   "nbconvert_exporter": "python",
   "pygments_lexer": "ipython3",
   "version": "3.10.10"
  }
 },
 "nbformat": 4,
 "nbformat_minor": 5
}
