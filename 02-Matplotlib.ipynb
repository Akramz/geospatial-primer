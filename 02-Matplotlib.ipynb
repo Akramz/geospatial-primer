{
 "cells": [
  {
   "cell_type": "markdown",
   "metadata": {},
   "source": [
    "# Scientific Visualization"
   ]
  },
  {
   "cell_type": "code",
   "execution_count": null,
   "metadata": {
    "ExecuteTime": {
     "end_time": "2018-01-28T18:51:57.841456Z",
     "start_time": "2018-01-28T18:51:57.835813Z"
    },
    "tags": []
   },
   "outputs": [],
   "source": [
    "import numpy as np\n",
    "import matplotlib.pyplot as plt"
   ]
  },
  {
   "cell_type": "markdown",
   "metadata": {},
   "source": [
    "## Introduction\n",
    "\n",
    "Data visualization is one of the most important aspects of data analysis. Besides just producing **readable** plots, we should make an effort the improve the overall quality of the plots. \n",
    "\n",
    "`Matplotlib` is a powerful packafe for *Python* users.\n",
    "\n",
    "Let's start with an example:"
   ]
  },
  {
   "cell_type": "markdown",
   "metadata": {},
   "source": [
    "We first generate random sample data:"
   ]
  },
  {
   "cell_type": "code",
   "execution_count": null,
   "metadata": {
    "tags": []
   },
   "outputs": [],
   "source": [
    "# Generate X-axis coordinate values\n",
    "X = np.arange(10)\n",
    "\n",
    "# Linear with added noise\n",
    "y = 3*X + 2 + np.random.random(size=X.size)*2\n",
    "\n",
    "# Print the data\n",
    "print(X)\n",
    "print(y)"
   ]
  },
  {
   "cell_type": "markdown",
   "metadata": {},
   "source": [
    "To plot a simple scatter plot, we can use the `plt.scatter()` function:"
   ]
  },
  {
   "cell_type": "code",
   "execution_count": null,
   "metadata": {
    "tags": []
   },
   "outputs": [],
   "source": [
    "plt.scatter(X, y)"
   ]
  },
  {
   "cell_type": "markdown",
   "metadata": {
    "ExecuteTime": {
     "end_time": "2018-01-28T18:52:01.719648Z",
     "start_time": "2018-01-28T18:52:01.480937Z"
    }
   },
   "source": [
    "Let's try to make it better:"
   ]
  },
  {
   "cell_type": "code",
   "execution_count": null,
   "metadata": {
    "tags": []
   },
   "outputs": [],
   "source": [
    "# Use `+` as a marker\n",
    "# Color set as `g` (green)\n",
    "# The point size is proportional to `Y` values\n",
    "plt.scatter(X, y, marker=\"+\", c=\"g\", s=y*10)\n",
    "\n",
    "# We add a line to the plot using `plt.plot()`\n",
    "# Set the line style to dashed\n",
    "# The color is set to `k` (black)\n",
    "plt.plot(X, y, linestyle=\"dashed\", color=\"k\")\n",
    "\n",
    "# Set the x/y axis limits\n",
    "# The first two values are xlow and xhigh\n",
    "# The last two values are ylow and yhigh\n",
    "plt.axis([0, 10, 0, 35])\n",
    "\n",
    "# Set the axes labels\n",
    "plt.xlabel(\"My X Axis\")\n",
    "plt.ylabel(\"My Y Axis\")\n",
    "\n",
    "# Set the figure title\n",
    "plt.title(\"My First plot\")"
   ]
  },
  {
   "cell_type": "markdown",
   "metadata": {},
   "source": [
    "### The Anatomy of a Figure\n",
    "\n",
    "Before we go deeper, let's take a look at the structure of a figure in `matplotlib`:\n",
    "\n",
    "<img width=700 src=\"https://matplotlib.org/_images/anatomy1.png\">\n",
    "\n",
    "As you can see, we have set values for many of the elements. There is no need to memorize them, though. We can always Google and find information on specific parts that we want to update."
   ]
  },
  {
   "cell_type": "markdown",
   "metadata": {},
   "source": [
    "### How to Build a Figure?\n",
    "\n",
    "We recommend the following flow of defining and building a `matplotlib` figure:\n",
    "\n",
    "1. Create a figure object (which contains all sub-plots).\n",
    "2. Create the axes that control specific plots in the future.\n",
    "3. Set the figure size.\n",
    "4. Use the individual ax's to plot. \n",
    "\n",
    "Example:"
   ]
  },
  {
   "cell_type": "code",
   "execution_count": null,
   "metadata": {
    "tags": []
   },
   "outputs": [],
   "source": [
    "# `plt.subplots()` returns a figure object that contains the whole view\n",
    "# .. it also returns `axes` that controls specific subplots in the figure\n",
    "# Here, our \"subplots\" layout is by default 1 row and 1 col and therefore contains 1 plot\n",
    "fig, ax = plt.subplots(figsize=(3, 3))\n",
    "\n",
    "# We should plot on the `axis` object: ax\n",
    "_ = ax.plot(X, y)"
   ]
  },
  {
   "cell_type": "markdown",
   "metadata": {},
   "source": [
    "Let's reproduce the previous figure following the mentioned methodology:"
   ]
  },
  {
   "cell_type": "code",
   "execution_count": null,
   "metadata": {
    "tags": []
   },
   "outputs": [],
   "source": [
    "fig, ax = plt.subplots(figsize=(5, 5))\n",
    "\n",
    "# Plot the markers\n",
    "ax.scatter(X, y, marker=\"+\", c=\"g\", s=y*10)\n",
    "\n",
    "# Plot the dashed line on the same subplot\n",
    "ax.plot(X, y, linestyle=\"dashed\", color=\"k\")\n",
    "\n",
    "# Set the extent of the axis\n",
    "ax.axis([0, 10, 0, 35])\n",
    "\n",
    "# Set the axis labels\n",
    "ax.set_xlabel(\"My X Axis\")\n",
    "ax.set_ylabel(\"My y Axis\")\n",
    "\n",
    "# Set the title\n",
    "ax.set_title(\"My First Plot\")"
   ]
  },
  {
   "cell_type": "markdown",
   "metadata": {},
   "source": [
    "This outlined methodology is especially useful when handling multiple plots in one figure.\n",
    "\n",
    "Let's use an example of 4 plots using a 2 by 2 layout:"
   ]
  },
  {
   "cell_type": "code",
   "execution_count": null,
   "metadata": {
    "tags": []
   },
   "outputs": [],
   "source": [
    "fig, axes = plt.subplots(nrows=2, ncols=2, figsize=(5,5))\n",
    "axes.shape"
   ]
  },
  {
   "cell_type": "markdown",
   "metadata": {},
   "source": [
    "We can plot in each of them by selecting the subplots of interest and using \"plot()\":"
   ]
  },
  {
   "cell_type": "code",
   "execution_count": null,
   "metadata": {
    "tags": []
   },
   "outputs": [],
   "source": [
    "fig, axes = plt.subplots(nrows=2, ncols=2, figsize=(5,5))\n",
    "for row in range(2):\n",
    "    for col in range(2):\n",
    "        axes[row][col].plot(X, y)"
   ]
  },
  {
   "cell_type": "markdown",
   "metadata": {},
   "source": [
    "## Other Plot Types"
   ]
  },
  {
   "cell_type": "markdown",
   "metadata": {},
   "source": [
    "### Histogram"
   ]
  },
  {
   "cell_type": "markdown",
   "metadata": {},
   "source": [
    "Let's generate normally-distributed data to demonstrate:"
   ]
  },
  {
   "cell_type": "code",
   "execution_count": null,
   "metadata": {
    "tags": []
   },
   "outputs": [],
   "source": [
    "mu, sig = 15, 1\n",
    "arr = np.random.normal(mu, sig, size=10_000)\n",
    "arr.shape, np.mean(arr), np.std(arr)"
   ]
  },
  {
   "cell_type": "markdown",
   "metadata": {},
   "source": [
    "Let's plot the distribution as a histogram:"
   ]
  },
  {
   "cell_type": "code",
   "execution_count": null,
   "metadata": {
    "tags": []
   },
   "outputs": [],
   "source": [
    "fig, ax = plt.subplots(figsize=(5,3))\n",
    "_ = ax.hist(arr, bins=50)"
   ]
  },
  {
   "cell_type": "markdown",
   "metadata": {},
   "source": [
    "We can customize the plot to make it better:"
   ]
  },
  {
   "cell_type": "code",
   "execution_count": null,
   "metadata": {
    "tags": []
   },
   "outputs": [],
   "source": [
    "fig, ax = plt.subplots(figsize=(5, 3))\n",
    "_ = ax.hist(arr, facecolor=\"g\", alpha=.3)\n",
    "\n",
    "# Add the grid\n",
    "ax.grid()"
   ]
  },
  {
   "cell_type": "markdown",
   "metadata": {},
   "source": [
    "### Boxplot\n",
    "\n",
    "Instead of plotting a histogram, we can try a boxplot:"
   ]
  },
  {
   "cell_type": "code",
   "execution_count": null,
   "metadata": {
    "tags": []
   },
   "outputs": [],
   "source": [
    "fig, ax = plt.subplots(figsize=(5,5))\n",
    "_ = ax.boxplot(arr,\n",
    "               vert=False,  # Verticle\n",
    "               showfliers=False,  # Do no show outliers\n",
    "               showmeans=True,  # Show the mean\n",
    "               labels=[\"Gaussian\"]  # Group name (label)\n",
    "          )"
   ]
  },
  {
   "cell_type": "markdown",
   "metadata": {},
   "source": [
    "### Bar chart\n",
    "\n",
    "Let's generate random data for a bar chart:"
   ]
  },
  {
   "cell_type": "code",
   "execution_count": null,
   "metadata": {
    "tags": []
   },
   "outputs": [],
   "source": [
    "bars = np.array([\"Spring\", \"Summer\", \"Fall\", \"Winter\"])\n",
    "\n",
    "# Generate 4 random integers for the 4 categories\n",
    "freq_arr = np.random.randint(0, 100, 4)\n",
    "freq_arr"
   ]
  },
  {
   "cell_type": "markdown",
   "metadata": {},
   "source": [
    "We can also add error values:"
   ]
  },
  {
   "cell_type": "code",
   "execution_count": null,
   "metadata": {
    "tags": []
   },
   "outputs": [],
   "source": [
    "err_arr = np.random.randint(5, 10, 4)\n",
    "err_arr"
   ]
  },
  {
   "cell_type": "markdown",
   "metadata": {},
   "source": [
    "Finally, we plot category values and their errors:"
   ]
  },
  {
   "cell_type": "code",
   "execution_count": null,
   "metadata": {
    "tags": []
   },
   "outputs": [],
   "source": [
    "fig, ax = plt.subplots(figsize=(5,5))\n",
    "_ = ax.bar(bars, freq_arr,  # X and Y\n",
    "           yerr=err_arr,  # Error values\n",
    "           color=\"gold\")"
   ]
  },
  {
   "cell_type": "markdown",
   "metadata": {},
   "source": [
    "### Group These Plots Together!"
   ]
  },
  {
   "cell_type": "code",
   "execution_count": null,
   "metadata": {
    "tags": []
   },
   "outputs": [],
   "source": [
    "fig, axes = plt.subplots(nrows=2, ncols=2, figsize=(10, 6),\n",
    "                         # Let their scales be different\n",
    "                         sharex=False, sharey=False)\n",
    "\n",
    "# Set the global title\n",
    "fig.suptitle(\"My first Subplots figure\")\n",
    "\n",
    "# The first subplot\n",
    "axes[0, 0].scatter(X, y, marker=\"+\", c=\"g\", s=y*10)\n",
    "axes[0, 0].plot(X, y, linestyle=\"dashed\", color=\"k\")\n",
    "axes[0, 0].axis([0, 10, 0, 35])\n",
    "axes[0, 0].set_title(\"My first Plot\")\n",
    "\n",
    "# The second plot\n",
    "axes[0, 1].hist(arr, facecolor=\"g\", alpha=.3)\n",
    "axes[0, 1].set_title(\"Histogram\")\n",
    "\n",
    "# The third plot\n",
    "axes[1, 0].boxplot(arr, vert=False, showfliers=False, showmeans=True, labels=[\"Gaussian\"])\n",
    "axes[1, 0].set_title(\"Box plot\")\n",
    "\n",
    "# The fourth and last subplot\n",
    "axes[1, 1].bar(bars, freq_arr, yerr=err_arr, color=\"gold\")\n",
    "axes[1, 1].set_title(\"Bar chart\")"
   ]
  },
  {
   "cell_type": "markdown",
   "metadata": {},
   "source": [
    "## Seaborn\n",
    "\n",
    "Finally, we introduce [`seaborn`](https://seaborn.pydata.org/). This package helps a lot in producing good-looking plots for journal/conference submissions.\n",
    "\n",
    "Let's demonstrate seaborn using two examples:"
   ]
  },
  {
   "cell_type": "code",
   "execution_count": null,
   "metadata": {
    "ExecuteTime": {
     "end_time": "2018-01-28T18:52:51.087827Z",
     "start_time": "2018-01-28T18:52:51.082151Z"
    },
    "tags": []
   },
   "outputs": [],
   "source": [
    "import seaborn as sns"
   ]
  },
  {
   "cell_type": "markdown",
   "metadata": {},
   "source": [
    "#### Example 1: Heatmap"
   ]
  },
  {
   "cell_type": "markdown",
   "metadata": {},
   "source": [
    "Let's use the example of a correlation matrix by loading the `iris` dataframe:"
   ]
  },
  {
   "cell_type": "code",
   "execution_count": null,
   "metadata": {
    "tags": []
   },
   "outputs": [],
   "source": [
    "df = sns.load_dataset(\"iris\")\n",
    "df.head()"
   ]
  },
  {
   "cell_type": "markdown",
   "metadata": {},
   "source": [
    "Let's get the correlation between the first 3 columns:"
   ]
  },
  {
   "cell_type": "code",
   "execution_count": null,
   "metadata": {
    "tags": []
   },
   "outputs": [],
   "source": [
    "corrs = df[df.columns[:3]].corr()\n",
    "corrs"
   ]
  },
  {
   "cell_type": "markdown",
   "metadata": {},
   "source": [
    "Plotting a headmap in `seaborn` is straightforward:"
   ]
  },
  {
   "cell_type": "code",
   "execution_count": null,
   "metadata": {
    "tags": []
   },
   "outputs": [],
   "source": [
    "fig, ax = plt.subplots(figsize=(5,5))\n",
    "_ = sns.heatmap(corrs,\n",
    "                annot=True,  # Show the values\n",
    "                fmt=\".2f\",  # Set the format of the values\n",
    "                cmap=sns.light_palette(\"#F4D03F\", as_cmap=True),  # Set the color map to be used.\n",
    "                ax=ax # Set the used subplot by seaborn\n",
    "           )"
   ]
  },
  {
   "cell_type": "markdown",
   "metadata": {},
   "source": [
    "### Example 2: Linear regression\n",
    "\n",
    "Using the same dataset, let's plot the bivariate regression between sepal length and width for different species:"
   ]
  },
  {
   "cell_type": "code",
   "execution_count": null,
   "metadata": {
    "tags": []
   },
   "outputs": [],
   "source": [
    "_ = sns.lmplot(\n",
    "    x=\"sepal_length\", y=\"sepal_width\",\n",
    "    data=df,  # The dataframe to be used\n",
    "    col=\"species\",  # Separate the subplots into columns using \"species\"\n",
    "    hue=\"species\",  # Set different colors for different species.\n",
    "    col_wrap=3,  # Each figure row should have at maximum 3 subplots\n",
    "    ci=None,  # Do not show confidence intervals\n",
    "    palette=\"muted\",  # Color pallet to use\n",
    ")"
   ]
  },
  {
   "cell_type": "markdown",
   "metadata": {},
   "source": [
    "# Resources\n",
    "\n",
    "- https://matplotlib.org/users/pyplot_tutorial.html\n",
    "- https://matplotlib.org/faq/usage_faq.html#parts-of-a-figure\n",
    "- https://seaborn.pydata.org/examples/index.html\n",
    "\n",
    "# Credit\n",
    "\n",
    "[Zhiya Zuo](https://github.com/zhiyzuo)'s [python tutorials](https://github.com/zhiyzuo/python-tutorial).\n",
    "\n",
    "---"
   ]
  }
 ],
 "metadata": {
  "kernelspec": {
   "display_name": "Python 3 (ipykernel)",
   "language": "python",
   "name": "python3"
  },
  "language_info": {
   "codemirror_mode": {
    "name": "ipython",
    "version": 3
   },
   "file_extension": ".py",
   "mimetype": "text/x-python",
   "name": "python",
   "nbconvert_exporter": "python",
   "pygments_lexer": "ipython3",
   "version": "3.10.10"
  },
  "toc": {
   "nav_menu": {},
   "number_sections": true,
   "sideBar": true,
   "skip_h1_title": false,
   "toc_cell": false,
   "toc_position": {
    "height": "888px",
    "left": "0px",
    "right": "1583px",
    "top": "92px",
    "width": "337px"
   },
   "toc_section_display": "block",
   "toc_window_display": true
  },
  "varInspector": {
   "cols": {
    "lenName": 16,
    "lenType": 16,
    "lenVar": 40
   },
   "kernels_config": {
    "python": {
     "delete_cmd_postfix": "",
     "delete_cmd_prefix": "del ",
     "library": "var_list.py",
     "varRefreshCmd": "print(var_dic_list())"
    },
    "r": {
     "delete_cmd_postfix": ") ",
     "delete_cmd_prefix": "rm(",
     "library": "var_list.r",
     "varRefreshCmd": "cat(var_dic_list()) "
    }
   },
   "types_to_exclude": [
    "module",
    "function",
    "builtin_function_or_method",
    "instance",
    "_Feature"
   ],
   "window_display": false
  }
 },
 "nbformat": 4,
 "nbformat_minor": 4
}
